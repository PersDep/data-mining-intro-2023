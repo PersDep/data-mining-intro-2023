{
  "nbformat": 4,
  "nbformat_minor": 5,
  "metadata": {
    "kernelspec": {
      "display_name": "Python 3",
      "language": "python",
      "name": "python3"
    },
    "language_info": {
      "codemirror_mode": {
        "name": "ipython",
        "version": 3
      },
      "file_extension": ".py",
      "mimetype": "text/x-python",
      "name": "python",
      "nbconvert_exporter": "python",
      "pygments_lexer": "ipython3",
      "version": "3.8.8"
    },
    "colab": {
      "name": "ws13-rf.ipynb",
      "provenance": []
    },
    "widgets": {
      "application/vnd.jupyter.widget-state+json": {
        "b23b4889077442bea1a6472caf71489c": {
          "model_module": "@jupyter-widgets/controls",
          "model_name": "HBoxModel",
          "model_module_version": "2.0.0",
          "state": {
            "_dom_classes": [],
            "_model_module": "@jupyter-widgets/controls",
            "_model_module_version": "2.0.0",
            "_model_name": "HBoxModel",
            "_view_count": null,
            "_view_module": "@jupyter-widgets/controls",
            "_view_module_version": "2.0.0",
            "_view_name": "HBoxView",
            "box_style": "",
            "children": [
              "IPY_MODEL_b2360a1e3134451fb170570f4d033236",
              "IPY_MODEL_76823c8d832b43589c1c247ead355132",
              "IPY_MODEL_995578499ab342eb875ba6bd80807198"
            ],
            "layout": "IPY_MODEL_c887ffc81b6a435682b40997a97335f9",
            "tabbable": null,
            "tooltip": null
          }
        },
        "b2360a1e3134451fb170570f4d033236": {
          "model_module": "@jupyter-widgets/controls",
          "model_name": "HTMLModel",
          "model_module_version": "2.0.0",
          "state": {
            "_dom_classes": [],
            "_model_module": "@jupyter-widgets/controls",
            "_model_module_version": "2.0.0",
            "_model_name": "HTMLModel",
            "_view_count": null,
            "_view_module": "@jupyter-widgets/controls",
            "_view_module_version": "2.0.0",
            "_view_name": "HTMLView",
            "description": "",
            "description_allow_html": false,
            "layout": "IPY_MODEL_2e484e8894f84ae9a8491f62ad441cc4",
            "placeholder": "​",
            "style": "IPY_MODEL_c956a9fe1b164abab0426c8b1ffa5ec6",
            "tabbable": null,
            "tooltip": null,
            "value": "100%"
          }
        },
        "76823c8d832b43589c1c247ead355132": {
          "model_module": "@jupyter-widgets/controls",
          "model_name": "FloatProgressModel",
          "model_module_version": "2.0.0",
          "state": {
            "_dom_classes": [],
            "_model_module": "@jupyter-widgets/controls",
            "_model_module_version": "2.0.0",
            "_model_name": "FloatProgressModel",
            "_view_count": null,
            "_view_module": "@jupyter-widgets/controls",
            "_view_module_version": "2.0.0",
            "_view_name": "ProgressView",
            "bar_style": "success",
            "description": "",
            "description_allow_html": false,
            "layout": "IPY_MODEL_3f1928996db64094abd40692b53c7eae",
            "max": 26421880,
            "min": 0,
            "orientation": "horizontal",
            "style": "IPY_MODEL_d4e7316f3c874f6fb21778de37eae110",
            "tabbable": null,
            "tooltip": null,
            "value": 26421880
          }
        },
        "995578499ab342eb875ba6bd80807198": {
          "model_module": "@jupyter-widgets/controls",
          "model_name": "HTMLModel",
          "model_module_version": "2.0.0",
          "state": {
            "_dom_classes": [],
            "_model_module": "@jupyter-widgets/controls",
            "_model_module_version": "2.0.0",
            "_model_name": "HTMLModel",
            "_view_count": null,
            "_view_module": "@jupyter-widgets/controls",
            "_view_module_version": "2.0.0",
            "_view_name": "HTMLView",
            "description": "",
            "description_allow_html": false,
            "layout": "IPY_MODEL_84e1271abf104cbe8435dd8ddc1af9fc",
            "placeholder": "​",
            "style": "IPY_MODEL_65199efe6c8846cdacbd17f009de07fe",
            "tabbable": null,
            "tooltip": null,
            "value": " 26421880/26421880 [00:00&lt;00:00, 37086747.59it/s]"
          }
        },
        "c887ffc81b6a435682b40997a97335f9": {
          "model_module": "@jupyter-widgets/base",
          "model_name": "LayoutModel",
          "model_module_version": "2.0.0",
          "state": {
            "_model_module": "@jupyter-widgets/base",
            "_model_module_version": "2.0.0",
            "_model_name": "LayoutModel",
            "_view_count": null,
            "_view_module": "@jupyter-widgets/base",
            "_view_module_version": "2.0.0",
            "_view_name": "LayoutView",
            "align_content": null,
            "align_items": null,
            "align_self": null,
            "border_bottom": null,
            "border_left": null,
            "border_right": null,
            "border_top": null,
            "bottom": null,
            "display": null,
            "flex": null,
            "flex_flow": null,
            "grid_area": null,
            "grid_auto_columns": null,
            "grid_auto_flow": null,
            "grid_auto_rows": null,
            "grid_column": null,
            "grid_gap": null,
            "grid_row": null,
            "grid_template_areas": null,
            "grid_template_columns": null,
            "grid_template_rows": null,
            "height": null,
            "justify_content": null,
            "justify_items": null,
            "left": null,
            "margin": null,
            "max_height": null,
            "max_width": null,
            "min_height": null,
            "min_width": null,
            "object_fit": null,
            "object_position": null,
            "order": null,
            "overflow": null,
            "padding": null,
            "right": null,
            "top": null,
            "visibility": null,
            "width": null
          }
        },
        "2e484e8894f84ae9a8491f62ad441cc4": {
          "model_module": "@jupyter-widgets/base",
          "model_name": "LayoutModel",
          "model_module_version": "2.0.0",
          "state": {
            "_model_module": "@jupyter-widgets/base",
            "_model_module_version": "2.0.0",
            "_model_name": "LayoutModel",
            "_view_count": null,
            "_view_module": "@jupyter-widgets/base",
            "_view_module_version": "2.0.0",
            "_view_name": "LayoutView",
            "align_content": null,
            "align_items": null,
            "align_self": null,
            "border_bottom": null,
            "border_left": null,
            "border_right": null,
            "border_top": null,
            "bottom": null,
            "display": null,
            "flex": null,
            "flex_flow": null,
            "grid_area": null,
            "grid_auto_columns": null,
            "grid_auto_flow": null,
            "grid_auto_rows": null,
            "grid_column": null,
            "grid_gap": null,
            "grid_row": null,
            "grid_template_areas": null,
            "grid_template_columns": null,
            "grid_template_rows": null,
            "height": null,
            "justify_content": null,
            "justify_items": null,
            "left": null,
            "margin": null,
            "max_height": null,
            "max_width": null,
            "min_height": null,
            "min_width": null,
            "object_fit": null,
            "object_position": null,
            "order": null,
            "overflow": null,
            "padding": null,
            "right": null,
            "top": null,
            "visibility": null,
            "width": null
          }
        },
        "c956a9fe1b164abab0426c8b1ffa5ec6": {
          "model_module": "@jupyter-widgets/controls",
          "model_name": "HTMLStyleModel",
          "model_module_version": "2.0.0",
          "state": {
            "_model_module": "@jupyter-widgets/controls",
            "_model_module_version": "2.0.0",
            "_model_name": "HTMLStyleModel",
            "_view_count": null,
            "_view_module": "@jupyter-widgets/base",
            "_view_module_version": "2.0.0",
            "_view_name": "StyleView",
            "background": null,
            "description_width": "",
            "font_size": null,
            "text_color": null
          }
        },
        "3f1928996db64094abd40692b53c7eae": {
          "model_module": "@jupyter-widgets/base",
          "model_name": "LayoutModel",
          "model_module_version": "2.0.0",
          "state": {
            "_model_module": "@jupyter-widgets/base",
            "_model_module_version": "2.0.0",
            "_model_name": "LayoutModel",
            "_view_count": null,
            "_view_module": "@jupyter-widgets/base",
            "_view_module_version": "2.0.0",
            "_view_name": "LayoutView",
            "align_content": null,
            "align_items": null,
            "align_self": null,
            "border_bottom": null,
            "border_left": null,
            "border_right": null,
            "border_top": null,
            "bottom": null,
            "display": null,
            "flex": null,
            "flex_flow": null,
            "grid_area": null,
            "grid_auto_columns": null,
            "grid_auto_flow": null,
            "grid_auto_rows": null,
            "grid_column": null,
            "grid_gap": null,
            "grid_row": null,
            "grid_template_areas": null,
            "grid_template_columns": null,
            "grid_template_rows": null,
            "height": null,
            "justify_content": null,
            "justify_items": null,
            "left": null,
            "margin": null,
            "max_height": null,
            "max_width": null,
            "min_height": null,
            "min_width": null,
            "object_fit": null,
            "object_position": null,
            "order": null,
            "overflow": null,
            "padding": null,
            "right": null,
            "top": null,
            "visibility": null,
            "width": null
          }
        },
        "d4e7316f3c874f6fb21778de37eae110": {
          "model_module": "@jupyter-widgets/controls",
          "model_name": "ProgressStyleModel",
          "model_module_version": "2.0.0",
          "state": {
            "_model_module": "@jupyter-widgets/controls",
            "_model_module_version": "2.0.0",
            "_model_name": "ProgressStyleModel",
            "_view_count": null,
            "_view_module": "@jupyter-widgets/base",
            "_view_module_version": "2.0.0",
            "_view_name": "StyleView",
            "bar_color": null,
            "description_width": ""
          }
        },
        "84e1271abf104cbe8435dd8ddc1af9fc": {
          "model_module": "@jupyter-widgets/base",
          "model_name": "LayoutModel",
          "model_module_version": "2.0.0",
          "state": {
            "_model_module": "@jupyter-widgets/base",
            "_model_module_version": "2.0.0",
            "_model_name": "LayoutModel",
            "_view_count": null,
            "_view_module": "@jupyter-widgets/base",
            "_view_module_version": "2.0.0",
            "_view_name": "LayoutView",
            "align_content": null,
            "align_items": null,
            "align_self": null,
            "border_bottom": null,
            "border_left": null,
            "border_right": null,
            "border_top": null,
            "bottom": null,
            "display": null,
            "flex": null,
            "flex_flow": null,
            "grid_area": null,
            "grid_auto_columns": null,
            "grid_auto_flow": null,
            "grid_auto_rows": null,
            "grid_column": null,
            "grid_gap": null,
            "grid_row": null,
            "grid_template_areas": null,
            "grid_template_columns": null,
            "grid_template_rows": null,
            "height": null,
            "justify_content": null,
            "justify_items": null,
            "left": null,
            "margin": null,
            "max_height": null,
            "max_width": null,
            "min_height": null,
            "min_width": null,
            "object_fit": null,
            "object_position": null,
            "order": null,
            "overflow": null,
            "padding": null,
            "right": null,
            "top": null,
            "visibility": null,
            "width": null
          }
        },
        "65199efe6c8846cdacbd17f009de07fe": {
          "model_module": "@jupyter-widgets/controls",
          "model_name": "HTMLStyleModel",
          "model_module_version": "2.0.0",
          "state": {
            "_model_module": "@jupyter-widgets/controls",
            "_model_module_version": "2.0.0",
            "_model_name": "HTMLStyleModel",
            "_view_count": null,
            "_view_module": "@jupyter-widgets/base",
            "_view_module_version": "2.0.0",
            "_view_name": "StyleView",
            "background": null,
            "description_width": "",
            "font_size": null,
            "text_color": null
          }
        },
        "f00df086b5804b16837c5c06cfd38111": {
          "model_module": "@jupyter-widgets/controls",
          "model_name": "HBoxModel",
          "model_module_version": "2.0.0",
          "state": {
            "_dom_classes": [],
            "_model_module": "@jupyter-widgets/controls",
            "_model_module_version": "2.0.0",
            "_model_name": "HBoxModel",
            "_view_count": null,
            "_view_module": "@jupyter-widgets/controls",
            "_view_module_version": "2.0.0",
            "_view_name": "HBoxView",
            "box_style": "",
            "children": [
              "IPY_MODEL_6fd9d61fc002446498562ca3adffa393",
              "IPY_MODEL_49d56cccc76a427196530d83c244b571",
              "IPY_MODEL_b3d2af4b7d764f74a687bb012bde544f"
            ],
            "layout": "IPY_MODEL_dbf290cba54a489ca82d9e403c0e0854",
            "tabbable": null,
            "tooltip": null
          }
        },
        "6fd9d61fc002446498562ca3adffa393": {
          "model_module": "@jupyter-widgets/controls",
          "model_name": "HTMLModel",
          "model_module_version": "2.0.0",
          "state": {
            "_dom_classes": [],
            "_model_module": "@jupyter-widgets/controls",
            "_model_module_version": "2.0.0",
            "_model_name": "HTMLModel",
            "_view_count": null,
            "_view_module": "@jupyter-widgets/controls",
            "_view_module_version": "2.0.0",
            "_view_name": "HTMLView",
            "description": "",
            "description_allow_html": false,
            "layout": "IPY_MODEL_c6cdadf5a94d4179933663552870436f",
            "placeholder": "​",
            "style": "IPY_MODEL_daa72a30abf74821b5943f5a9b8d78d8",
            "tabbable": null,
            "tooltip": null,
            "value": "100%"
          }
        },
        "49d56cccc76a427196530d83c244b571": {
          "model_module": "@jupyter-widgets/controls",
          "model_name": "FloatProgressModel",
          "model_module_version": "2.0.0",
          "state": {
            "_dom_classes": [],
            "_model_module": "@jupyter-widgets/controls",
            "_model_module_version": "2.0.0",
            "_model_name": "FloatProgressModel",
            "_view_count": null,
            "_view_module": "@jupyter-widgets/controls",
            "_view_module_version": "2.0.0",
            "_view_name": "ProgressView",
            "bar_style": "success",
            "description": "",
            "description_allow_html": false,
            "layout": "IPY_MODEL_afde8dc840f64d2596e76b5f3d2d5934",
            "max": 29515,
            "min": 0,
            "orientation": "horizontal",
            "style": "IPY_MODEL_ded8efa169b1405a9c94b6bfc2493b41",
            "tabbable": null,
            "tooltip": null,
            "value": 29515
          }
        },
        "b3d2af4b7d764f74a687bb012bde544f": {
          "model_module": "@jupyter-widgets/controls",
          "model_name": "HTMLModel",
          "model_module_version": "2.0.0",
          "state": {
            "_dom_classes": [],
            "_model_module": "@jupyter-widgets/controls",
            "_model_module_version": "2.0.0",
            "_model_name": "HTMLModel",
            "_view_count": null,
            "_view_module": "@jupyter-widgets/controls",
            "_view_module_version": "2.0.0",
            "_view_name": "HTMLView",
            "description": "",
            "description_allow_html": false,
            "layout": "IPY_MODEL_8d63af2f09914e42ac7e4dccb7cae994",
            "placeholder": "​",
            "style": "IPY_MODEL_5db50dc97d2f4f61bada69bfaad8dbea",
            "tabbable": null,
            "tooltip": null,
            "value": " 29515/29515 [00:00&lt;00:00, 1405258.96it/s]"
          }
        },
        "dbf290cba54a489ca82d9e403c0e0854": {
          "model_module": "@jupyter-widgets/base",
          "model_name": "LayoutModel",
          "model_module_version": "2.0.0",
          "state": {
            "_model_module": "@jupyter-widgets/base",
            "_model_module_version": "2.0.0",
            "_model_name": "LayoutModel",
            "_view_count": null,
            "_view_module": "@jupyter-widgets/base",
            "_view_module_version": "2.0.0",
            "_view_name": "LayoutView",
            "align_content": null,
            "align_items": null,
            "align_self": null,
            "border_bottom": null,
            "border_left": null,
            "border_right": null,
            "border_top": null,
            "bottom": null,
            "display": null,
            "flex": null,
            "flex_flow": null,
            "grid_area": null,
            "grid_auto_columns": null,
            "grid_auto_flow": null,
            "grid_auto_rows": null,
            "grid_column": null,
            "grid_gap": null,
            "grid_row": null,
            "grid_template_areas": null,
            "grid_template_columns": null,
            "grid_template_rows": null,
            "height": null,
            "justify_content": null,
            "justify_items": null,
            "left": null,
            "margin": null,
            "max_height": null,
            "max_width": null,
            "min_height": null,
            "min_width": null,
            "object_fit": null,
            "object_position": null,
            "order": null,
            "overflow": null,
            "padding": null,
            "right": null,
            "top": null,
            "visibility": null,
            "width": null
          }
        },
        "c6cdadf5a94d4179933663552870436f": {
          "model_module": "@jupyter-widgets/base",
          "model_name": "LayoutModel",
          "model_module_version": "2.0.0",
          "state": {
            "_model_module": "@jupyter-widgets/base",
            "_model_module_version": "2.0.0",
            "_model_name": "LayoutModel",
            "_view_count": null,
            "_view_module": "@jupyter-widgets/base",
            "_view_module_version": "2.0.0",
            "_view_name": "LayoutView",
            "align_content": null,
            "align_items": null,
            "align_self": null,
            "border_bottom": null,
            "border_left": null,
            "border_right": null,
            "border_top": null,
            "bottom": null,
            "display": null,
            "flex": null,
            "flex_flow": null,
            "grid_area": null,
            "grid_auto_columns": null,
            "grid_auto_flow": null,
            "grid_auto_rows": null,
            "grid_column": null,
            "grid_gap": null,
            "grid_row": null,
            "grid_template_areas": null,
            "grid_template_columns": null,
            "grid_template_rows": null,
            "height": null,
            "justify_content": null,
            "justify_items": null,
            "left": null,
            "margin": null,
            "max_height": null,
            "max_width": null,
            "min_height": null,
            "min_width": null,
            "object_fit": null,
            "object_position": null,
            "order": null,
            "overflow": null,
            "padding": null,
            "right": null,
            "top": null,
            "visibility": null,
            "width": null
          }
        },
        "daa72a30abf74821b5943f5a9b8d78d8": {
          "model_module": "@jupyter-widgets/controls",
          "model_name": "HTMLStyleModel",
          "model_module_version": "2.0.0",
          "state": {
            "_model_module": "@jupyter-widgets/controls",
            "_model_module_version": "2.0.0",
            "_model_name": "HTMLStyleModel",
            "_view_count": null,
            "_view_module": "@jupyter-widgets/base",
            "_view_module_version": "2.0.0",
            "_view_name": "StyleView",
            "background": null,
            "description_width": "",
            "font_size": null,
            "text_color": null
          }
        },
        "afde8dc840f64d2596e76b5f3d2d5934": {
          "model_module": "@jupyter-widgets/base",
          "model_name": "LayoutModel",
          "model_module_version": "2.0.0",
          "state": {
            "_model_module": "@jupyter-widgets/base",
            "_model_module_version": "2.0.0",
            "_model_name": "LayoutModel",
            "_view_count": null,
            "_view_module": "@jupyter-widgets/base",
            "_view_module_version": "2.0.0",
            "_view_name": "LayoutView",
            "align_content": null,
            "align_items": null,
            "align_self": null,
            "border_bottom": null,
            "border_left": null,
            "border_right": null,
            "border_top": null,
            "bottom": null,
            "display": null,
            "flex": null,
            "flex_flow": null,
            "grid_area": null,
            "grid_auto_columns": null,
            "grid_auto_flow": null,
            "grid_auto_rows": null,
            "grid_column": null,
            "grid_gap": null,
            "grid_row": null,
            "grid_template_areas": null,
            "grid_template_columns": null,
            "grid_template_rows": null,
            "height": null,
            "justify_content": null,
            "justify_items": null,
            "left": null,
            "margin": null,
            "max_height": null,
            "max_width": null,
            "min_height": null,
            "min_width": null,
            "object_fit": null,
            "object_position": null,
            "order": null,
            "overflow": null,
            "padding": null,
            "right": null,
            "top": null,
            "visibility": null,
            "width": null
          }
        },
        "ded8efa169b1405a9c94b6bfc2493b41": {
          "model_module": "@jupyter-widgets/controls",
          "model_name": "ProgressStyleModel",
          "model_module_version": "2.0.0",
          "state": {
            "_model_module": "@jupyter-widgets/controls",
            "_model_module_version": "2.0.0",
            "_model_name": "ProgressStyleModel",
            "_view_count": null,
            "_view_module": "@jupyter-widgets/base",
            "_view_module_version": "2.0.0",
            "_view_name": "StyleView",
            "bar_color": null,
            "description_width": ""
          }
        },
        "8d63af2f09914e42ac7e4dccb7cae994": {
          "model_module": "@jupyter-widgets/base",
          "model_name": "LayoutModel",
          "model_module_version": "2.0.0",
          "state": {
            "_model_module": "@jupyter-widgets/base",
            "_model_module_version": "2.0.0",
            "_model_name": "LayoutModel",
            "_view_count": null,
            "_view_module": "@jupyter-widgets/base",
            "_view_module_version": "2.0.0",
            "_view_name": "LayoutView",
            "align_content": null,
            "align_items": null,
            "align_self": null,
            "border_bottom": null,
            "border_left": null,
            "border_right": null,
            "border_top": null,
            "bottom": null,
            "display": null,
            "flex": null,
            "flex_flow": null,
            "grid_area": null,
            "grid_auto_columns": null,
            "grid_auto_flow": null,
            "grid_auto_rows": null,
            "grid_column": null,
            "grid_gap": null,
            "grid_row": null,
            "grid_template_areas": null,
            "grid_template_columns": null,
            "grid_template_rows": null,
            "height": null,
            "justify_content": null,
            "justify_items": null,
            "left": null,
            "margin": null,
            "max_height": null,
            "max_width": null,
            "min_height": null,
            "min_width": null,
            "object_fit": null,
            "object_position": null,
            "order": null,
            "overflow": null,
            "padding": null,
            "right": null,
            "top": null,
            "visibility": null,
            "width": null
          }
        },
        "5db50dc97d2f4f61bada69bfaad8dbea": {
          "model_module": "@jupyter-widgets/controls",
          "model_name": "HTMLStyleModel",
          "model_module_version": "2.0.0",
          "state": {
            "_model_module": "@jupyter-widgets/controls",
            "_model_module_version": "2.0.0",
            "_model_name": "HTMLStyleModel",
            "_view_count": null,
            "_view_module": "@jupyter-widgets/base",
            "_view_module_version": "2.0.0",
            "_view_name": "StyleView",
            "background": null,
            "description_width": "",
            "font_size": null,
            "text_color": null
          }
        },
        "220009d79c4548a8ab101ca11b5cabea": {
          "model_module": "@jupyter-widgets/controls",
          "model_name": "HBoxModel",
          "model_module_version": "2.0.0",
          "state": {
            "_dom_classes": [],
            "_model_module": "@jupyter-widgets/controls",
            "_model_module_version": "2.0.0",
            "_model_name": "HBoxModel",
            "_view_count": null,
            "_view_module": "@jupyter-widgets/controls",
            "_view_module_version": "2.0.0",
            "_view_name": "HBoxView",
            "box_style": "",
            "children": [
              "IPY_MODEL_9e46ffbc264f4298b73d9f57e927cf89",
              "IPY_MODEL_21b06eb155bf4468a2225e217db79ad9",
              "IPY_MODEL_89bf51b040154e38b529f69a2fc06ef2"
            ],
            "layout": "IPY_MODEL_4d1208a23b9546f7998da142ff293ecc",
            "tabbable": null,
            "tooltip": null
          }
        },
        "9e46ffbc264f4298b73d9f57e927cf89": {
          "model_module": "@jupyter-widgets/controls",
          "model_name": "HTMLModel",
          "model_module_version": "2.0.0",
          "state": {
            "_dom_classes": [],
            "_model_module": "@jupyter-widgets/controls",
            "_model_module_version": "2.0.0",
            "_model_name": "HTMLModel",
            "_view_count": null,
            "_view_module": "@jupyter-widgets/controls",
            "_view_module_version": "2.0.0",
            "_view_name": "HTMLView",
            "description": "",
            "description_allow_html": false,
            "layout": "IPY_MODEL_513b539c9bd4474c89ace048e6c7ac93",
            "placeholder": "​",
            "style": "IPY_MODEL_9d89f4b1d96a442ebf49dfdfb0cf94d6",
            "tabbable": null,
            "tooltip": null,
            "value": "100%"
          }
        },
        "21b06eb155bf4468a2225e217db79ad9": {
          "model_module": "@jupyter-widgets/controls",
          "model_name": "FloatProgressModel",
          "model_module_version": "2.0.0",
          "state": {
            "_dom_classes": [],
            "_model_module": "@jupyter-widgets/controls",
            "_model_module_version": "2.0.0",
            "_model_name": "FloatProgressModel",
            "_view_count": null,
            "_view_module": "@jupyter-widgets/controls",
            "_view_module_version": "2.0.0",
            "_view_name": "ProgressView",
            "bar_style": "success",
            "description": "",
            "description_allow_html": false,
            "layout": "IPY_MODEL_37ee4e82d2ea4aea80a56060560545a6",
            "max": 4422102,
            "min": 0,
            "orientation": "horizontal",
            "style": "IPY_MODEL_020b1a46461f41a9b9e81192d6b47600",
            "tabbable": null,
            "tooltip": null,
            "value": 4422102
          }
        },
        "89bf51b040154e38b529f69a2fc06ef2": {
          "model_module": "@jupyter-widgets/controls",
          "model_name": "HTMLModel",
          "model_module_version": "2.0.0",
          "state": {
            "_dom_classes": [],
            "_model_module": "@jupyter-widgets/controls",
            "_model_module_version": "2.0.0",
            "_model_name": "HTMLModel",
            "_view_count": null,
            "_view_module": "@jupyter-widgets/controls",
            "_view_module_version": "2.0.0",
            "_view_name": "HTMLView",
            "description": "",
            "description_allow_html": false,
            "layout": "IPY_MODEL_bed6ca8a537b4f3e9c38255f1e2e0b46",
            "placeholder": "​",
            "style": "IPY_MODEL_361ce99bd4264c06b196317b455233b8",
            "tabbable": null,
            "tooltip": null,
            "value": " 4422102/4422102 [00:00&lt;00:00, 9265654.25it/s]"
          }
        },
        "4d1208a23b9546f7998da142ff293ecc": {
          "model_module": "@jupyter-widgets/base",
          "model_name": "LayoutModel",
          "model_module_version": "2.0.0",
          "state": {
            "_model_module": "@jupyter-widgets/base",
            "_model_module_version": "2.0.0",
            "_model_name": "LayoutModel",
            "_view_count": null,
            "_view_module": "@jupyter-widgets/base",
            "_view_module_version": "2.0.0",
            "_view_name": "LayoutView",
            "align_content": null,
            "align_items": null,
            "align_self": null,
            "border_bottom": null,
            "border_left": null,
            "border_right": null,
            "border_top": null,
            "bottom": null,
            "display": null,
            "flex": null,
            "flex_flow": null,
            "grid_area": null,
            "grid_auto_columns": null,
            "grid_auto_flow": null,
            "grid_auto_rows": null,
            "grid_column": null,
            "grid_gap": null,
            "grid_row": null,
            "grid_template_areas": null,
            "grid_template_columns": null,
            "grid_template_rows": null,
            "height": null,
            "justify_content": null,
            "justify_items": null,
            "left": null,
            "margin": null,
            "max_height": null,
            "max_width": null,
            "min_height": null,
            "min_width": null,
            "object_fit": null,
            "object_position": null,
            "order": null,
            "overflow": null,
            "padding": null,
            "right": null,
            "top": null,
            "visibility": null,
            "width": null
          }
        },
        "513b539c9bd4474c89ace048e6c7ac93": {
          "model_module": "@jupyter-widgets/base",
          "model_name": "LayoutModel",
          "model_module_version": "2.0.0",
          "state": {
            "_model_module": "@jupyter-widgets/base",
            "_model_module_version": "2.0.0",
            "_model_name": "LayoutModel",
            "_view_count": null,
            "_view_module": "@jupyter-widgets/base",
            "_view_module_version": "2.0.0",
            "_view_name": "LayoutView",
            "align_content": null,
            "align_items": null,
            "align_self": null,
            "border_bottom": null,
            "border_left": null,
            "border_right": null,
            "border_top": null,
            "bottom": null,
            "display": null,
            "flex": null,
            "flex_flow": null,
            "grid_area": null,
            "grid_auto_columns": null,
            "grid_auto_flow": null,
            "grid_auto_rows": null,
            "grid_column": null,
            "grid_gap": null,
            "grid_row": null,
            "grid_template_areas": null,
            "grid_template_columns": null,
            "grid_template_rows": null,
            "height": null,
            "justify_content": null,
            "justify_items": null,
            "left": null,
            "margin": null,
            "max_height": null,
            "max_width": null,
            "min_height": null,
            "min_width": null,
            "object_fit": null,
            "object_position": null,
            "order": null,
            "overflow": null,
            "padding": null,
            "right": null,
            "top": null,
            "visibility": null,
            "width": null
          }
        },
        "9d89f4b1d96a442ebf49dfdfb0cf94d6": {
          "model_module": "@jupyter-widgets/controls",
          "model_name": "HTMLStyleModel",
          "model_module_version": "2.0.0",
          "state": {
            "_model_module": "@jupyter-widgets/controls",
            "_model_module_version": "2.0.0",
            "_model_name": "HTMLStyleModel",
            "_view_count": null,
            "_view_module": "@jupyter-widgets/base",
            "_view_module_version": "2.0.0",
            "_view_name": "StyleView",
            "background": null,
            "description_width": "",
            "font_size": null,
            "text_color": null
          }
        },
        "37ee4e82d2ea4aea80a56060560545a6": {
          "model_module": "@jupyter-widgets/base",
          "model_name": "LayoutModel",
          "model_module_version": "2.0.0",
          "state": {
            "_model_module": "@jupyter-widgets/base",
            "_model_module_version": "2.0.0",
            "_model_name": "LayoutModel",
            "_view_count": null,
            "_view_module": "@jupyter-widgets/base",
            "_view_module_version": "2.0.0",
            "_view_name": "LayoutView",
            "align_content": null,
            "align_items": null,
            "align_self": null,
            "border_bottom": null,
            "border_left": null,
            "border_right": null,
            "border_top": null,
            "bottom": null,
            "display": null,
            "flex": null,
            "flex_flow": null,
            "grid_area": null,
            "grid_auto_columns": null,
            "grid_auto_flow": null,
            "grid_auto_rows": null,
            "grid_column": null,
            "grid_gap": null,
            "grid_row": null,
            "grid_template_areas": null,
            "grid_template_columns": null,
            "grid_template_rows": null,
            "height": null,
            "justify_content": null,
            "justify_items": null,
            "left": null,
            "margin": null,
            "max_height": null,
            "max_width": null,
            "min_height": null,
            "min_width": null,
            "object_fit": null,
            "object_position": null,
            "order": null,
            "overflow": null,
            "padding": null,
            "right": null,
            "top": null,
            "visibility": null,
            "width": null
          }
        },
        "020b1a46461f41a9b9e81192d6b47600": {
          "model_module": "@jupyter-widgets/controls",
          "model_name": "ProgressStyleModel",
          "model_module_version": "2.0.0",
          "state": {
            "_model_module": "@jupyter-widgets/controls",
            "_model_module_version": "2.0.0",
            "_model_name": "ProgressStyleModel",
            "_view_count": null,
            "_view_module": "@jupyter-widgets/base",
            "_view_module_version": "2.0.0",
            "_view_name": "StyleView",
            "bar_color": null,
            "description_width": ""
          }
        },
        "bed6ca8a537b4f3e9c38255f1e2e0b46": {
          "model_module": "@jupyter-widgets/base",
          "model_name": "LayoutModel",
          "model_module_version": "2.0.0",
          "state": {
            "_model_module": "@jupyter-widgets/base",
            "_model_module_version": "2.0.0",
            "_model_name": "LayoutModel",
            "_view_count": null,
            "_view_module": "@jupyter-widgets/base",
            "_view_module_version": "2.0.0",
            "_view_name": "LayoutView",
            "align_content": null,
            "align_items": null,
            "align_self": null,
            "border_bottom": null,
            "border_left": null,
            "border_right": null,
            "border_top": null,
            "bottom": null,
            "display": null,
            "flex": null,
            "flex_flow": null,
            "grid_area": null,
            "grid_auto_columns": null,
            "grid_auto_flow": null,
            "grid_auto_rows": null,
            "grid_column": null,
            "grid_gap": null,
            "grid_row": null,
            "grid_template_areas": null,
            "grid_template_columns": null,
            "grid_template_rows": null,
            "height": null,
            "justify_content": null,
            "justify_items": null,
            "left": null,
            "margin": null,
            "max_height": null,
            "max_width": null,
            "min_height": null,
            "min_width": null,
            "object_fit": null,
            "object_position": null,
            "order": null,
            "overflow": null,
            "padding": null,
            "right": null,
            "top": null,
            "visibility": null,
            "width": null
          }
        },
        "361ce99bd4264c06b196317b455233b8": {
          "model_module": "@jupyter-widgets/controls",
          "model_name": "HTMLStyleModel",
          "model_module_version": "2.0.0",
          "state": {
            "_model_module": "@jupyter-widgets/controls",
            "_model_module_version": "2.0.0",
            "_model_name": "HTMLStyleModel",
            "_view_count": null,
            "_view_module": "@jupyter-widgets/base",
            "_view_module_version": "2.0.0",
            "_view_name": "StyleView",
            "background": null,
            "description_width": "",
            "font_size": null,
            "text_color": null
          }
        },
        "94d0def27393457081ad7bf5d3bd4000": {
          "model_module": "@jupyter-widgets/controls",
          "model_name": "HBoxModel",
          "model_module_version": "2.0.0",
          "state": {
            "_dom_classes": [],
            "_model_module": "@jupyter-widgets/controls",
            "_model_module_version": "2.0.0",
            "_model_name": "HBoxModel",
            "_view_count": null,
            "_view_module": "@jupyter-widgets/controls",
            "_view_module_version": "2.0.0",
            "_view_name": "HBoxView",
            "box_style": "",
            "children": [
              "IPY_MODEL_6c37bc9a93ca4b8e99fcc841d2c83596",
              "IPY_MODEL_83ac3cd111ff4ffea451d66d6dc70c80",
              "IPY_MODEL_eb9788e299ac47a5b43b6b6410ec8c10"
            ],
            "layout": "IPY_MODEL_fecfdea963824b8d84a83cdc42f08352",
            "tabbable": null,
            "tooltip": null
          }
        },
        "6c37bc9a93ca4b8e99fcc841d2c83596": {
          "model_module": "@jupyter-widgets/controls",
          "model_name": "HTMLModel",
          "model_module_version": "2.0.0",
          "state": {
            "_dom_classes": [],
            "_model_module": "@jupyter-widgets/controls",
            "_model_module_version": "2.0.0",
            "_model_name": "HTMLModel",
            "_view_count": null,
            "_view_module": "@jupyter-widgets/controls",
            "_view_module_version": "2.0.0",
            "_view_name": "HTMLView",
            "description": "",
            "description_allow_html": false,
            "layout": "IPY_MODEL_ee20d42e495f4d679fc3a24116d6819c",
            "placeholder": "​",
            "style": "IPY_MODEL_43bde1195943430c8fe34434021f0ebd",
            "tabbable": null,
            "tooltip": null,
            "value": "100%"
          }
        },
        "83ac3cd111ff4ffea451d66d6dc70c80": {
          "model_module": "@jupyter-widgets/controls",
          "model_name": "FloatProgressModel",
          "model_module_version": "2.0.0",
          "state": {
            "_dom_classes": [],
            "_model_module": "@jupyter-widgets/controls",
            "_model_module_version": "2.0.0",
            "_model_name": "FloatProgressModel",
            "_view_count": null,
            "_view_module": "@jupyter-widgets/controls",
            "_view_module_version": "2.0.0",
            "_view_name": "ProgressView",
            "bar_style": "success",
            "description": "",
            "description_allow_html": false,
            "layout": "IPY_MODEL_3b7b1d206412404786f26363de7e1c43",
            "max": 5148,
            "min": 0,
            "orientation": "horizontal",
            "style": "IPY_MODEL_36f4ee1a5c1f41b7848a507d84705e80",
            "tabbable": null,
            "tooltip": null,
            "value": 5148
          }
        },
        "eb9788e299ac47a5b43b6b6410ec8c10": {
          "model_module": "@jupyter-widgets/controls",
          "model_name": "HTMLModel",
          "model_module_version": "2.0.0",
          "state": {
            "_dom_classes": [],
            "_model_module": "@jupyter-widgets/controls",
            "_model_module_version": "2.0.0",
            "_model_name": "HTMLModel",
            "_view_count": null,
            "_view_module": "@jupyter-widgets/controls",
            "_view_module_version": "2.0.0",
            "_view_name": "HTMLView",
            "description": "",
            "description_allow_html": false,
            "layout": "IPY_MODEL_db3c59d527634d5289b2c7dbc924fbbb",
            "placeholder": "​",
            "style": "IPY_MODEL_44147f6ff58b4596a68e607fc5433207",
            "tabbable": null,
            "tooltip": null,
            "value": " 5148/5148 [00:00&lt;00:00, 367747.20it/s]"
          }
        },
        "fecfdea963824b8d84a83cdc42f08352": {
          "model_module": "@jupyter-widgets/base",
          "model_name": "LayoutModel",
          "model_module_version": "2.0.0",
          "state": {
            "_model_module": "@jupyter-widgets/base",
            "_model_module_version": "2.0.0",
            "_model_name": "LayoutModel",
            "_view_count": null,
            "_view_module": "@jupyter-widgets/base",
            "_view_module_version": "2.0.0",
            "_view_name": "LayoutView",
            "align_content": null,
            "align_items": null,
            "align_self": null,
            "border_bottom": null,
            "border_left": null,
            "border_right": null,
            "border_top": null,
            "bottom": null,
            "display": null,
            "flex": null,
            "flex_flow": null,
            "grid_area": null,
            "grid_auto_columns": null,
            "grid_auto_flow": null,
            "grid_auto_rows": null,
            "grid_column": null,
            "grid_gap": null,
            "grid_row": null,
            "grid_template_areas": null,
            "grid_template_columns": null,
            "grid_template_rows": null,
            "height": null,
            "justify_content": null,
            "justify_items": null,
            "left": null,
            "margin": null,
            "max_height": null,
            "max_width": null,
            "min_height": null,
            "min_width": null,
            "object_fit": null,
            "object_position": null,
            "order": null,
            "overflow": null,
            "padding": null,
            "right": null,
            "top": null,
            "visibility": null,
            "width": null
          }
        },
        "ee20d42e495f4d679fc3a24116d6819c": {
          "model_module": "@jupyter-widgets/base",
          "model_name": "LayoutModel",
          "model_module_version": "2.0.0",
          "state": {
            "_model_module": "@jupyter-widgets/base",
            "_model_module_version": "2.0.0",
            "_model_name": "LayoutModel",
            "_view_count": null,
            "_view_module": "@jupyter-widgets/base",
            "_view_module_version": "2.0.0",
            "_view_name": "LayoutView",
            "align_content": null,
            "align_items": null,
            "align_self": null,
            "border_bottom": null,
            "border_left": null,
            "border_right": null,
            "border_top": null,
            "bottom": null,
            "display": null,
            "flex": null,
            "flex_flow": null,
            "grid_area": null,
            "grid_auto_columns": null,
            "grid_auto_flow": null,
            "grid_auto_rows": null,
            "grid_column": null,
            "grid_gap": null,
            "grid_row": null,
            "grid_template_areas": null,
            "grid_template_columns": null,
            "grid_template_rows": null,
            "height": null,
            "justify_content": null,
            "justify_items": null,
            "left": null,
            "margin": null,
            "max_height": null,
            "max_width": null,
            "min_height": null,
            "min_width": null,
            "object_fit": null,
            "object_position": null,
            "order": null,
            "overflow": null,
            "padding": null,
            "right": null,
            "top": null,
            "visibility": null,
            "width": null
          }
        },
        "43bde1195943430c8fe34434021f0ebd": {
          "model_module": "@jupyter-widgets/controls",
          "model_name": "HTMLStyleModel",
          "model_module_version": "2.0.0",
          "state": {
            "_model_module": "@jupyter-widgets/controls",
            "_model_module_version": "2.0.0",
            "_model_name": "HTMLStyleModel",
            "_view_count": null,
            "_view_module": "@jupyter-widgets/base",
            "_view_module_version": "2.0.0",
            "_view_name": "StyleView",
            "background": null,
            "description_width": "",
            "font_size": null,
            "text_color": null
          }
        },
        "3b7b1d206412404786f26363de7e1c43": {
          "model_module": "@jupyter-widgets/base",
          "model_name": "LayoutModel",
          "model_module_version": "2.0.0",
          "state": {
            "_model_module": "@jupyter-widgets/base",
            "_model_module_version": "2.0.0",
            "_model_name": "LayoutModel",
            "_view_count": null,
            "_view_module": "@jupyter-widgets/base",
            "_view_module_version": "2.0.0",
            "_view_name": "LayoutView",
            "align_content": null,
            "align_items": null,
            "align_self": null,
            "border_bottom": null,
            "border_left": null,
            "border_right": null,
            "border_top": null,
            "bottom": null,
            "display": null,
            "flex": null,
            "flex_flow": null,
            "grid_area": null,
            "grid_auto_columns": null,
            "grid_auto_flow": null,
            "grid_auto_rows": null,
            "grid_column": null,
            "grid_gap": null,
            "grid_row": null,
            "grid_template_areas": null,
            "grid_template_columns": null,
            "grid_template_rows": null,
            "height": null,
            "justify_content": null,
            "justify_items": null,
            "left": null,
            "margin": null,
            "max_height": null,
            "max_width": null,
            "min_height": null,
            "min_width": null,
            "object_fit": null,
            "object_position": null,
            "order": null,
            "overflow": null,
            "padding": null,
            "right": null,
            "top": null,
            "visibility": null,
            "width": null
          }
        },
        "36f4ee1a5c1f41b7848a507d84705e80": {
          "model_module": "@jupyter-widgets/controls",
          "model_name": "ProgressStyleModel",
          "model_module_version": "2.0.0",
          "state": {
            "_model_module": "@jupyter-widgets/controls",
            "_model_module_version": "2.0.0",
            "_model_name": "ProgressStyleModel",
            "_view_count": null,
            "_view_module": "@jupyter-widgets/base",
            "_view_module_version": "2.0.0",
            "_view_name": "StyleView",
            "bar_color": null,
            "description_width": ""
          }
        },
        "db3c59d527634d5289b2c7dbc924fbbb": {
          "model_module": "@jupyter-widgets/base",
          "model_name": "LayoutModel",
          "model_module_version": "2.0.0",
          "state": {
            "_model_module": "@jupyter-widgets/base",
            "_model_module_version": "2.0.0",
            "_model_name": "LayoutModel",
            "_view_count": null,
            "_view_module": "@jupyter-widgets/base",
            "_view_module_version": "2.0.0",
            "_view_name": "LayoutView",
            "align_content": null,
            "align_items": null,
            "align_self": null,
            "border_bottom": null,
            "border_left": null,
            "border_right": null,
            "border_top": null,
            "bottom": null,
            "display": null,
            "flex": null,
            "flex_flow": null,
            "grid_area": null,
            "grid_auto_columns": null,
            "grid_auto_flow": null,
            "grid_auto_rows": null,
            "grid_column": null,
            "grid_gap": null,
            "grid_row": null,
            "grid_template_areas": null,
            "grid_template_columns": null,
            "grid_template_rows": null,
            "height": null,
            "justify_content": null,
            "justify_items": null,
            "left": null,
            "margin": null,
            "max_height": null,
            "max_width": null,
            "min_height": null,
            "min_width": null,
            "object_fit": null,
            "object_position": null,
            "order": null,
            "overflow": null,
            "padding": null,
            "right": null,
            "top": null,
            "visibility": null,
            "width": null
          }
        },
        "44147f6ff58b4596a68e607fc5433207": {
          "model_module": "@jupyter-widgets/controls",
          "model_name": "HTMLStyleModel",
          "model_module_version": "2.0.0",
          "state": {
            "_model_module": "@jupyter-widgets/controls",
            "_model_module_version": "2.0.0",
            "_model_name": "HTMLStyleModel",
            "_view_count": null,
            "_view_module": "@jupyter-widgets/base",
            "_view_module_version": "2.0.0",
            "_view_name": "StyleView",
            "background": null,
            "description_width": "",
            "font_size": null,
            "text_color": null
          }
        }
      }
    }
  },
  "cells": [
    {
      "cell_type": "markdown",
      "metadata": {
        "id": "trying-hampton"
      },
      "source": [
        "## ИАД: Введение в анализ данных – 2021\n",
        "\n",
        "## Семинар 13: Случайный лес"
      ],
      "id": "trying-hampton"
    },
    {
      "cell_type": "markdown",
      "metadata": {
        "id": "proved-advance"
      },
      "source": [
        "### 1. Bias-Variance decomposition"
      ],
      "id": "proved-advance"
    },
    {
      "cell_type": "markdown",
      "metadata": {
        "id": "physical-temperature"
      },
      "source": [
        "Вспомним, что функцию потерь в задачах регрессии или классификации можно разложить на три компоненты: смещение (bias), дисперсию (variance) и шум (noise). Эти компоненты позволяют описать сложность алгоритма, альтернативно сравнению ошибок на тренировочной и тестовой выборках. Хотя такое разложение можно построить для произвольной функции потерь, наиболее просто (и классически) оно строится для среднеквадратичной функции в задаче регрессии, что мы и рассмотрим ниже. \n",
        "\n",
        "Пусть $(X, y)$ – некоторая выборка. Обучим интересующий нас алгоритм на этой выборке и сделаем предсказания на ней. Обозначим предсказания как $\\hat{y}$. Тогда \n",
        "\n",
        "$$\n",
        "\\mathrm{bias} := \\mathbb{E}(\\hat{y}) - y.\n",
        "$$\n",
        "\n",
        "$$\n",
        "\\mathrm{variance} := \\mathbb{E}[\\mathbb{E}(\\hat{y}) - \\hat{y}]^2\n",
        "$$\n",
        "\n",
        "$$\n",
        "\\mathrm{noise} := \\mathbb{E}[y - \\mathbb{E}(y)]^2\n",
        "$$\n",
        "\n",
        "Ожидаемую среднеквадратичную ошибку для различных вариаций тренировочной выборки можно разложить как\n",
        "\n",
        "$$\n",
        "\\mathrm{E}[y - \\hat{y}]^2 = \\mathrm{bias}^2 + \\mathrm{variance} + \\mathrm{noise}.\n",
        "$$\n",
        "\n",
        "**Задание для самых смелых:** покажите, что это разложение корректно. Проверьте себя [здесь](https://github.com/esokolov/ml-course-hse/blob/master/2020-fall/lecture-notes/lecture08-ensembles.pdf)."
      ],
      "id": "physical-temperature"
    },
    {
      "cell_type": "markdown",
      "metadata": {
        "id": "latin-certification"
      },
      "source": [
        "Разберёмся с интерпретацией компонент. \n",
        "\n",
        "- $\\mathrm{Bias}$ – показывает отклонение среднего ответа алгоритма от ответа идеального алгоритма. $\\mathrm{Bias}$ отражает ошибку модели, возникающую из-за простоты модели. Высокое смещение обычно является показателем того, что модель недообучена.\n",
        "\n",
        "\n",
        "- $\\mathrm{Variance}$ – показывает разброс ответов алгоритмов относительно среднего ответа алгоритма. Показывает, насколько сильно небольшие изменения в обучающей выборке скажутся на предсказаниях алгоритма. $\\mathrm{Variance}$ отражает ошибку модели, возникающую из-за чрезмерной сложности модели. Высокая дисперсия обычно является показателем того, что модель переобучена.\n",
        "\n",
        "\n",
        "- $\\mathrm{Noise}$ – ошибка идеального классификатора, естественный неустранимый шум в данных. "
      ],
      "id": "latin-certification"
    },
    {
      "cell_type": "markdown",
      "metadata": {
        "id": "unlikely-blade"
      },
      "source": [
        "Посмотрим наглядно на примере полиномиальной регрессии."
      ],
      "id": "unlikely-blade"
    },
    {
      "cell_type": "code",
      "metadata": {
        "id": "center-denver",
        "colab": {
          "base_uri": "https://localhost:8080/",
          "height": 428
        },
        "outputId": "6f3aa2d2-f02e-45b5-ddad-f79e72e6ef74"
      },
      "source": [
        "import numpy as np\n",
        "import pandas as pd\n",
        "import matplotlib.pyplot as plt\n",
        "from sklearn.linear_model import LinearRegression\n",
        "\n",
        "# Выборка\n",
        "N = 10\n",
        "X = np.linspace(-5, 5, N).reshape(-1, 1)\n",
        "y = np.sin(X) + np.random.normal(0, 0.2, size = N).reshape(-1, 1)\n",
        "\n",
        "# Очень простая модель (регрессия на константу)\n",
        "too_simple_model_predictions = np.mean(y) * np.ones_like(y)\n",
        "\n",
        "# В меру сложная модель\n",
        "X_ok = np.hstack([X, X ** 2, X ** 3])\n",
        "ok_model = LinearRegression()\n",
        "ok_model.fit(X_ok, y)\n",
        "ok_model_predictions = ok_model.predict(X_ok)\n",
        "\n",
        "# Очень сложная модель\n",
        "X_compl = np.hstack([X, X ** 2, X ** 3, X ** 4, X ** 5, X ** 6, X ** 7, X ** 8, X ** 9, X ** 10])\n",
        "compl_model = LinearRegression()\n",
        "compl_model.fit(X_compl, y)\n",
        "compl_model_predictions = compl_model.predict(X_compl)\n",
        "\n",
        "plt.figure(figsize = (10, 7))\n",
        "\n",
        "plt.scatter(X, y)\n",
        "plt.plot(X, too_simple_model_predictions, label = 'Очень простая модель')\n",
        "plt.plot(X, ok_model_predictions, label = 'В меру сложная модель')\n",
        "plt.plot(X, compl_model_predictions, label = 'Очень сложная модель')\n",
        "plt.grid()\n",
        "plt.legend();"
      ],
      "id": "center-denver",
      "execution_count": 1,
      "outputs": [
        {
          "output_type": "display_data",
          "data": {
            "text/plain": [
              "<Figure size 720x504 with 1 Axes>"
            ],
            "image/png": "[encoded data removed]"
          },
          "metadata": {
            "needs_background": "light"
          }
        }
      ]
    },
    {
      "cell_type": "markdown",
      "metadata": {
        "id": "renewable-operations"
      },
      "source": [
        "- Очень простая модель имеет большое смещение (bias), но малую (нулевую) дисперсию (variance). Модель явно недообучена.\n",
        "\n",
        "- В меру сложная модель имеет небольшое смещение (bias) и небольшую дисперсию (variance).\n",
        "\n",
        "- Очень сложная модель имеет небольшое смещение (bias), но большую дисперсию (variance). Модель явно переобучена.\n",
        "\n",
        "**Задание:** пользуясь определениями выше, объясните, почему это так."
      ],
      "id": "renewable-operations"
    },
    {
      "cell_type": "markdown",
      "metadata": {
        "id": "played-commissioner"
      },
      "source": [
        "**Задание:** прокомментируйте величину смещения и дисперсии для следующих моделей:\n",
        "\n",
        "1. Линейная регрессия, обучаемая на большой выборке без выбросов и линейно зависимых признаков. (малые смещение и дисперсия)\n",
        "2. Решающее дерево, которое строится до тех пор, пока в листах не окажется по одному объекту. (малое смещение, высокая дисперсия)\n",
        "3. Логистическая регрессия, относящая все точки к одному классу. (большое смещение, малая дисперсия) "
      ],
      "id": "played-commissioner"
    },
    {
      "cell_type": "markdown",
      "metadata": {
        "id": "obvious-promise"
      },
      "source": [
        "### 1.A. Bias-Variance tradeoff"
      ],
      "id": "obvious-promise"
    },
    {
      "cell_type": "markdown",
      "metadata": {
        "id": "lovely-health"
      },
      "source": [
        "Из описания выше можно заметить, что при обучении моделей возникает выбор между смещением и дисперсией: недообученная модель имеет низкую дисперсию, но высокое смещение, а переобученная – низкое смещение, но высокую дисперсию. Этот выбор можно отобразить на картинке ([источник](https://www.bradyneal.com/bias-variance-tradeoff-textbooks-update))."
      ],
      "id": "lovely-health"
    },
    {
      "cell_type": "markdown",
      "metadata": {
        "id": "heard-respect"
      },
      "source": [
        "![](https://www.bradyneal.com/img/bias-variance/fortmann-roe-bias-variance.png)"
      ],
      "id": "heard-respect"
    },
    {
      "cell_type": "markdown",
      "metadata": {
        "id": "incorrect-review"
      },
      "source": [
        "Вывод из неё очевиден: строить следует оптимальные по сложности модели. \n",
        "\n",
        "Возникает ли такой выбор при обучении любой модели? Последние исследования показывают, что поведение ошибки при обучении некоторых (современных) моделей не соответствует такой U-образной форме. Например, было показано, что ошибка продолжает убывать при расширении (увеличении числа слоёв) нейронных сетей:\n",
        "\n",
        "<img src=\"https://www.bradyneal.com/img/bias-variance/neyshabur.jpg\" alt=\"drawing\" width=\"400\"/>\n",
        "\n",
        "В таких моделях поведение ошибки приобретает сложный вид:\n",
        "\n",
        "\n",
        "<img src=\"https://www.bradyneal.com/img/bias-variance/double_descent.jpg\" alt=\"drawing\" width=\"800\"/>"
      ],
      "id": "incorrect-review"
    },
    {
      "cell_type": "markdown",
      "metadata": {
        "id": "abandoned-minister"
      },
      "source": [
        "### 3. От деревьев к случайному лесу"
      ],
      "id": "abandoned-minister"
    },
    {
      "cell_type": "markdown",
      "metadata": {
        "id": "enclosed-peace"
      },
      "source": [
        "#### 3.1 Решающее дерево"
      ],
      "id": "enclosed-peace"
    },
    {
      "cell_type": "markdown",
      "metadata": {
        "id": "arabic-briefs"
      },
      "source": [
        "Мотивацию построения алгоритма случайного леса (Random Forest) удобно рассматривать в терминах смещения и дисперсии. Начнём с построения решающего дерева."
      ],
      "id": "arabic-briefs"
    },
    {
      "cell_type": "code",
      "metadata": {
        "id": "divided-sweden"
      },
      "source": [
        "# Пример отсюда: http://rasbt.github.io/mlxtend/user_guide/evaluate/bias_variance_decomp/\n",
        "\n",
        "from sklearn.model_selection import train_test_split\n",
        "from mlxtend.data import boston_housing_data\n",
        "\n",
        "X, y = boston_housing_data()\n",
        "X_train, X_test, y_train, y_test = train_test_split(X, y,\n",
        "                                                    test_size = 0.3,\n",
        "                                                    random_state = 123,\n",
        "                                                    shuffle = True)"
      ],
      "id": "divided-sweden",
      "execution_count": 2,
      "outputs": []
    },
    {
      "cell_type": "code",
      "metadata": {
        "id": "posted-wonder",
        "colab": {
          "base_uri": "https://localhost:8080/"
        },
        "outputId": "3c47dd79-ce67-4ee8-d6f6-b24d1cad3fe8"
      },
      "source": [
        "from sklearn.tree import DecisionTreeRegressor\n",
        "from sklearn.metrics import mean_squared_error\n",
        "\n",
        "# TODO: обучите решающее дерево без ограничений на тренировочной выборке\n",
        "# TODO: рассчитайте MSE на тренировочной и тестовой выборках\n",
        "\n",
        "dt = DecisionTreeRegressor(random_state = 123)\n",
        "dt.fit(X_train, y_train)\n",
        "print(\"MSE_train: \", mean_squared_error(y_train, dt.predict(X_train)))\n",
        "print(\"MSE_test: \", mean_squared_error(y_test, dt.predict(X_test)))"
      ],
      "id": "posted-wonder",
      "execution_count": 3,
      "outputs": [
        {
          "output_type": "stream",
          "name": "stdout",
          "text": [
            "MSE_train:  0.0\n",
            "MSE_test:  20.107368421052637\n"
          ]
        }
      ]
    },
    {
      "cell_type": "code",
      "metadata": {
        "id": "thermal-lodge"
      },
      "source": [
        "from mlxtend.evaluate.bias_variance_decomp import bias_variance_decomp\n",
        "\n",
        "# TODO: воспользуйтесь функцией bias_variance_decomp и выведите среднее смещение и среднюю дисперсию модели\n",
        "# на тестовой выборке\n",
        "_, avg_bias, avg_var = bias_variance_decomp(dt, X_train, y_train, X_test, y_test, \n",
        "                                            loss = 'mse', random_seed = 123)"
      ],
      "id": "thermal-lodge",
      "execution_count": 4,
      "outputs": []
    },
    {
      "cell_type": "code",
      "metadata": {
        "id": "sound-roots",
        "colab": {
          "base_uri": "https://localhost:8080/"
        },
        "outputId": "2d3058f9-ff60-4b5f-d846-8637fb10a9b1"
      },
      "source": [
        "avg_bias"
      ],
      "id": "sound-roots",
      "execution_count": 5,
      "outputs": [
        {
          "output_type": "execute_result",
          "data": {
            "text/plain": [
              "14.095801179276307"
            ]
          },
          "metadata": {},
          "execution_count": 5
        }
      ]
    },
    {
      "cell_type": "code",
      "metadata": {
        "id": "sixth-grave",
        "colab": {
          "base_uri": "https://localhost:8080/"
        },
        "outputId": "4efad0b3-cba1-4aea-e9e2-8d577d779325"
      },
      "source": [
        "avg_var"
      ],
      "id": "sixth-grave",
      "execution_count": 6,
      "outputs": [
        {
          "output_type": "execute_result",
          "data": {
            "text/plain": [
              "17.440207702302633"
            ]
          },
          "metadata": {},
          "execution_count": 6
        }
      ]
    },
    {
      "cell_type": "markdown",
      "metadata": {
        "id": "curious-sugar"
      },
      "source": [
        "Как мы обсуждали на предыдущем семинаре, такое дерево окажется сильно переобученным (высокая дисперсия и низкое смещение). Постараемся исправить это. На лекции мы обсуждали, что один из способов борьбы с переобучением – построение композиций моделей. На этом семинаре мы рассмотрим построение композиций при помощи бэггинга."
      ],
      "id": "curious-sugar"
    },
    {
      "cell_type": "markdown",
      "metadata": {
        "id": "industrial-summary"
      },
      "source": [
        "#### 3.2 Бэггинг\n",
        "\n",
        "Вспомним суть алгоритма:\n",
        "\n",
        "1. Обучаем много деревьев на бутстрапированных подвыборках исходной выборки независимо друг от друга. Бутстрапированную подвыборку строим при помощи выбора $N$ (размер исходной выборки) наблюдений из исходной выборки с возвращением. \n",
        "\n",
        "2. Усредняем предсказания всех моделей (например, берём арифметическое среднее). \n",
        "\n",
        "Можно показать, что модель, построенная при помощи бэггинга, будет иметь **то же смещение**, что и у отдельных деревьев, но значительно **меньшую дисперсию** (при выполнении некоторых условий). "
      ],
      "id": "industrial-summary"
    },
    {
      "cell_type": "code",
      "metadata": {
        "id": "expired-skill"
      },
      "source": [
        "from sklearn.ensemble import BaggingRegressor\n",
        "\n",
        "base_tree = DecisionTreeRegressor(random_state = 123)\n",
        "\n",
        "# TODO: обучите бэггинг с 20 деревьями, каждое из которых строится без ограничений\n",
        "\n",
        "bagging = BaggingRegressor(estimator = base_tree, n_estimators = 20, random_state = 123, max_samples=0.9)\n",
        "\n",
        "# TODO: выведите среднее смещение и среднюю дисперсию модели на тестовой выборке\n",
        "\n",
        "_, avg_bias, avg_var = bias_variance_decomp(bagging, X_train, y_train, X_test, y_test, \n",
        "                                            loss = 'mse', random_seed = 123)"
      ],
      "id": "expired-skill",
      "execution_count": 20,
      "outputs": []
    },
    {
      "cell_type": "code",
      "metadata": {
        "id": "rolled-thong",
        "colab": {
          "base_uri": "https://localhost:8080/"
        },
        "outputId": "14b469e2-4ae5-4449-bca6-b6300cb1d731"
      },
      "source": [
        "avg_bias"
      ],
      "id": "rolled-thong",
      "execution_count": 21,
      "outputs": [
        {
          "output_type": "execute_result",
          "data": {
            "text/plain": [
              "15.801566618647204"
            ]
          },
          "metadata": {},
          "execution_count": 21
        }
      ]
    },
    {
      "cell_type": "code",
      "metadata": {
        "id": "artificial-viewer",
        "colab": {
          "base_uri": "https://localhost:8080/"
        },
        "outputId": "f8a8c6b5-59d1-4c78-fe8c-d9d389ca73c4"
      },
      "source": [
        "avg_var"
      ],
      "id": "artificial-viewer",
      "execution_count": 22,
      "outputs": [
        {
          "output_type": "execute_result",
          "data": {
            "text/plain": [
              "3.5984406979646377"
            ]
          },
          "metadata": {},
          "execution_count": 22
        }
      ]
    },
    {
      "cell_type": "markdown",
      "metadata": {
        "id": "serious-snake"
      },
      "source": [
        "Как мы видим, по сравнению с единичным деревом смещение практически не изменилось, но дисперсия уменьшилась в несколько раз!\n",
        "\n",
        "Посмотрим, как это отразилось на среднеквадратичной ошибке."
      ],
      "id": "serious-snake"
    },
    {
      "cell_type": "code",
      "metadata": {
        "id": "verbal-dream",
        "colab": {
          "base_uri": "https://localhost:8080/"
        },
        "outputId": "d7d3af96-d033-43ab-b263-588faf201b95"
      },
      "source": [
        "# TODO: рассчитайте MSE на тренировочной и тестовой выборках для бэггинга\n",
        "print(\"MSE_train: \", mean_squared_error(y_train, bagging.predict(X_train)))\n",
        "print(\"MSE_test: \", mean_squared_error(y_test, bagging.predict(X_test)))"
      ],
      "id": "verbal-dream",
      "execution_count": 10,
      "outputs": [
        {
          "output_type": "stream",
          "name": "stdout",
          "text": [
            "MSE_train:  3.9211391949152534\n",
            "MSE_test:  16.83000312499999\n"
          ]
        }
      ]
    },
    {
      "cell_type": "markdown",
      "metadata": {
        "id": "antique-baltimore"
      },
      "source": [
        "Среднеквадратичная ошибка на тренировочной выборке больше не равна 0, а на тестовой – уменьшилась, что говорит о том, что мы успешно победили переобучение единичного решающего дерева. \n",
        "\n",
        "Можем ли мы снизить переобучение ещё сильнее? Можем!"
      ],
      "id": "antique-baltimore"
    },
    {
      "cell_type": "markdown",
      "metadata": {
        "id": "overall-adjustment"
      },
      "source": [
        "#### 3.3 Случайный лес"
      ],
      "id": "overall-adjustment"
    },
    {
      "cell_type": "markdown",
      "metadata": {
        "id": "solar-stewart"
      },
      "source": [
        "При построении каждого дерева в бэггинге в ходе создания очередного узла будем выбирать случайный набор признаков, на основе которых производится разбиение. В результате такой процедуры мы уменьшим корреляцию между деревьями, за счёт чего снизим дисперсию итоговой модели. Такой алгоритм назвывается **случайным лесом** (Random Forest). \n",
        "\n",
        "По сравнению с единичным деревом к параметрам случайного леса добавляются:\n",
        "- `max_features` – число признаков, на основе которых проводятся разбиения при построении дерева.\n",
        "\n",
        "- `n_estimators` – число деревьев. \n",
        "\n",
        "Естественно, все параметры, относящиеся к единичному дереву, сохраняются для случайного леса."
      ],
      "id": "solar-stewart"
    },
    {
      "cell_type": "code",
      "metadata": {
        "id": "controlling-somewhere",
        "colab": {
          "base_uri": "https://localhost:8080/"
        },
        "outputId": "c5a1099b-d006-4f73-8f7b-f20b629ff80c"
      },
      "source": [
        "from sklearn.ensemble import RandomForestRegressor\n",
        "\n",
        "# TODO: обучите случайный лес с 20 деревьями, каждое из которых строится без ограничений\n",
        "rf = RandomForestRegressor(n_estimators = 200, max_features=0.4, max_samples=0.8, random_state = 123, oob_score = True)\n",
        "\n",
        "# TODO: выведите среднее смещение и среднюю дисперсию модели на тестовой выборке\n",
        "_, avg_bias, avg_var = bias_variance_decomp(rf, X_train, y_train, X_test, y_test, \n",
        "                                            loss = 'mse', random_seed = 123)\n",
        "\n",
        "# TODO: рассчитайте MSE на тренировочной и тестовой выборках для случайного леса\n",
        "print(\"MSE_train: \", mean_squared_error(y_train, rf.predict(X_train)))\n",
        "print(\"MSE_test: \", mean_squared_error(y_test, rf.predict(X_test)))\n",
        "print(avg_bias, avg_var)"
      ],
      "id": "controlling-somewhere",
      "execution_count": 39,
      "outputs": [
        {
          "output_type": "stream",
          "name": "stdout",
          "text": [
            "MSE_train:  4.019973129943503\n",
            "MSE_test:  13.21320539967107\n",
            "14.016315776739829 1.4891878440537618\n"
          ]
        }
      ]
    },
    {
      "cell_type": "code",
      "source": [
        "rf.oob_score_"
      ],
      "metadata": {
        "id": "JPBqQ3Md9lUy",
        "outputId": "00257db3-7175-4591-b849-5ea31b4b8457",
        "colab": {
          "base_uri": "https://localhost:8080/"
        }
      },
      "id": "JPBqQ3Md9lUy",
      "execution_count": 40,
      "outputs": [
        {
          "output_type": "execute_result",
          "data": {
            "text/plain": [
              "0.9110106856508479"
            ]
          },
          "metadata": {},
          "execution_count": 40
        }
      ]
    },
    {
      "cell_type": "markdown",
      "metadata": {
        "id": "behavioral-combat"
      },
      "source": [
        "Как мы видим, по сравнению с бэггингом смещение вновь осталось практически неизменным, а дисперсия немного уменьшилась. Конечно, если подобрать хорошие гиперпараметры, то получится снизить дисперсию ещё больше. \n",
        "\n",
        "Ошибка на тренировочной выборке увеличилась, а на тестовой – уменьшилась, что означает, что мы добились нашей цели в борьбе с переобученными деревьями!"
      ],
      "id": "behavioral-combat"
    },
    {
      "cell_type": "markdown",
      "metadata": {
        "id": "worth-minority"
      },
      "source": [
        "### 4. Особенности случайного леса"
      ],
      "id": "worth-minority"
    },
    {
      "cell_type": "markdown",
      "metadata": {
        "id": "quality-termination"
      },
      "source": [
        "#### 4.1 Число деревьев и \"Случайный лес не переобучается\""
      ],
      "id": "quality-termination"
    },
    {
      "cell_type": "markdown",
      "metadata": {
        "id": "challenging-turner"
      },
      "source": [
        "В своём [блоге](https://www.stat.berkeley.edu/~breiman/RandomForests/cc_home.htm#remarks) Лео Бриман (Leo Breiman), создатель случайного леса, написал следующее:\n",
        "\n",
        "> Random forest does not overfit. You can run as many trees as you want.\n",
        "\n",
        "**Обратите внимание:** как говорилось на лекции, случайный лес не переобучается именно с ростом числа деревьев (за счёт совместной работы бэггинга и использования случайных подпространств), но не в принципе. Посмотрим на поведение случайного леса при росте числа деревьев."
      ],
      "id": "challenging-turner"
    },
    {
      "cell_type": "code",
      "metadata": {
        "id": "peripheral-punch"
      },
      "source": [
        "X, y = boston_housing_data()\n",
        "X_train, X_test, y_train, y_test = train_test_split(X, y,\n",
        "                                                    test_size = 0.3,\n",
        "                                                    random_state = 123,\n",
        "                                                    shuffle = True)\n",
        "\n",
        "X_train, X_test, y_train, y_test = train_test_split(X, y, test_size = 0.3, random_state = 123)"
      ],
      "id": "peripheral-punch",
      "execution_count": 35,
      "outputs": []
    },
    {
      "cell_type": "code",
      "metadata": {
        "id": "independent-mambo",
        "colab": {
          "base_uri": "https://localhost:8080/",
          "height": 442
        },
        "outputId": "9f2847f0-fb9d-45dd-a28e-4c23a460361c"
      },
      "source": [
        "n_trees = 100\n",
        "train_loss = []\n",
        "test_loss = []\n",
        "\n",
        "for i in range(1, n_trees):\n",
        "    rf = RandomForestRegressor(n_estimators = i, random_state = 123)\n",
        "    rf.fit(X_train, y_train)\n",
        "    train_loss.append(mean_squared_error(y_train, rf.predict(X_train)))\n",
        "    test_loss.append(mean_squared_error(y_test, rf.predict(X_test)))\n",
        "    \n",
        "plt.figure(figsize = (10, 7))\n",
        "plt.grid()\n",
        "plt.plot(train_loss, label = 'MSE_train')\n",
        "plt.plot(test_loss, label = 'MSE_test')\n",
        "plt.ylabel('MSE')\n",
        "plt.xlabel('# trees')\n",
        "plt.legend();"
      ],
      "id": "independent-mambo",
      "execution_count": 29,
      "outputs": [
        {
          "output_type": "display_data",
          "data": {
            "text/plain": [
              "<Figure size 720x504 with 1 Axes>"
            ],
            "image/png": "[encoded data removed]"
          },
          "metadata": {
            "needs_background": "light"
          }
        }
      ]
    },
    {
      "cell_type": "markdown",
      "metadata": {
        "id": "lucky-pattern"
      },
      "source": [
        "Как и ожидалось, по достижении некоторого числа деревьев обе ошибки практически не изменяются, то есть переобучения при росте числа деревьев не происходит.\n",
        "\n",
        "Однако в какой-нибудь другой плоскости на реальных данных переобучение может произойти: [пример 1](https://datascience.stackexchange.com/questions/1028/do-random-forest-overfit), [пример 2](https://mljar.com/blog/random-forest-overfitting/). \n",
        "\n",
        "В нашем же случае случайный лес, скорее, лишь страдает от регуляризации. Например, посмотрим на поведение модели при изменении максимальной глубины деревьев (поэксперементируйте с другими параметрами)."
      ],
      "id": "lucky-pattern"
    },
    {
      "cell_type": "code",
      "metadata": {
        "id": "personal-triumph",
        "colab": {
          "base_uri": "https://localhost:8080/",
          "height": 443
        },
        "outputId": "ecbddc44-be3a-4f6e-e0bf-1d9eeac7f6c6"
      },
      "source": [
        "max_depth = 40\n",
        "train_loss = []\n",
        "test_loss = []\n",
        "\n",
        "for i in range(1, max_depth):\n",
        "    rf = RandomForestRegressor(n_estimators = 20, max_depth = i, random_state = 123)\n",
        "    rf.fit(X_train, y_train)\n",
        "    train_loss.append(mean_squared_error(y_train, rf.predict(X_train)))\n",
        "    test_loss.append(mean_squared_error(y_test, rf.predict(X_test)))\n",
        "    \n",
        "plt.figure(figsize = (10, 7))\n",
        "plt.grid()\n",
        "plt.plot(train_loss, label = 'MSE_train')\n",
        "plt.plot(test_loss, label = 'MSE_test')\n",
        "plt.ylabel('MSE')\n",
        "plt.xlabel('max_depth')\n",
        "plt.legend();"
      ],
      "id": "personal-triumph",
      "execution_count": 30,
      "outputs": [
        {
          "output_type": "display_data",
          "data": {
            "text/plain": [
              "<Figure size 720x504 with 1 Axes>"
            ],
            "image/png": "[encoded data removed]"
          },
          "metadata": {
            "needs_background": "light"
          }
        }
      ]
    },
    {
      "cell_type": "markdown",
      "metadata": {
        "id": "august-whole"
      },
      "source": [
        "Переобучение не наблюдается. Вообще же, как обычно, гиперпараметры случайного леса стоит подбирать на кросс-валидации."
      ],
      "id": "august-whole"
    },
    {
      "cell_type": "markdown",
      "metadata": {
        "id": "inside-basic"
      },
      "source": [
        "#### 4.2 Out-of-bag-ошибка"
      ],
      "id": "inside-basic"
    },
    {
      "cell_type": "markdown",
      "metadata": {
        "id": "accessible-venezuela"
      },
      "source": [
        "Как мы обсудили выше, при построении случайного леса каждое дерево строится на бутстрапированной подвыборке, полученной из исходной обучающей выборки случайным набором с повторениями. Понятно, что некоторые наблюдения попадут в такую подвыборку несколько раз, а некоторые не войдут в неё вообще. Для каждого дерева можем рассмотреть объекты, которые не участвовали в обучении и использовать их для валидации.\n",
        "\n",
        "Усреднённая ошибка на неотобранных образцах по всему случайному лесу называется **out-of-bag-ошибкой**."
      ],
      "id": "accessible-venezuela"
    },
    {
      "cell_type": "code",
      "metadata": {
        "id": "three-extra",
        "colab": {
          "base_uri": "https://localhost:8080/"
        },
        "outputId": "0fb288c1-7231-499f-ceb0-0031713bac9d"
      },
      "source": [
        "X, y = boston_housing_data()\n",
        "X_train, X_test, y_train, y_test = train_test_split(X, y,\n",
        "                                                    test_size = 0.3,\n",
        "                                                    random_state = 123,\n",
        "                                                    shuffle = True)\n",
        "\n",
        "X_train, X_test, y_train, y_test = train_test_split(X, y, test_size = 0.3, random_state = 123)\n",
        "\n",
        "# oob_score_ = R2 на невиденных наблюдениях\n",
        "rf = RandomForestRegressor(n_estimators = 100, random_state = 123, oob_score = True)\n",
        "rf.fit(X_train, y_train)\n",
        "\n",
        "_, avg_bias, avg_var = bias_variance_decomp(rf, X_train, y_train, X_test, y_test, \n",
        "                                            loss = 'mse', random_seed = 123)\n",
        "\n",
        "\n",
        "rf.oob_score_"
      ],
      "id": "three-extra",
      "execution_count": 45,
      "outputs": [
        {
          "output_type": "execute_result",
          "data": {
            "text/plain": [
              "0.920883495030601"
            ]
          },
          "metadata": {},
          "execution_count": 45
        }
      ]
    },
    {
      "cell_type": "code",
      "source": [
        "print(\"MSE_train: \", mean_squared_error(y_train, rf.predict(X_train)))\n",
        "print(\"MSE_test: \", mean_squared_error(y_test, rf.predict(X_test)))\n",
        "print(avg_bias, avg_var)"
      ],
      "metadata": {
        "id": "luKp7UWI_maQ",
        "outputId": "b96204f4-9c81-46b4-f3a0-05f3b142ac60",
        "colab": {
          "base_uri": "https://localhost:8080/"
        }
      },
      "id": "luKp7UWI_maQ",
      "execution_count": 46,
      "outputs": [
        {
          "output_type": "stream",
          "name": "stdout",
          "text": [
            "MSE_train:  4.054754734463279\n",
            "MSE_test:  16.456454453947373\n",
            "15.397700086067445 3.1396284730773036\n"
          ]
        }
      ]
    },
    {
      "cell_type": "markdown",
      "metadata": {
        "id": "killing-partnership"
      },
      "source": [
        "#### 4.3 Важность признаков"
      ],
      "id": "killing-partnership"
    },
    {
      "cell_type": "markdown",
      "metadata": {
        "id": "stunning-lightweight"
      },
      "source": [
        "Как и решающие деревья, случайный лес позволяет оценивать важность признаков."
      ],
      "id": "stunning-lightweight"
    },
    {
      "cell_type": "code",
      "source": [
        "data = boston_housing_data()"
      ],
      "metadata": {
        "id": "fwX-n7-d98l0"
      },
      "id": "fwX-n7-d98l0",
      "execution_count": 36,
      "outputs": []
    },
    {
      "cell_type": "code",
      "metadata": {
        "id": "threatened-rating",
        "outputId": "c845a22f-42fe-486f-a1ef-f6ac79e747e8",
        "colab": {
          "base_uri": "https://localhost:8080/",
          "height": 1000
        }
      },
      "source": [
        "from sklearn.datasets import load_boston\n",
        "data = load_boston()"
      ],
      "id": "threatened-rating",
      "execution_count": 34,
      "outputs": [
        {
          "output_type": "error",
          "ename": "ImportError",
          "evalue": "ignored",
          "traceback": [
            "\u001b[1;31m---------------------------------------------------------------------------\u001b[0m",
            "\u001b[1;31mImportError\u001b[0m                               Traceback (most recent call last)",
            "\u001b[1;32mC:\\Temp/ipykernel_21756/3562965293.py\u001b[0m in \u001b[0;36m<module>\u001b[1;34m\u001b[0m\n\u001b[1;32m----> 1\u001b[1;33m \u001b[1;32mfrom\u001b[0m \u001b[0msklearn\u001b[0m\u001b[1;33m.\u001b[0m\u001b[0mdatasets\u001b[0m \u001b[1;32mimport\u001b[0m \u001b[0mload_boston\u001b[0m\u001b[1;33m\u001b[0m\u001b[1;33m\u001b[0m\u001b[0m\n\u001b[0m\u001b[0;32m      2\u001b[0m \u001b[0mdata\u001b[0m \u001b[1;33m=\u001b[0m \u001b[0mload_boston\u001b[0m\u001b[1;33m(\u001b[0m\u001b[1;33m)\u001b[0m\u001b[1;33m\u001b[0m\u001b[1;33m\u001b[0m\u001b[0m\n",
            "\u001b[1;32mC:\\Program Files\\Python310\\lib\\site-packages\\sklearn\\datasets\\__init__.py\u001b[0m in \u001b[0;36m__getattr__\u001b[1;34m(name)\u001b[0m\n\u001b[0;32m    154\u001b[0m             \"\"\"\n\u001b[0;32m    155\u001b[0m         )\n\u001b[1;32m--> 156\u001b[1;33m         \u001b[1;32mraise\u001b[0m \u001b[0mImportError\u001b[0m\u001b[1;33m(\u001b[0m\u001b[0mmsg\u001b[0m\u001b[1;33m)\u001b[0m\u001b[1;33m\u001b[0m\u001b[1;33m\u001b[0m\u001b[0m\n\u001b[0m\u001b[0;32m    157\u001b[0m     \u001b[1;32mtry\u001b[0m\u001b[1;33m:\u001b[0m\u001b[1;33m\u001b[0m\u001b[1;33m\u001b[0m\u001b[0m\n\u001b[0;32m    158\u001b[0m         \u001b[1;32mreturn\u001b[0m \u001b[0mglobals\u001b[0m\u001b[1;33m(\u001b[0m\u001b[1;33m)\u001b[0m\u001b[1;33m[\u001b[0m\u001b[0mname\u001b[0m\u001b[1;33m]\u001b[0m\u001b[1;33m\u001b[0m\u001b[1;33m\u001b[0m\u001b[0m\n",
            "\u001b[1;31mImportError\u001b[0m: \n`load_boston` has been removed from scikit-learn since version 1.2.\n\nThe Boston housing prices dataset has an ethical problem: as\ninvestigated in [1], the authors of this dataset engineered a\nnon-invertible variable \"B\" assuming that racial self-segregation had a\npositive impact on house prices [2]. Furthermore the goal of the\nresearch that led to the creation of this dataset was to study the\nimpact of air quality but it did not give adequate demonstration of the\nvalidity of this assumption.\n\nThe scikit-learn maintainers therefore strongly discourage the use of\nthis dataset unless the purpose of the code is to study and educate\nabout ethical issues in data science and machine learning.\n\nIn this special case, you can fetch the dataset from the original\nsource::\n\n    import pandas as pd\n    import numpy as np\n\n    data_url = \"http://lib.stat.cmu.edu/datasets/boston\"\n    raw_df = pd.read_csv(data_url, sep=\"\\s+\", skiprows=22, header=None)\n    data = np.hstack([raw_df.values[::2, :], raw_df.values[1::2, :2]])\n    target = raw_df.values[1::2, 2]\n\nAlternative datasets include the California housing dataset and the\nAmes housing dataset. You can load the datasets as follows::\n\n    from sklearn.datasets import fetch_california_housing\n    housing = fetch_california_housing()\n\nfor the California housing dataset and::\n\n    from sklearn.datasets import fetch_openml\n    housing = fetch_openml(name=\"house_prices\", as_frame=True)\n\nfor the Ames housing dataset.\n\n[1] M Carlisle.\n\"Racist data destruction?\"\n<https://medium.com/@docintangible/racist-data-destruction-113e3eff54a8>\n\n[2] Harrison Jr, David, and Daniel L. Rubinfeld.\n\"Hedonic housing prices and the demand for clean air.\"\nJournal of environmental economics and management 5.1 (1978): 81-102.\n<https://www.researchgate.net/publication/4974606_Hedonic_housing_prices_and_the_demand_for_clean_air>\n"
          ]
        }
      ]
    },
    {
      "cell_type": "code",
      "source": [
        "plt.figure(figsize = (10, 7))\n",
        "plt.bar(data['feature_names'], rf.feature_importances_);"
      ],
      "metadata": {
        "id": "VtThHqeh9_kb",
        "outputId": "4e8984e6-f9ed-4098-c18d-5780239ff0e6",
        "colab": {
          "base_uri": "https://localhost:8080/",
          "height": 200
        }
      },
      "id": "VtThHqeh9_kb",
      "execution_count": 37,
      "outputs": [
        {
          "output_type": "error",
          "ename": "TypeError",
          "evalue": "ignored",
          "traceback": [
            "\u001b[1;31m---------------------------------------------------------------------------\u001b[0m",
            "\u001b[1;31mTypeError\u001b[0m                                 Traceback (most recent call last)",
            "\u001b[1;32mC:\\Temp/ipykernel_21756/4193401904.py\u001b[0m in \u001b[0;36m<module>\u001b[1;34m\u001b[0m\n\u001b[0;32m      1\u001b[0m \u001b[0mplt\u001b[0m\u001b[1;33m.\u001b[0m\u001b[0mfigure\u001b[0m\u001b[1;33m(\u001b[0m\u001b[0mfigsize\u001b[0m \u001b[1;33m=\u001b[0m \u001b[1;33m(\u001b[0m\u001b[1;36m10\u001b[0m\u001b[1;33m,\u001b[0m \u001b[1;36m7\u001b[0m\u001b[1;33m)\u001b[0m\u001b[1;33m)\u001b[0m\u001b[1;33m\u001b[0m\u001b[1;33m\u001b[0m\u001b[0m\n\u001b[1;32m----> 2\u001b[1;33m \u001b[0mplt\u001b[0m\u001b[1;33m.\u001b[0m\u001b[0mbar\u001b[0m\u001b[1;33m(\u001b[0m\u001b[0mdata\u001b[0m\u001b[1;33m[\u001b[0m\u001b[1;34m'feature_names'\u001b[0m\u001b[1;33m]\u001b[0m\u001b[1;33m,\u001b[0m \u001b[0mrf\u001b[0m\u001b[1;33m.\u001b[0m\u001b[0mfeature_importances_\u001b[0m\u001b[1;33m)\u001b[0m\u001b[1;33m;\u001b[0m\u001b[1;33m\u001b[0m\u001b[1;33m\u001b[0m\u001b[0m\n\u001b[0m",
            "\u001b[1;31mTypeError\u001b[0m: tuple indices must be integers or slices, not str"
          ]
        },
        {
          "output_type": "display_data",
          "data": {
            "text/plain": [
              "<Figure size 720x504 with 0 Axes>"
            ]
          },
          "metadata": {}
        }
      ]
    },
    {
      "cell_type": "code",
      "metadata": {
        "id": "genuine-swedish",
        "colab": {
          "base_uri": "https://localhost:8080/",
          "height": 428
        },
        "outputId": "af002c22-01d1-4182-d472-6092ca1b9595"
      },
      "source": [
        "plt.figure(figsize = (10, 7))\n",
        "plt.bar(data['feature_names'], rf.feature_importances_);"
      ],
      "id": "genuine-swedish",
      "execution_count": null,
      "outputs": [
        {
          "output_type": "display_data",
          "data": {
            "image/png": "[encoded data removed]",
            "text/plain": [
              "<Figure size 720x504 with 1 Axes>"
            ]
          },
          "metadata": {
            "tags": [],
            "needs_background": "light"
          }
        }
      ]
    },
    {
      "cell_type": "markdown",
      "metadata": {
        "id": "human-writer"
      },
      "source": [
        "Будьте осторожны с сильно коррелирующими признаками. Посмотрим, что произойдёт с важностью, если добавить в выборку линейно зависимый признак."
      ],
      "id": "human-writer"
    },
    {
      "cell_type": "code",
      "metadata": {
        "id": "covered-booth"
      },
      "source": [
        "RM_mc = (X_train[:, 5] * 2 + 3).reshape(-1, 1)\n",
        "X_train_new = np.hstack((X_train, RM_mc))"
      ],
      "id": "covered-booth",
      "execution_count": null,
      "outputs": []
    },
    {
      "cell_type": "code",
      "metadata": {
        "id": "romantic-opportunity",
        "colab": {
          "base_uri": "https://localhost:8080/"
        },
        "outputId": "81191fe1-b66e-4583-816f-d4f8f43606a5"
      },
      "source": [
        "rf.fit(X_train_new, y_train)"
      ],
      "id": "romantic-opportunity",
      "execution_count": null,
      "outputs": [
        {
          "output_type": "execute_result",
          "data": {
            "text/plain": [
              "RandomForestRegressor(bootstrap=True, ccp_alpha=0.0, criterion='mse',\n",
              "                      max_depth=None, max_features='auto', max_leaf_nodes=None,\n",
              "                      max_samples=None, min_impurity_decrease=0.0,\n",
              "                      min_impurity_split=None, min_samples_leaf=1,\n",
              "                      min_samples_split=2, min_weight_fraction_leaf=0.0,\n",
              "                      n_estimators=100, n_jobs=None, oob_score=True,\n",
              "                      random_state=123, verbose=0, warm_start=False)"
            ]
          },
          "metadata": {
            "tags": []
          },
          "execution_count": 35
        }
      ]
    },
    {
      "cell_type": "code",
      "metadata": {
        "id": "technical-glenn",
        "colab": {
          "base_uri": "https://localhost:8080/",
          "height": 429
        },
        "outputId": "0c34f0ce-dc18-4b42-8754-9b11bd361461"
      },
      "source": [
        "plt.figure(figsize = (10, 7))\n",
        "names = list(data['feature_names'])\n",
        "names.append('RM_mc')\n",
        "plt.bar(names, rf.feature_importances_);"
      ],
      "id": "technical-glenn",
      "execution_count": null,
      "outputs": [
        {
          "output_type": "display_data",
          "data": {
            "image/png": "[encoded data removed]",
            "text/plain": [
              "<Figure size 720x504 with 1 Axes>"
            ]
          },
          "metadata": {
            "tags": [],
            "needs_background": "light"
          }
        }
      ]
    },
    {
      "cell_type": "markdown",
      "metadata": {
        "id": "polyphonic-swing"
      },
      "source": [
        "Важности перераспределились между линейной зависимыми признаками `RM` и `RM_mc`. Не забывайте учитывать корреляции между признаками, если вы используете этот метод для отбора признаков. Также обратите внимание на предупреждение в документации `sklearn`: не стоит использовать этот метод и для признаков, в которых есть много уникальных значений (например, категориальные признаки с небольшим числом категорий). "
      ],
      "id": "polyphonic-swing"
    },
    {
      "cell_type": "markdown",
      "metadata": {
        "id": "awful-motel"
      },
      "source": [
        "### 5. Тестирование случайного леса на разных данных"
      ],
      "id": "awful-motel"
    },
    {
      "cell_type": "markdown",
      "metadata": {
        "id": "loving-circumstances"
      },
      "source": [
        "Ниже представлены шаблоны для сравнения случайного леса и других моделей на данных разных типов. Проведите побольше экспериментов, используя разные модели и метрики. Попробуйте подобрать гиперпараметры случайного леса так, чтобы достичь какого-нибудь порога качества. \n",
        "\n",
        "**Внимание:** в этой части вам предстоит скачивать объёмные наборы данных. Не забудьте удалить их после семинара, если не планируете использовать их в дальнейшем, чтобы они не занимали лишнее место на вашем компьютере.\n",
        "\n",
        "**! Случайный лес может обучаться достаточно долго.**"
      ],
      "id": "loving-circumstances"
    },
    {
      "cell_type": "markdown",
      "metadata": {
        "id": "found-scheme"
      },
      "source": [
        "#### 5.1 Бинарная классификация на примере [Kaggle Predicting a Biological Response](https://www.kaggle.com/c/bioresponse/data?select=train.csv)"
      ],
      "id": "found-scheme"
    },
    {
      "cell_type": "code",
      "metadata": {
        "id": "western-office"
      },
      "source": [
        "# Загрузка данных\n",
        "!wget  -O 'kaggle_response.csv' -q 'https://www.dropbox.com/s/uha70sej5ugcrur/_train_sem09.csv?dl=1'"
      ],
      "id": "western-office",
      "execution_count": null,
      "outputs": []
    },
    {
      "cell_type": "code",
      "metadata": {
        "id": "colonial-calculation"
      },
      "source": [
        "data = pd.read_csv('kaggle_response.csv')\n",
        "X = data.iloc[:, 1:].values\n",
        "y = data.iloc[:, 0].values\n",
        "X_train, X_test, y_train, y_test = train_test_split(X, y, test_size = 0.3, random_state = 123)"
      ],
      "id": "colonial-calculation",
      "execution_count": null,
      "outputs": []
    },
    {
      "cell_type": "code",
      "metadata": {
        "id": "educated-think",
        "outputId": "ef8a898d-74b3-43bd-c094-ff3f6a6f1757"
      },
      "source": [
        "from sklearn.linear_model import LogisticRegression\n",
        "from sklearn.ensemble import RandomForestClassifier\n",
        "from sklearn.metrics import roc_auc_score\n",
        "\n",
        "# TODO: обучите логистическую регрессию и случайный лес с дефолтными параметрами\n",
        "# Сравните их AUC ROC на тестовой выборке\n",
        "\n",
        "rf = RandomForestClassifier()\n",
        "rf.fit(X_train, y_train)\n",
        "pred_rf = rf.predict_proba(X_test)\n",
        "\n",
        "lr = LogisticRegression()\n",
        "lr.fit(X_train, y_train)\n",
        "pred_lr = lr.predict_proba(X_test)"
      ],
      "id": "educated-think",
      "execution_count": null,
      "outputs": [
        {
          "output_type": "stream",
          "text": [
            "/opt/anaconda3/lib/python3.8/site-packages/sklearn/linear_model/_logistic.py:763: ConvergenceWarning: lbfgs failed to converge (status=1):\n",
            "STOP: TOTAL NO. of ITERATIONS REACHED LIMIT.\n",
            "\n",
            "Increase the number of iterations (max_iter) or scale the data as shown in:\n",
            "    https://scikit-learn.org/stable/modules/preprocessing.html\n",
            "Please also refer to the documentation for alternative solver options:\n",
            "    https://scikit-learn.org/stable/modules/linear_model.html#logistic-regression\n",
            "  n_iter_i = _check_optimize_result(\n"
          ],
          "name": "stderr"
        }
      ]
    },
    {
      "cell_type": "code",
      "metadata": {
        "id": "christian-visiting",
        "outputId": "c1948828-1654-4496-c016-a1b818995584"
      },
      "source": [
        "roc_auc_score(y_test, pred_rf[:, 1])"
      ],
      "id": "christian-visiting",
      "execution_count": null,
      "outputs": [
        {
          "output_type": "execute_result",
          "data": {
            "text/plain": [
              "0.8767595559624628"
            ]
          },
          "metadata": {
            "tags": []
          },
          "execution_count": 299
        }
      ]
    },
    {
      "cell_type": "code",
      "metadata": {
        "id": "surprising-vitamin",
        "outputId": "86c3fc84-32c2-47f6-b160-4bb549696e76"
      },
      "source": [
        "roc_auc_score(y_test, pred_lr[:, 1])"
      ],
      "id": "surprising-vitamin",
      "execution_count": null,
      "outputs": [
        {
          "output_type": "execute_result",
          "data": {
            "text/plain": [
              "0.8015754940108338"
            ]
          },
          "metadata": {
            "tags": []
          },
          "execution_count": 300
        }
      ]
    },
    {
      "cell_type": "markdown",
      "metadata": {
        "id": "apparent-colon"
      },
      "source": [
        "#### 5.2 Изображения на примере [Fashion MNIST](https://github.com/zalandoresearch/fashion-mnist)"
      ],
      "id": "apparent-colon"
    },
    {
      "cell_type": "code",
      "metadata": {
        "id": "furnished-indian",
        "outputId": "27cfc12a-c6d9-4715-bf43-34a9a2f9ea97",
        "colab": {
          "base_uri": "https://localhost:8080/",
          "height": 549,
          "referenced_widgets": [
            "b23b4889077442bea1a6472caf71489c",
            "b2360a1e3134451fb170570f4d033236",
            "76823c8d832b43589c1c247ead355132",
            "995578499ab342eb875ba6bd80807198",
            "c887ffc81b6a435682b40997a97335f9",
            "2e484e8894f84ae9a8491f62ad441cc4",
            "c956a9fe1b164abab0426c8b1ffa5ec6",
            "3f1928996db64094abd40692b53c7eae",
            "d4e7316f3c874f6fb21778de37eae110",
            "84e1271abf104cbe8435dd8ddc1af9fc",
            "65199efe6c8846cdacbd17f009de07fe",
            "f00df086b5804b16837c5c06cfd38111",
            "6fd9d61fc002446498562ca3adffa393",
            "49d56cccc76a427196530d83c244b571",
            "b3d2af4b7d764f74a687bb012bde544f",
            "dbf290cba54a489ca82d9e403c0e0854",
            "c6cdadf5a94d4179933663552870436f",
            "daa72a30abf74821b5943f5a9b8d78d8",
            "afde8dc840f64d2596e76b5f3d2d5934",
            "ded8efa169b1405a9c94b6bfc2493b41",
            "8d63af2f09914e42ac7e4dccb7cae994",
            "5db50dc97d2f4f61bada69bfaad8dbea",
            "220009d79c4548a8ab101ca11b5cabea",
            "9e46ffbc264f4298b73d9f57e927cf89",
            "21b06eb155bf4468a2225e217db79ad9",
            "89bf51b040154e38b529f69a2fc06ef2",
            "4d1208a23b9546f7998da142ff293ecc",
            "513b539c9bd4474c89ace048e6c7ac93",
            "9d89f4b1d96a442ebf49dfdfb0cf94d6",
            "37ee4e82d2ea4aea80a56060560545a6",
            "020b1a46461f41a9b9e81192d6b47600",
            "bed6ca8a537b4f3e9c38255f1e2e0b46",
            "361ce99bd4264c06b196317b455233b8",
            "94d0def27393457081ad7bf5d3bd4000",
            "6c37bc9a93ca4b8e99fcc841d2c83596",
            "83ac3cd111ff4ffea451d66d6dc70c80",
            "eb9788e299ac47a5b43b6b6410ec8c10",
            "fecfdea963824b8d84a83cdc42f08352",
            "ee20d42e495f4d679fc3a24116d6819c",
            "43bde1195943430c8fe34434021f0ebd",
            "3b7b1d206412404786f26363de7e1c43",
            "36f4ee1a5c1f41b7848a507d84705e80",
            "db3c59d527634d5289b2c7dbc924fbbb",
            "44147f6ff58b4596a68e607fc5433207"
          ]
        }
      },
      "source": [
        "# Загрузка данных\n",
        "import torchvision\n",
        "\n",
        "fmnist = torchvision.datasets.FashionMNIST('./', download = True)\n",
        "X = fmnist.data.numpy().reshape(-1, 28 * 28)\n",
        "y = fmnist.targets.numpy()"
      ],
      "id": "furnished-indian",
      "execution_count": 38,
      "outputs": [
        {
          "output_type": "stream",
          "name": "stderr",
          "text": [
            "C:\\Program Files\\Python310\\lib\\site-packages\\torchvision\\models\\detection\\anchor_utils.py:63: UserWarning: Failed to initialize NumPy: module compiled against API version 0x10 but this version of numpy is 0xf (Triggered internally at ..\\torch\\csrc\\utils\\tensor_numpy.cpp:77.)\n",
            "  device: torch.device = torch.device(\"cpu\"),\n"
          ]
        },
        {
          "output_type": "stream",
          "name": "stdout",
          "text": [
            "Downloading http://fashion-mnist.s3-website.eu-central-1.amazonaws.com/train-images-idx3-ubyte.gz\n",
            "Downloading http://fashion-mnist.s3-website.eu-central-1.amazonaws.com/train-images-idx3-ubyte.gz to ./FashionMNIST\\raw\\train-images-idx3-ubyte.gz\n"
          ]
        },
        {
          "output_type": "display_data",
          "data": {
            "text/plain": [
              "  0%|          | 0/26421880 [00:00<?, ?it/s]"
            ],
            "application/vnd.jupyter.widget-view+json": {
              "version_major": 2,
              "version_minor": 0,
              "model_id": "b23b4889077442bea1a6472caf71489c"
            },
            "application/json": {
              "n": 0,
              "total": 26421880,
              "elapsed": 0.010999202728271484,
              "ncols": null,
              "nrows": 39,
              "prefix": "",
              "ascii": false,
              "unit": "it",
              "unit_scale": false,
              "rate": null,
              "bar_format": null,
              "postfix": null,
              "unit_divisor": 1000,
              "initial": 0,
              "colour": null
            }
          },
          "metadata": {}
        },
        {
          "output_type": "stream",
          "name": "stdout",
          "text": [
            "Extracting ./FashionMNIST\\raw\\train-images-idx3-ubyte.gz to ./FashionMNIST\\raw\n",
            "\n",
            "Downloading http://fashion-mnist.s3-website.eu-central-1.amazonaws.com/train-labels-idx1-ubyte.gz\n",
            "Downloading http://fashion-mnist.s3-website.eu-central-1.amazonaws.com/train-labels-idx1-ubyte.gz to ./FashionMNIST\\raw\\train-labels-idx1-ubyte.gz\n"
          ]
        },
        {
          "output_type": "display_data",
          "data": {
            "text/plain": [
              "  0%|          | 0/29515 [00:00<?, ?it/s]"
            ],
            "application/vnd.jupyter.widget-view+json": {
              "version_major": 2,
              "version_minor": 0,
              "model_id": "f00df086b5804b16837c5c06cfd38111"
            },
            "application/json": {
              "n": 0,
              "total": 29515,
              "elapsed": 0.011005163192749023,
              "ncols": null,
              "nrows": 39,
              "prefix": "",
              "ascii": false,
              "unit": "it",
              "unit_scale": false,
              "rate": null,
              "bar_format": null,
              "postfix": null,
              "unit_divisor": 1000,
              "initial": 0,
              "colour": null
            }
          },
          "metadata": {}
        },
        {
          "output_type": "stream",
          "name": "stdout",
          "text": [
            "Extracting ./FashionMNIST\\raw\\train-labels-idx1-ubyte.gz to ./FashionMNIST\\raw\n",
            "\n",
            "Downloading http://fashion-mnist.s3-website.eu-central-1.amazonaws.com/t10k-images-idx3-ubyte.gz\n",
            "Downloading http://fashion-mnist.s3-website.eu-central-1.amazonaws.com/t10k-images-idx3-ubyte.gz to ./FashionMNIST\\raw\\t10k-images-idx3-ubyte.gz\n"
          ]
        },
        {
          "output_type": "display_data",
          "data": {
            "text/plain": [
              "  0%|          | 0/4422102 [00:00<?, ?it/s]"
            ],
            "application/vnd.jupyter.widget-view+json": {
              "version_major": 2,
              "version_minor": 0,
              "model_id": "220009d79c4548a8ab101ca11b5cabea"
            },
            "application/json": {
              "n": 0,
              "total": 4422102,
              "elapsed": 0.010997772216796875,
              "ncols": null,
              "nrows": 39,
              "prefix": "",
              "ascii": false,
              "unit": "it",
              "unit_scale": false,
              "rate": null,
              "bar_format": null,
              "postfix": null,
              "unit_divisor": 1000,
              "initial": 0,
              "colour": null
            }
          },
          "metadata": {}
        },
        {
          "output_type": "stream",
          "name": "stdout",
          "text": [
            "Extracting ./FashionMNIST\\raw\\t10k-images-idx3-ubyte.gz to ./FashionMNIST\\raw\n",
            "\n",
            "Downloading http://fashion-mnist.s3-website.eu-central-1.amazonaws.com/t10k-labels-idx1-ubyte.gz\n",
            "Downloading http://fashion-mnist.s3-website.eu-central-1.amazonaws.com/t10k-labels-idx1-ubyte.gz to ./FashionMNIST\\raw\\t10k-labels-idx1-ubyte.gz\n"
          ]
        },
        {
          "output_type": "display_data",
          "data": {
            "text/plain": [
              "  0%|          | 0/5148 [00:00<?, ?it/s]"
            ],
            "application/vnd.jupyter.widget-view+json": {
              "version_major": 2,
              "version_minor": 0,
              "model_id": "94d0def27393457081ad7bf5d3bd4000"
            },
            "application/json": {
              "n": 0,
              "total": 5148,
              "elapsed": 0.011002063751220703,
              "ncols": null,
              "nrows": 39,
              "prefix": "",
              "ascii": false,
              "unit": "it",
              "unit_scale": false,
              "rate": null,
              "bar_format": null,
              "postfix": null,
              "unit_divisor": 1000,
              "initial": 0,
              "colour": null
            }
          },
          "metadata": {}
        },
        {
          "output_type": "stream",
          "name": "stdout",
          "text": [
            "Extracting ./FashionMNIST\\raw\\t10k-labels-idx1-ubyte.gz to ./FashionMNIST\\raw\n",
            "\n"
          ]
        },
        {
          "output_type": "error",
          "ename": "RuntimeError",
          "evalue": "ignored",
          "traceback": [
            "\u001b[1;31m---------------------------------------------------------------------------\u001b[0m",
            "\u001b[1;31mRuntimeError\u001b[0m                              Traceback (most recent call last)",
            "\u001b[1;32mC:\\Temp/ipykernel_21756/1947688471.py\u001b[0m in \u001b[0;36m<module>\u001b[1;34m\u001b[0m\n\u001b[0;32m      3\u001b[0m \u001b[1;33m\u001b[0m\u001b[0m\n\u001b[0;32m      4\u001b[0m \u001b[0mfmnist\u001b[0m \u001b[1;33m=\u001b[0m \u001b[0mtorchvision\u001b[0m\u001b[1;33m.\u001b[0m\u001b[0mdatasets\u001b[0m\u001b[1;33m.\u001b[0m\u001b[0mFashionMNIST\u001b[0m\u001b[1;33m(\u001b[0m\u001b[1;34m'./'\u001b[0m\u001b[1;33m,\u001b[0m \u001b[0mdownload\u001b[0m \u001b[1;33m=\u001b[0m \u001b[1;32mTrue\u001b[0m\u001b[1;33m)\u001b[0m\u001b[1;33m\u001b[0m\u001b[1;33m\u001b[0m\u001b[0m\n\u001b[1;32m----> 5\u001b[1;33m \u001b[0mX\u001b[0m \u001b[1;33m=\u001b[0m \u001b[0mfmnist\u001b[0m\u001b[1;33m.\u001b[0m\u001b[0mdata\u001b[0m\u001b[1;33m.\u001b[0m\u001b[0mnumpy\u001b[0m\u001b[1;33m(\u001b[0m\u001b[1;33m)\u001b[0m\u001b[1;33m.\u001b[0m\u001b[0mreshape\u001b[0m\u001b[1;33m(\u001b[0m\u001b[1;33m-\u001b[0m\u001b[1;36m1\u001b[0m\u001b[1;33m,\u001b[0m \u001b[1;36m28\u001b[0m \u001b[1;33m*\u001b[0m \u001b[1;36m28\u001b[0m\u001b[1;33m)\u001b[0m\u001b[1;33m\u001b[0m\u001b[1;33m\u001b[0m\u001b[0m\n\u001b[0m\u001b[0;32m      6\u001b[0m \u001b[0my\u001b[0m \u001b[1;33m=\u001b[0m \u001b[0mfmnist\u001b[0m\u001b[1;33m.\u001b[0m\u001b[0mtargets\u001b[0m\u001b[1;33m.\u001b[0m\u001b[0mnumpy\u001b[0m\u001b[1;33m(\u001b[0m\u001b[1;33m)\u001b[0m\u001b[1;33m\u001b[0m\u001b[1;33m\u001b[0m\u001b[0m\n",
            "\u001b[1;31mRuntimeError\u001b[0m: Numpy is not available"
          ]
        }
      ]
    },
    {
      "cell_type": "code",
      "metadata": {
        "id": "isolated-celebrity",
        "outputId": "d7fe9fa9-4162-4d26-e070-6f27f9eee859"
      },
      "source": [
        "plt.imshow(X[0, :].reshape(28, 28))"
      ],
      "id": "isolated-celebrity",
      "execution_count": null,
      "outputs": [
        {
          "output_type": "execute_result",
          "data": {
            "text/plain": [
              "<matplotlib.image.AxesImage at 0x7f93e885a880>"
            ]
          },
          "metadata": {
            "tags": []
          },
          "execution_count": 310
        },
        {
          "output_type": "display_data",
          "data": {
            "image/png": "[encoded data removed]",
            "text/plain": [
              "<Figure size 432x288 with 1 Axes>"
            ]
          },
          "metadata": {
            "tags": [],
            "needs_background": "light"
          }
        }
      ]
    },
    {
      "cell_type": "code",
      "metadata": {
        "id": "magnetic-moscow"
      },
      "source": [
        "X_train, X_test, y_train, y_test = train_test_split(X, y, test_size = 0.3, random_state = 123)"
      ],
      "id": "magnetic-moscow",
      "execution_count": null,
      "outputs": []
    },
    {
      "cell_type": "code",
      "metadata": {
        "id": "together-diesel"
      },
      "source": [
        "from sklearn.neighbors import KNeighborsClassifier\n",
        "from sklearn.metrics import accuracy_score\n",
        "\n",
        "# TODO: обучите случайный лес и kNN с дефолтными параметрами\n",
        "# Сравните их доли правильных ответов на тестовой выборке\n",
        "\n",
        "rf = RandomForestClassifier()\n",
        "rf.fit(X_train, y_train)\n",
        "pred_rf = rf.predict(X_test)\n",
        "\n",
        "knn = KNeighborsClassifier()\n",
        "knn.fit(X_train, y_train)\n",
        "pred_knn = knn.predict(X_test)"
      ],
      "id": "together-diesel",
      "execution_count": null,
      "outputs": []
    },
    {
      "cell_type": "code",
      "metadata": {
        "id": "raising-chapel",
        "outputId": "1f2a204b-cc12-4d53-9b84-ead50bc68e6e"
      },
      "source": [
        "accuracy_score(y_test, pred_rf)"
      ],
      "id": "raising-chapel",
      "execution_count": null,
      "outputs": [
        {
          "output_type": "execute_result",
          "data": {
            "text/plain": [
              "0.8805"
            ]
          },
          "metadata": {
            "tags": []
          },
          "execution_count": 318
        }
      ]
    },
    {
      "cell_type": "code",
      "metadata": {
        "id": "bronze-dress",
        "outputId": "90c1751b-351e-465d-b71c-3d7f5f97220d"
      },
      "source": [
        "accuracy_score(y_test, pred_knn)"
      ],
      "id": "bronze-dress",
      "execution_count": null,
      "outputs": [
        {
          "output_type": "execute_result",
          "data": {
            "text/plain": [
              "0.8505555555555555"
            ]
          },
          "metadata": {
            "tags": []
          },
          "execution_count": 319
        }
      ]
    },
    {
      "cell_type": "markdown",
      "metadata": {
        "id": "activated-nepal"
      },
      "source": [
        "#### 5.3 Тексты на примере бинарной классификации твитов из семинара 10\n",
        "\n",
        "Скачиваем куски датасета ([источник](http://study.mokoron.com/)): [положительные](https://www.dropbox.com/s/fnpq3z4bcnoktiv/positive.csv?dl=0), [отрицательные](https://www.dropbox.com/s/r6u59ljhhjdg6j0/negative.csv)."
      ],
      "id": "activated-nepal"
    },
    {
      "cell_type": "code",
      "metadata": {
        "id": "biblical-volume"
      },
      "source": [
        "from sklearn.feature_extraction.text import CountVectorizer\n",
        "from sklearn.preprocessing import MaxAbsScaler\n",
        "\n",
        "# Предобработка из семинара 10\n",
        "positive = pd.read_csv('positive.csv', sep=';', usecols=[3], names=['text'])\n",
        "positive['label'] = 'positive'\n",
        "negative = pd.read_csv('negative.csv', sep=';', usecols=[3], names=['text'])\n",
        "negative['label'] = 'negative'\n",
        "df = positive.append(negative)\n",
        "\n",
        "X_train, X_test, y_train, y_test = train_test_split(df.text, df.label, random_state=13)\n",
        "\n",
        "vec = CountVectorizer(ngram_range=(1, 1))\n",
        "bow = vec.fit_transform(X_train)\n",
        "bow_test = vec.transform(X_test)\n",
        "\n",
        "scaler = MaxAbsScaler()\n",
        "bow = scaler.fit_transform(bow)\n",
        "bow_test = scaler.transform(bow_test)\n",
        "\n",
        "X_train = bow\n",
        "X_test = bow_test"
      ],
      "id": "biblical-volume",
      "execution_count": null,
      "outputs": []
    },
    {
      "cell_type": "code",
      "metadata": {
        "id": "excessive-difference"
      },
      "source": [
        "from sklearn.tree import DecisionTreeClassifier\n",
        "\n",
        "# TODO: обучите случайный лес с числом деревьев 100 и макс. глубиной дерева 20 \n",
        "# и решающее дерево с макс. глубиной 20\n",
        "# Сравните их доли правильных ответов на тестовой выборке\n",
        "\n",
        "rf = RandomForestClassifier(n_estimators = 100, max_depth = 20)\n",
        "rf.fit(X_train, y_train)\n",
        "pred_rf = rf.predict(X_test)\n",
        "\n",
        "dt = DecisionTreeClassifier(max_depth = 20)\n",
        "dt.fit(X_train, y_train)\n",
        "pred_dt = dt.predict(X_test)"
      ],
      "id": "excessive-difference",
      "execution_count": null,
      "outputs": []
    },
    {
      "cell_type": "code",
      "metadata": {
        "id": "south-bible",
        "outputId": "2ee5e2e8-e360-48fa-ff2b-ddaa58a326b0"
      },
      "source": [
        "accuracy_score(y_test, pred_rf)"
      ],
      "id": "south-bible",
      "execution_count": null,
      "outputs": [
        {
          "output_type": "execute_result",
          "data": {
            "text/plain": [
              "0.67178049339611"
            ]
          },
          "metadata": {
            "tags": []
          },
          "execution_count": 338
        }
      ]
    },
    {
      "cell_type": "code",
      "metadata": {
        "id": "optional-policy",
        "outputId": "9ac00b38-2433-44e3-a769-2ca9964c2ff8"
      },
      "source": [
        "accuracy_score(y_test, pred_dt)"
      ],
      "id": "optional-policy",
      "execution_count": null,
      "outputs": [
        {
          "output_type": "execute_result",
          "data": {
            "text/plain": [
              "0.6281366273431025"
            ]
          },
          "metadata": {
            "tags": []
          },
          "execution_count": 339
        }
      ]
    }
  ]
}