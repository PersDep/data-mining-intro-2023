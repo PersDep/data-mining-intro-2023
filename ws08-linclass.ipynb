{
  "cells": [
    {
      "cell_type": "markdown",
      "metadata": {
        "id": "9um4VQBpvBF8"
      },
      "source": [
        "# Семинар по бинарной линейной классификации\n",
        "\n",
        "## Теоретическая часть\n",
        "\n",
        "### Предсказания в бинарной линейной классификации\n",
        "__Вспомнить из лекции:__\n",
        "* Как выполняются предсказания в бинарной линейной классификации?\n",
        "* Как интерпретировать веса?\n",
        "* Вспомните обозначения $\\langle \\cdot, \\cdot \\rangle$, $sign(z)$, $[z>a]$.\n",
        "\n",
        "#### Задача 1.\n",
        "Какое предсказание вернет бинарный линейный классификатор $a(x) = sign(\\langle w, x \\rangle+w_0)$ для объекта $x=(1, 0, 0, 1, 1)$ при использовании весов $w=(0.1, -0.2, 0.5, -1.1, 0)$ и $w_0=0.35$?\n",
        "\n",
        "__Решение.__\n",
        "Запишем скалярное произведение: $\\langle w, x \\rangle = w_1 x_1 + \\dots + w_d x_d$, где $d$ - размерность обоих векторов (число признаков). В нашей задаче $d=5$. Итак, в скобках получится значение $0.1\\cdot1 - 0.2\\cdot0 + 0.5\\cdot 0 -1.1 \\cdot 1 + 0 \\cdot 1 + 0.35 = -0.65$. Его знак отрицательный, значит $a(x) = -1$.\n",
        "\n",
        "#### Задача 2.\n",
        "Визуализируйте разделящую поверхность классификатора $a(x) = sign(\\langle w, x \\rangle+w_0)$ для $w=(-1, 2)$, $w_0=0.5$, задача бинарной классификации с двумя признаками.\n",
        "\n",
        "__Решение.__\n",
        "\n",
        "Предсказания в линейной классификации выполняются по формуле $a(x) = sign(\\langle w, x\\rangle +w_0)$, то есть класс +1, если выражение в скобках больше 0, и -1, если выражение в скобках меньше 0. Если выражение в скобках равно 0, считаем, что отказываемся от классификации или выбираем случайный класс (на практике такая ситуация встречается очень редко). Соответственно, мы можем сделать такое предсказание в каждой точке признакового пространства, то есть для любого возможного объекта, и получить области классов +1 и -1. Разделяющей границей этих двух областей будет прямая, поэтому классификация линейная.\n",
        "\n",
        "Разберемся, почему разделяющей границей будет прямая. Вспомним, что уравнение $w_1 x_1 + w_2 x_2 + w_0 = 0$ задает прямую на плоскости в координатах $x_1-x_2$ (мы обычно обозначаем эти координаты $d_1-d_2$, чтобы не путать $x_1$ - первый признак или первый объект в выборке; в данном контексте - первый признак). Все точки $x=(x_1, x_2)$, для которых $w_1 x_1 + w_2 x_2 + w_0 > 0$, находятся с одной стороны от прямой, а все точки, для которых $w_1 x_1 + w_2 x_2 + w_0 < 0$, с другой стороны от прямой. А эти два условия как раз и проверяются в бинарном линейной классификаторе.\n",
        "\n",
        "В нашем случае прямая задается уравнением $-x_1 + 2 x_2 + 0.5 = 0$. Построим ее по точкам: при $x_1=0$ выполнено $2 x_2+0.5=0$, то есть $x_2=-1/4$; при $x_1=1$ выполнено $2 x_2 -0.5=0$, то есть $x_2=1/4$. Проводим прямую через точки $(0, -1/4)$ и $(1, 1/4)$. Теперь выбираем любую точку, не принадлежащую прямой, например $(0, 1/4)$. Проверяем, какой будет знак выражения $-x_1 + 2 x_2 + 0.5$: $0 + 0.5 + 0.5 = 1 > 0$. Значит, в полуплоскости, где находится эта точка, мы предсказываем класс +1, а в другой - класс -1.\n",
        "\n",
        "### Вспомнить из лекции\n",
        "* Какие метрики бинарной классификации вы знаете?\n",
        "* Какие проблемы есть у метрики accuracy? в каких случаях она нам не подходит?\n",
        "* Что такое матрица ошибок?\n",
        "\n",
        "## Практическая часть\n",
        "В практической части мы обучим линейный классификатор на данных кредитного скорринга, проанализируем веса модели, научимся работать с категориальными признаками в линейных моделях. Далее поработаем с метриками, сравних их между собой и найдем оптимиальные гиперпараметры в модели."
      ]
    },
    {
      "cell_type": "code",
      "execution_count": 1,
      "metadata": {
        "id": "9k39onIhvBF_"
      },
      "outputs": [],
      "source": [
        "import pandas as pd"
      ]
    },
    {
      "cell_type": "markdown",
      "metadata": {
        "id": "hO4rdvxDvBF_"
      },
      "source": [
        "Мы будем работать с [данными клиентов банка](https://archive.ics.uci.edu/ml/datasets/statlog+(german+credit+data) (задача кредитного скоринга). Для целей семинара данные были преобразованы в немного другой формат.\n",
        "\n",
        "Значение признаков:\n",
        "* account: банковский счет (-1: отриц. баланс, 0: нет счета, 1: до 200 ед., 2: более 200 ед.)\n",
        "* duration: на какой период запрашивают кредит\n",
        "* credit_history: рейтинг по кредитной истории (от 0 - отличная кр. история до 4 - критическая ситуация с кредитами)\n",
        "* amount: на какую сумму запрашивают кредит\n",
        "* savings: сберегательный счет (0: нет, 1: < 100, 2: 100 <= ... < 500, 3: 500 <= ... < 1000, 4:  >= 1000)\n",
        "* employment: срок работы на текущей позиции (0: не работает, 1: до 1 года, 2: от 1 до 4 лет, 3: от 4 до 7 лет, 4: более 7 лет)\n",
        "* guarantors: 1 - есть поручители, 0 - нет\n",
        "* residence:  сколько лет резидент\n",
        "* age: возраст, деленный на 100\n",
        "* credits_number: число кредитов\n",
        "* job: 0: не работает, 1: неквалифицированный, 2: квалифицированный специалист, 3: высокая должность или бизнес\n",
        "* maintenance_people: число людей, которых обеспечивает заемщик\n",
        "* telephone: указан ли телефон (1: да, 0: нет)\n",
        "* foreign: 1: иностранец, 0: нет\n",
        "* real_estate: 1: есть недвижимость, 0: нет недвижимости\n",
        "* life_insurance: 1: оформлено страхование жизни, 0, нет страховки\n",
        "* car: 1: есть автомобиль, 0: нет автомобиля\n",
        "* housing_rent: 1: платит за съем жилья, 0: не платит за съем жилья\n",
        "* sex: пол - 1: муж., 0: жен.\n",
        "* purpose: на какую цель запрашивают кредит (из нескольких вариантов)\n",
        "* target: 1: кредит выдан, 0: в кредите отказано\n",
        "\n",
        "Требуется решить задачу предсказания значения в последнем столбце, то есть задачу бинарной классификации."
      ]
    },
    {
      "cell_type": "markdown",
      "metadata": {
        "id": "MmVH7wJuvBGA"
      },
      "source": [
        "По описанию данных понятно, что все признаки числовые (включая вещественные, порядковые, бинарные), кроме предпоследнего, который является категориальным."
      ]
    },
    {
      "cell_type": "code",
      "execution_count": 2,
      "metadata": {
        "id": "f7HXEUCsvBGA",
        "outputId": "14be7136-d934-49fa-f68b-816f968fce4a",
        "colab": {
          "base_uri": "https://localhost:8080/"
        }
      },
      "outputs": [
        {
          "output_type": "stream",
          "name": "stdout",
          "text": [
            "Requirement already satisfied: xlrd in c:\\program files\\python310\\lib\\site-packages (2.0.1)\n"
          ]
        }
      ],
      "source": [
        "!pip install xlrd"
      ]
    },
    {
      "cell_type": "code",
      "execution_count": 3,
      "metadata": {
        "id": "noO-s_rXvBGB"
      },
      "outputs": [],
      "source": [
        "tab = pd.read_excel(\"https://github.com/nadiinchi/voronovo_seminar_materials/blob/master/base_track/seminars/scoring.xls?raw=true\")"
      ]
    },
    {
      "cell_type": "code",
      "execution_count": 5,
      "metadata": {
        "id": "DiPcpkcFvBGB",
        "outputId": "0a7ac910-66ea-408a-ec6f-c4c960fba32a",
        "colab": {
          "base_uri": "https://localhost:8080/"
        }
      },
      "outputs": [
        {
          "output_type": "execute_result",
          "data": {
            "text/plain": [
              "pandas.core.frame.DataFrame"
            ]
          },
          "metadata": {},
          "execution_count": 5
        }
      ],
      "source": [
        "type(tab)"
      ]
    },
    {
      "cell_type": "code",
      "execution_count": 6,
      "metadata": {
        "id": "BbAI02MmvBGB",
        "outputId": "d18c9c18-d648-4e17-dd7e-c0bc59e30d35",
        "colab": {
          "base_uri": "https://localhost:8080/",
          "height": 255
        }
      },
      "outputs": [
        {
          "output_type": "execute_result",
          "data": {
            "text/plain": [
              "   account  duration  credit_history   amount  savings  employment  \\\n",
              "0        1      0.18               2  0.13110        2           2   \n",
              "1       -1      0.18               0  0.15520        1           3   \n",
              "2       -1      0.12               2  0.04510        1           3   \n",
              "3       -1      0.30               0  0.40360        0           1   \n",
              "4        0      0.36               2  0.09095        1           2   \n",
              "\n",
              "   guarantors  residence   age  credits_number  ...  maintenance_people  \\\n",
              "0           1          4  0.34               1  ...                   1   \n",
              "1           1          1  0.31               1  ...                   1   \n",
              "2           1          4  0.21               1  ...                   1   \n",
              "3           1          3  0.25               3  ...                   1   \n",
              "4           1          4  0.37               1  ...                   1   \n",
              "\n",
              "   telephone  foreign  real_estate  life_insurance  car  housing_rent  sex  \\\n",
              "0          0        1            0               0    1             0    1   \n",
              "1          1        1            0               1    0             0    1   \n",
              "2          0        1            0               1    0             1    1   \n",
              "3          0        1            0               0    1             0    1   \n",
              "4          1        1            0               0    0             0    1   \n",
              "\n",
              "      purpose target  \n",
              "0    business      1  \n",
              "1    business      1  \n",
              "2  retraining      0  \n",
              "3    business      1  \n",
              "4   education      0  \n",
              "\n",
              "[5 rows x 21 columns]"
            ],
            "text/html": [
              "<div>\n",
              "<style scoped>\n",
              "    .dataframe tbody tr th:only-of-type {\n",
              "        vertical-align: middle;\n",
              "    }\n",
              "\n",
              "    .dataframe tbody tr th {\n",
              "        vertical-align: top;\n",
              "    }\n",
              "\n",
              "    .dataframe thead th {\n",
              "        text-align: right;\n",
              "    }\n",
              "</style>\n",
              "<table border=\"1\" class=\"dataframe\">\n",
              "  <thead>\n",
              "    <tr style=\"text-align: right;\">\n",
              "      <th></th>\n",
              "      <th>account</th>\n",
              "      <th>duration</th>\n",
              "      <th>credit_history</th>\n",
              "      <th>amount</th>\n",
              "      <th>savings</th>\n",
              "      <th>employment</th>\n",
              "      <th>guarantors</th>\n",
              "      <th>residence</th>\n",
              "      <th>age</th>\n",
              "      <th>credits_number</th>\n",
              "      <th>...</th>\n",
              "      <th>maintenance_people</th>\n",
              "      <th>telephone</th>\n",
              "      <th>foreign</th>\n",
              "      <th>real_estate</th>\n",
              "      <th>life_insurance</th>\n",
              "      <th>car</th>\n",
              "      <th>housing_rent</th>\n",
              "      <th>sex</th>\n",
              "      <th>purpose</th>\n",
              "      <th>target</th>\n",
              "    </tr>\n",
              "  </thead>\n",
              "  <tbody>\n",
              "    <tr>\n",
              "      <th>0</th>\n",
              "      <td>1</td>\n",
              "      <td>0.18</td>\n",
              "      <td>2</td>\n",
              "      <td>0.13110</td>\n",
              "      <td>2</td>\n",
              "      <td>2</td>\n",
              "      <td>1</td>\n",
              "      <td>4</td>\n",
              "      <td>0.34</td>\n",
              "      <td>1</td>\n",
              "      <td>...</td>\n",
              "      <td>1</td>\n",
              "      <td>0</td>\n",
              "      <td>1</td>\n",
              "      <td>0</td>\n",
              "      <td>0</td>\n",
              "      <td>1</td>\n",
              "      <td>0</td>\n",
              "      <td>1</td>\n",
              "      <td>business</td>\n",
              "      <td>1</td>\n",
              "    </tr>\n",
              "    <tr>\n",
              "      <th>1</th>\n",
              "      <td>-1</td>\n",
              "      <td>0.18</td>\n",
              "      <td>0</td>\n",
              "      <td>0.15520</td>\n",
              "      <td>1</td>\n",
              "      <td>3</td>\n",
              "      <td>1</td>\n",
              "      <td>1</td>\n",
              "      <td>0.31</td>\n",
              "      <td>1</td>\n",
              "      <td>...</td>\n",
              "      <td>1</td>\n",
              "      <td>1</td>\n",
              "      <td>1</td>\n",
              "      <td>0</td>\n",
              "      <td>1</td>\n",
              "      <td>0</td>\n",
              "      <td>0</td>\n",
              "      <td>1</td>\n",
              "      <td>business</td>\n",
              "      <td>1</td>\n",
              "    </tr>\n",
              "    <tr>\n",
              "      <th>2</th>\n",
              "      <td>-1</td>\n",
              "      <td>0.12</td>\n",
              "      <td>2</td>\n",
              "      <td>0.04510</td>\n",
              "      <td>1</td>\n",
              "      <td>3</td>\n",
              "      <td>1</td>\n",
              "      <td>4</td>\n",
              "      <td>0.21</td>\n",
              "      <td>1</td>\n",
              "      <td>...</td>\n",
              "      <td>1</td>\n",
              "      <td>0</td>\n",
              "      <td>1</td>\n",
              "      <td>0</td>\n",
              "      <td>1</td>\n",
              "      <td>0</td>\n",
              "      <td>1</td>\n",
              "      <td>1</td>\n",
              "      <td>retraining</td>\n",
              "      <td>0</td>\n",
              "    </tr>\n",
              "    <tr>\n",
              "      <th>3</th>\n",
              "      <td>-1</td>\n",
              "      <td>0.30</td>\n",
              "      <td>0</td>\n",
              "      <td>0.40360</td>\n",
              "      <td>0</td>\n",
              "      <td>1</td>\n",
              "      <td>1</td>\n",
              "      <td>3</td>\n",
              "      <td>0.25</td>\n",
              "      <td>3</td>\n",
              "      <td>...</td>\n",
              "      <td>1</td>\n",
              "      <td>0</td>\n",
              "      <td>1</td>\n",
              "      <td>0</td>\n",
              "      <td>0</td>\n",
              "      <td>1</td>\n",
              "      <td>0</td>\n",
              "      <td>1</td>\n",
              "      <td>business</td>\n",
              "      <td>1</td>\n",
              "    </tr>\n",
              "    <tr>\n",
              "      <th>4</th>\n",
              "      <td>0</td>\n",
              "      <td>0.36</td>\n",
              "      <td>2</td>\n",
              "      <td>0.09095</td>\n",
              "      <td>1</td>\n",
              "      <td>2</td>\n",
              "      <td>1</td>\n",
              "      <td>4</td>\n",
              "      <td>0.37</td>\n",
              "      <td>1</td>\n",
              "      <td>...</td>\n",
              "      <td>1</td>\n",
              "      <td>1</td>\n",
              "      <td>1</td>\n",
              "      <td>0</td>\n",
              "      <td>0</td>\n",
              "      <td>0</td>\n",
              "      <td>0</td>\n",
              "      <td>1</td>\n",
              "      <td>education</td>\n",
              "      <td>0</td>\n",
              "    </tr>\n",
              "  </tbody>\n",
              "</table>\n",
              "<p>5 rows × 21 columns</p>\n",
              "</div>"
            ]
          },
          "metadata": {},
          "execution_count": 6
        }
      ],
      "source": [
        "tab.head() # вывести первые строки"
      ]
    },
    {
      "cell_type": "markdown",
      "metadata": {
        "id": "U0GnQBnKvBGC"
      },
      "source": [
        "По строкам - объекты (клиенты), по столбцам - признаки, последний столбец - целевая переменная (1 - кредит выдан, 0 - в кредите отказано)."
      ]
    },
    {
      "cell_type": "code",
      "execution_count": 7,
      "metadata": {
        "id": "lj1dUeFGvBGC",
        "outputId": "de228e45-abf3-43f9-b970-966e6720afea",
        "colab": {
          "base_uri": "https://localhost:8080/"
        }
      },
      "outputs": [
        {
          "output_type": "execute_result",
          "data": {
            "text/plain": [
              "account                 int64\n",
              "duration              float64\n",
              "credit_history          int64\n",
              "amount                float64\n",
              "savings                 int64\n",
              "employment              int64\n",
              "guarantors              int64\n",
              "residence               int64\n",
              "age                   float64\n",
              "credits_number          int64\n",
              "job                     int64\n",
              "maintenance_people      int64\n",
              "telephone               int64\n",
              "foreign                 int64\n",
              "real_estate             int64\n",
              "life_insurance          int64\n",
              "car                     int64\n",
              "housing_rent            int64\n",
              "sex                     int64\n",
              "purpose                object\n",
              "target                  int64\n",
              "dtype: object"
            ]
          },
          "metadata": {},
          "execution_count": 7
        }
      ],
      "source": [
        "tab.dtypes # типы столбцов"
      ]
    },
    {
      "cell_type": "markdown",
      "metadata": {
        "id": "J8sYkF_EvBGC"
      },
      "source": [
        "Признаки в основном числовые."
      ]
    },
    {
      "cell_type": "code",
      "execution_count": 8,
      "metadata": {
        "id": "8yxi5q-svBGC",
        "outputId": "722da1cf-0ac8-4232-83ed-e2d84f77057a",
        "colab": {
          "base_uri": "https://localhost:8080/"
        }
      },
      "outputs": [
        {
          "output_type": "execute_result",
          "data": {
            "text/plain": [
              "1    300\n",
              "0    300\n",
              "Name: target, dtype: int64"
            ]
          },
          "metadata": {},
          "execution_count": 8
        }
      ],
      "source": [
        "tab[\"target\"].value_counts()"
      ]
    },
    {
      "cell_type": "markdown",
      "metadata": {
        "id": "VEab_cHxvBGC"
      },
      "source": [
        "Классы сбалансированы."
      ]
    },
    {
      "cell_type": "markdown",
      "metadata": {
        "id": "-VX6k7pXvBGC"
      },
      "source": [
        "Создаем матрицу объекты-признаки и матрицу ответов. Удалим пока столбец с категориальной переменной, чтобы оставить только числовые признаки."
      ]
    },
    {
      "cell_type": "code",
      "execution_count": 9,
      "metadata": {
        "id": "6pV3MGZrvBGC"
      },
      "outputs": [],
      "source": [
        "X = tab[tab.columns[:-2]]\n",
        "y = tab[\"target\"]"
      ]
    },
    {
      "cell_type": "code",
      "execution_count": 10,
      "metadata": {
        "id": "HwOtCxHqvBGC",
        "outputId": "ca0cbe40-41e2-47e0-ce08-442ebc7a3c6e",
        "colab": {
          "base_uri": "https://localhost:8080/",
          "height": 226
        }
      },
      "outputs": [
        {
          "output_type": "execute_result",
          "data": {
            "text/plain": [
              "   account  duration  credit_history   amount  savings  employment  \\\n",
              "0        1      0.18               2  0.13110        2           2   \n",
              "1       -1      0.18               0  0.15520        1           3   \n",
              "2       -1      0.12               2  0.04510        1           3   \n",
              "3       -1      0.30               0  0.40360        0           1   \n",
              "4        0      0.36               2  0.09095        1           2   \n",
              "\n",
              "   guarantors  residence   age  credits_number  job  maintenance_people  \\\n",
              "0           1          4  0.34               1    2                   1   \n",
              "1           1          1  0.31               1    2                   1   \n",
              "2           1          4  0.21               1    2                   1   \n",
              "3           1          3  0.25               3    2                   1   \n",
              "4           1          4  0.37               1    2                   1   \n",
              "\n",
              "   telephone  foreign  real_estate  life_insurance  car  housing_rent  sex  \n",
              "0          0        1            0               0    1             0    1  \n",
              "1          1        1            0               1    0             0    1  \n",
              "2          0        1            0               1    0             1    1  \n",
              "3          0        1            0               0    1             0    1  \n",
              "4          1        1            0               0    0             0    1  "
            ],
            "text/html": [
              "<div>\n",
              "<style scoped>\n",
              "    .dataframe tbody tr th:only-of-type {\n",
              "        vertical-align: middle;\n",
              "    }\n",
              "\n",
              "    .dataframe tbody tr th {\n",
              "        vertical-align: top;\n",
              "    }\n",
              "\n",
              "    .dataframe thead th {\n",
              "        text-align: right;\n",
              "    }\n",
              "</style>\n",
              "<table border=\"1\" class=\"dataframe\">\n",
              "  <thead>\n",
              "    <tr style=\"text-align: right;\">\n",
              "      <th></th>\n",
              "      <th>account</th>\n",
              "      <th>duration</th>\n",
              "      <th>credit_history</th>\n",
              "      <th>amount</th>\n",
              "      <th>savings</th>\n",
              "      <th>employment</th>\n",
              "      <th>guarantors</th>\n",
              "      <th>residence</th>\n",
              "      <th>age</th>\n",
              "      <th>credits_number</th>\n",
              "      <th>job</th>\n",
              "      <th>maintenance_people</th>\n",
              "      <th>telephone</th>\n",
              "      <th>foreign</th>\n",
              "      <th>real_estate</th>\n",
              "      <th>life_insurance</th>\n",
              "      <th>car</th>\n",
              "      <th>housing_rent</th>\n",
              "      <th>sex</th>\n",
              "    </tr>\n",
              "  </thead>\n",
              "  <tbody>\n",
              "    <tr>\n",
              "      <th>0</th>\n",
              "      <td>1</td>\n",
              "      <td>0.18</td>\n",
              "      <td>2</td>\n",
              "      <td>0.13110</td>\n",
              "      <td>2</td>\n",
              "      <td>2</td>\n",
              "      <td>1</td>\n",
              "      <td>4</td>\n",
              "      <td>0.34</td>\n",
              "      <td>1</td>\n",
              "      <td>2</td>\n",
              "      <td>1</td>\n",
              "      <td>0</td>\n",
              "      <td>1</td>\n",
              "      <td>0</td>\n",
              "      <td>0</td>\n",
              "      <td>1</td>\n",
              "      <td>0</td>\n",
              "      <td>1</td>\n",
              "    </tr>\n",
              "    <tr>\n",
              "      <th>1</th>\n",
              "      <td>-1</td>\n",
              "      <td>0.18</td>\n",
              "      <td>0</td>\n",
              "      <td>0.15520</td>\n",
              "      <td>1</td>\n",
              "      <td>3</td>\n",
              "      <td>1</td>\n",
              "      <td>1</td>\n",
              "      <td>0.31</td>\n",
              "      <td>1</td>\n",
              "      <td>2</td>\n",
              "      <td>1</td>\n",
              "      <td>1</td>\n",
              "      <td>1</td>\n",
              "      <td>0</td>\n",
              "      <td>1</td>\n",
              "      <td>0</td>\n",
              "      <td>0</td>\n",
              "      <td>1</td>\n",
              "    </tr>\n",
              "    <tr>\n",
              "      <th>2</th>\n",
              "      <td>-1</td>\n",
              "      <td>0.12</td>\n",
              "      <td>2</td>\n",
              "      <td>0.04510</td>\n",
              "      <td>1</td>\n",
              "      <td>3</td>\n",
              "      <td>1</td>\n",
              "      <td>4</td>\n",
              "      <td>0.21</td>\n",
              "      <td>1</td>\n",
              "      <td>2</td>\n",
              "      <td>1</td>\n",
              "      <td>0</td>\n",
              "      <td>1</td>\n",
              "      <td>0</td>\n",
              "      <td>1</td>\n",
              "      <td>0</td>\n",
              "      <td>1</td>\n",
              "      <td>1</td>\n",
              "    </tr>\n",
              "    <tr>\n",
              "      <th>3</th>\n",
              "      <td>-1</td>\n",
              "      <td>0.30</td>\n",
              "      <td>0</td>\n",
              "      <td>0.40360</td>\n",
              "      <td>0</td>\n",
              "      <td>1</td>\n",
              "      <td>1</td>\n",
              "      <td>3</td>\n",
              "      <td>0.25</td>\n",
              "      <td>3</td>\n",
              "      <td>2</td>\n",
              "      <td>1</td>\n",
              "      <td>0</td>\n",
              "      <td>1</td>\n",
              "      <td>0</td>\n",
              "      <td>0</td>\n",
              "      <td>1</td>\n",
              "      <td>0</td>\n",
              "      <td>1</td>\n",
              "    </tr>\n",
              "    <tr>\n",
              "      <th>4</th>\n",
              "      <td>0</td>\n",
              "      <td>0.36</td>\n",
              "      <td>2</td>\n",
              "      <td>0.09095</td>\n",
              "      <td>1</td>\n",
              "      <td>2</td>\n",
              "      <td>1</td>\n",
              "      <td>4</td>\n",
              "      <td>0.37</td>\n",
              "      <td>1</td>\n",
              "      <td>2</td>\n",
              "      <td>1</td>\n",
              "      <td>1</td>\n",
              "      <td>1</td>\n",
              "      <td>0</td>\n",
              "      <td>0</td>\n",
              "      <td>0</td>\n",
              "      <td>0</td>\n",
              "      <td>1</td>\n",
              "    </tr>\n",
              "  </tbody>\n",
              "</table>\n",
              "</div>"
            ]
          },
          "metadata": {},
          "execution_count": 10
        }
      ],
      "source": [
        "X.head()"
      ]
    },
    {
      "cell_type": "code",
      "execution_count": 11,
      "metadata": {
        "id": "QRM2cj8WvBGC",
        "outputId": "ee8bdf37-163e-46c5-d64a-98cba56dd337",
        "colab": {
          "base_uri": "https://localhost:8080/"
        }
      },
      "outputs": [
        {
          "output_type": "execute_result",
          "data": {
            "text/plain": [
              "((600, 19), (600,))"
            ]
          },
          "metadata": {},
          "execution_count": 11
        }
      ],
      "source": [
        "X.shape, y.shape # атрибут shape показывает размерности матрицы"
      ]
    },
    {
      "cell_type": "markdown",
      "metadata": {
        "id": "FPs2xcT7vBGD"
      },
      "source": [
        "#### Разделение выборки"
      ]
    },
    {
      "cell_type": "code",
      "execution_count": 12,
      "metadata": {
        "id": "cV8By8TxvBGD"
      },
      "outputs": [],
      "source": [
        "from sklearn.model_selection import train_test_split\n",
        "# функция для разделения выборки на обучающую и тестовую"
      ]
    },
    {
      "cell_type": "code",
      "execution_count": 13,
      "metadata": {
        "id": "SGxhXo7JvBGD"
      },
      "outputs": [],
      "source": [
        "X_train, X_test, y_train, y_test  = train_test_split(X, y, \\\n",
        "                                                     test_size=0.3,\\\n",
        "                                                     shuffle=True,\n",
        "                                                     random_state=0)"
      ]
    },
    {
      "cell_type": "code",
      "execution_count": 14,
      "metadata": {
        "id": "pPZeQ-IFvBGD",
        "outputId": "d1ee24bd-8b6f-424f-9e07-ce0ef228cb0b",
        "colab": {
          "base_uri": "https://localhost:8080/"
        }
      },
      "outputs": [
        {
          "output_type": "execute_result",
          "data": {
            "text/plain": [
              "1    222\n",
              "0    198\n",
              "Name: target, dtype: int64"
            ]
          },
          "metadata": {},
          "execution_count": 14
        }
      ],
      "source": [
        "y_train.value_counts()"
      ]
    },
    {
      "cell_type": "code",
      "execution_count": 15,
      "metadata": {
        "id": "KYy6ay6dvBGD",
        "outputId": "fae2fe9a-1306-49c9-e69d-da400ee9c762",
        "colab": {
          "base_uri": "https://localhost:8080/"
        }
      },
      "outputs": [
        {
          "output_type": "execute_result",
          "data": {
            "text/plain": [
              "0    102\n",
              "1     78\n",
              "Name: target, dtype: int64"
            ]
          },
          "metadata": {},
          "execution_count": 15
        }
      ],
      "source": [
        "y_test.value_counts()"
      ]
    },
    {
      "cell_type": "code",
      "execution_count": 16,
      "metadata": {
        "id": "obfi0rbBvBGD",
        "outputId": "d668279f-9f5a-4c2b-893f-dbd9f8229e45",
        "colab": {
          "base_uri": "https://localhost:8080/"
        }
      },
      "outputs": [
        {
          "output_type": "execute_result",
          "data": {
            "text/plain": [
              "((420, 19), (420,))"
            ]
          },
          "metadata": {},
          "execution_count": 16
        }
      ],
      "source": [
        "X_train.shape, y_train.shape"
      ]
    },
    {
      "cell_type": "markdown",
      "metadata": {
        "id": "PhVS1M1vvBGD"
      },
      "source": [
        "#### Нормируем данные"
      ]
    },
    {
      "cell_type": "code",
      "execution_count": 17,
      "metadata": {
        "id": "2zO5ofQSvBGD"
      },
      "outputs": [],
      "source": [
        "from sklearn.preprocessing import StandardScaler"
      ]
    },
    {
      "cell_type": "code",
      "execution_count": 18,
      "metadata": {
        "id": "vZ9Lwyd-vBGE"
      },
      "outputs": [],
      "source": [
        "scaler = StandardScaler()\n",
        "X_train = scaler.fit_transform(X_train)\n",
        "X_test = scaler.transform(X_test)"
      ]
    },
    {
      "cell_type": "markdown",
      "metadata": {
        "id": "JfWWQ6dwvBGE"
      },
      "source": [
        "#### Импортируем класс модели"
      ]
    },
    {
      "cell_type": "code",
      "execution_count": 19,
      "metadata": {
        "id": "0NjEqQxvvBGE"
      },
      "outputs": [],
      "source": [
        "from sklearn.linear_model import LinearRegression"
      ]
    },
    {
      "cell_type": "code",
      "execution_count": 20,
      "metadata": {
        "id": "_ctviJz6vBGE"
      },
      "outputs": [],
      "source": [
        "from sklearn.metrics import accuracy_score # функция оценки качества"
      ]
    },
    {
      "cell_type": "code",
      "execution_count": 21,
      "metadata": {
        "id": "wCVhex9KvBGE",
        "outputId": "d4787e70-73a7-4432-a20c-050b9c4eef72",
        "colab": {
          "base_uri": "https://localhost:8080/"
        }
      },
      "outputs": [
        {
          "output_type": "execute_result",
          "data": {
            "text/plain": [
              "LinearRegression()"
            ]
          },
          "metadata": {},
          "execution_count": 21
        }
      ],
      "source": [
        "clf_lr = LinearRegression()\n",
        "clf_lr.fit(X_train, y_train)"
      ]
    },
    {
      "cell_type": "code",
      "execution_count": 22,
      "metadata": {
        "id": "ZZmvDR0FvBGE"
      },
      "outputs": [],
      "source": [
        "y_pred = clf_lr.predict(X_test)"
      ]
    },
    {
      "cell_type": "code",
      "execution_count": 23,
      "metadata": {
        "id": "6galfLHLvBGE",
        "outputId": "7c13ca30-c89e-4441-f2b3-474fa5117f3e",
        "colab": {
          "base_uri": "https://localhost:8080/"
        }
      },
      "outputs": [
        {
          "output_type": "execute_result",
          "data": {
            "text/plain": [
              "0.6388888888888888"
            ]
          },
          "metadata": {},
          "execution_count": 23
        }
      ],
      "source": [
        "accuracy_score(y_test, y_pred > 0.5)"
      ]
    },
    {
      "cell_type": "markdown",
      "metadata": {
        "id": "fFxxJdNPvBGE"
      },
      "source": [
        "#### Важности и веса признаков\n",
        "Большинство алгоритмов умеют так или иначе оценивать важности признаков. \n",
        "В линейной модели в качестве важностей можно рассматривать веса признаков. Они хранятся в атрибуте coef\\_ и появляются, конечно, только после вызова процедуры обучения."
      ]
    },
    {
      "cell_type": "code",
      "execution_count": null,
      "metadata": {
        "id": "5zvjg_b8vBGE",
        "outputId": "fe82f7cf-0e0a-4743-a4b9-b323ec353fe5",
        "colab": {
          "base_uri": "https://localhost:8080/"
        }
      },
      "outputs": [
        {
          "output_type": "execute_result",
          "data": {
            "text/plain": [
              "array([ 0.03344627, -0.0779239 ,  0.08754819, -0.02066605,  0.03067396,\n",
              "        0.06774134, -0.00975411,  0.00109616,  0.0185817 , -0.04661195,\n",
              "        0.00099741, -0.00569433,  0.01735849, -0.03505761,  0.06359324,\n",
              "       -0.0134745 ,  0.06344944, -0.0416773 ,  0.05088774])"
            ]
          },
          "metadata": {},
          "execution_count": 23
        }
      ],
      "source": [
        "clf_lr.coef_"
      ]
    },
    {
      "cell_type": "markdown",
      "metadata": {
        "id": "tZNwwulrvBGE"
      },
      "source": [
        "__Задание.__ Оформить веса признаков в виде датафрейма: первый столбец - имя признака, второй столбец - вес, и отсортировать датафрейм по увеличению веса.\n",
        "\n",
        "__Решение:__"
      ]
    },
    {
      "cell_type": "code",
      "execution_count": 24,
      "metadata": {
        "id": "DxBqVyD8vBGE",
        "outputId": "aeb14277-e968-4c3b-ce6f-4dba49a84a6b",
        "colab": {
          "base_uri": "https://localhost:8080/",
          "height": 645
        }
      },
      "outputs": [
        {
          "output_type": "execute_result",
          "data": {
            "text/plain": [
              "                      weight\n",
              "duration           -0.077924\n",
              "credits_number     -0.046612\n",
              "housing_rent       -0.041677\n",
              "foreign            -0.035058\n",
              "amount             -0.020666\n",
              "life_insurance     -0.013474\n",
              "guarantors         -0.009754\n",
              "maintenance_people -0.005694\n",
              "job                 0.000997\n",
              "residence           0.001096\n",
              "telephone           0.017358\n",
              "age                 0.018582\n",
              "savings             0.030674\n",
              "account             0.033446\n",
              "sex                 0.050888\n",
              "car                 0.063449\n",
              "real_estate         0.063593\n",
              "employment          0.067741\n",
              "credit_history      0.087548"
            ],
            "text/html": [
              "<div>\n",
              "<style scoped>\n",
              "    .dataframe tbody tr th:only-of-type {\n",
              "        vertical-align: middle;\n",
              "    }\n",
              "\n",
              "    .dataframe tbody tr th {\n",
              "        vertical-align: top;\n",
              "    }\n",
              "\n",
              "    .dataframe thead th {\n",
              "        text-align: right;\n",
              "    }\n",
              "</style>\n",
              "<table border=\"1\" class=\"dataframe\">\n",
              "  <thead>\n",
              "    <tr style=\"text-align: right;\">\n",
              "      <th></th>\n",
              "      <th>weight</th>\n",
              "    </tr>\n",
              "  </thead>\n",
              "  <tbody>\n",
              "    <tr>\n",
              "      <th>duration</th>\n",
              "      <td>-0.077924</td>\n",
              "    </tr>\n",
              "    <tr>\n",
              "      <th>credits_number</th>\n",
              "      <td>-0.046612</td>\n",
              "    </tr>\n",
              "    <tr>\n",
              "      <th>housing_rent</th>\n",
              "      <td>-0.041677</td>\n",
              "    </tr>\n",
              "    <tr>\n",
              "      <th>foreign</th>\n",
              "      <td>-0.035058</td>\n",
              "    </tr>\n",
              "    <tr>\n",
              "      <th>amount</th>\n",
              "      <td>-0.020666</td>\n",
              "    </tr>\n",
              "    <tr>\n",
              "      <th>life_insurance</th>\n",
              "      <td>-0.013474</td>\n",
              "    </tr>\n",
              "    <tr>\n",
              "      <th>guarantors</th>\n",
              "      <td>-0.009754</td>\n",
              "    </tr>\n",
              "    <tr>\n",
              "      <th>maintenance_people</th>\n",
              "      <td>-0.005694</td>\n",
              "    </tr>\n",
              "    <tr>\n",
              "      <th>job</th>\n",
              "      <td>0.000997</td>\n",
              "    </tr>\n",
              "    <tr>\n",
              "      <th>residence</th>\n",
              "      <td>0.001096</td>\n",
              "    </tr>\n",
              "    <tr>\n",
              "      <th>telephone</th>\n",
              "      <td>0.017358</td>\n",
              "    </tr>\n",
              "    <tr>\n",
              "      <th>age</th>\n",
              "      <td>0.018582</td>\n",
              "    </tr>\n",
              "    <tr>\n",
              "      <th>savings</th>\n",
              "      <td>0.030674</td>\n",
              "    </tr>\n",
              "    <tr>\n",
              "      <th>account</th>\n",
              "      <td>0.033446</td>\n",
              "    </tr>\n",
              "    <tr>\n",
              "      <th>sex</th>\n",
              "      <td>0.050888</td>\n",
              "    </tr>\n",
              "    <tr>\n",
              "      <th>car</th>\n",
              "      <td>0.063449</td>\n",
              "    </tr>\n",
              "    <tr>\n",
              "      <th>real_estate</th>\n",
              "      <td>0.063593</td>\n",
              "    </tr>\n",
              "    <tr>\n",
              "      <th>employment</th>\n",
              "      <td>0.067741</td>\n",
              "    </tr>\n",
              "    <tr>\n",
              "      <th>credit_history</th>\n",
              "      <td>0.087548</td>\n",
              "    </tr>\n",
              "  </tbody>\n",
              "</table>\n",
              "</div>"
            ]
          },
          "metadata": {},
          "execution_count": 24
        }
      ],
      "source": [
        "pd.DataFrame(data=clf_lr.coef_, index=X.columns, columns=['weight']).sort_values(by=['weight'])"
      ]
    },
    {
      "cell_type": "markdown",
      "metadata": {
        "id": "NGJP9nNavBGF"
      },
      "source": [
        "Признаки отсортировались по логичным критериям: плата за съем жилья, число кредитов, заемщик-иностранец уменьшают шанс получить кредит; наличие собственности, машины, работы, счета в банке - увеличивают шансы.\n",
        "\n",
        "Впрочем, некоторые признаки отсортировались менее логично: например, наличие поручителя тоже голосует в \"минус\", хотя и с маленьким весом.\n",
        "\n",
        "__Обратите внимание:__ интерпретировать величину весов можно, только если данные отнормированы. Иначе модуль веса будет зависеть от масштаба признака."
      ]
    },
    {
      "cell_type": "markdown",
      "metadata": {
        "id": "OMh69JPAvBGF"
      },
      "source": [
        "#### Работа с категориальным признаком"
      ]
    },
    {
      "cell_type": "markdown",
      "metadata": {
        "id": "c_tJVxOJvBGF"
      },
      "source": [
        "Применим метод one-hot-encoding к переменной \"цель получения кредита\", чобы включить ее в модель. Для этого воспользуемся функцией pd.get_dummies"
      ]
    },
    {
      "cell_type": "code",
      "execution_count": 25,
      "metadata": {
        "id": "WU6MYiLfvBGF"
      },
      "outputs": [],
      "source": [
        "tab_ohe = pd.get_dummies(tab, \"purpose\")"
      ]
    },
    {
      "cell_type": "code",
      "execution_count": 26,
      "metadata": {
        "id": "TNV8NcMovBGF",
        "outputId": "e43dff89-e1ae-4f25-ad7c-7fd33b39cf34",
        "colab": {
          "base_uri": "https://localhost:8080/",
          "height": 255
        }
      },
      "outputs": [
        {
          "output_type": "execute_result",
          "data": {
            "text/plain": [
              "   account  duration  credit_history   amount  savings  employment  \\\n",
              "0        1      0.18               2  0.13110        2           2   \n",
              "1       -1      0.18               0  0.15520        1           3   \n",
              "2       -1      0.12               2  0.04510        1           3   \n",
              "3       -1      0.30               0  0.40360        0           1   \n",
              "4        0      0.36               2  0.09095        1           2   \n",
              "\n",
              "   guarantors  residence   age  credits_number  ...  purpose_business  \\\n",
              "0           1          4  0.34               1  ...                 1   \n",
              "1           1          1  0.31               1  ...                 1   \n",
              "2           1          4  0.21               1  ...                 0   \n",
              "3           1          3  0.25               3  ...                 1   \n",
              "4           1          4  0.37               1  ...                 0   \n",
              "\n",
              "   purpose_car_new  purpose_car_used  purpose_domestic_appliances  \\\n",
              "0                0                 0                            0   \n",
              "1                0                 0                            0   \n",
              "2                0                 0                            0   \n",
              "3                0                 0                            0   \n",
              "4                0                 0                            0   \n",
              "\n",
              "   purpose_education  purpose_furniture  purpose_others  purpose_repairs  \\\n",
              "0                  0                  0               0                0   \n",
              "1                  0                  0               0                0   \n",
              "2                  0                  0               0                0   \n",
              "3                  0                  0               0                0   \n",
              "4                  1                  0               0                0   \n",
              "\n",
              "   purpose_retraining  purpose_television  \n",
              "0                   0                   0  \n",
              "1                   0                   0  \n",
              "2                   1                   0  \n",
              "3                   0                   0  \n",
              "4                   0                   0  \n",
              "\n",
              "[5 rows x 30 columns]"
            ],
            "text/html": [
              "<div>\n",
              "<style scoped>\n",
              "    .dataframe tbody tr th:only-of-type {\n",
              "        vertical-align: middle;\n",
              "    }\n",
              "\n",
              "    .dataframe tbody tr th {\n",
              "        vertical-align: top;\n",
              "    }\n",
              "\n",
              "    .dataframe thead th {\n",
              "        text-align: right;\n",
              "    }\n",
              "</style>\n",
              "<table border=\"1\" class=\"dataframe\">\n",
              "  <thead>\n",
              "    <tr style=\"text-align: right;\">\n",
              "      <th></th>\n",
              "      <th>account</th>\n",
              "      <th>duration</th>\n",
              "      <th>credit_history</th>\n",
              "      <th>amount</th>\n",
              "      <th>savings</th>\n",
              "      <th>employment</th>\n",
              "      <th>guarantors</th>\n",
              "      <th>residence</th>\n",
              "      <th>age</th>\n",
              "      <th>credits_number</th>\n",
              "      <th>...</th>\n",
              "      <th>purpose_business</th>\n",
              "      <th>purpose_car_new</th>\n",
              "      <th>purpose_car_used</th>\n",
              "      <th>purpose_domestic_appliances</th>\n",
              "      <th>purpose_education</th>\n",
              "      <th>purpose_furniture</th>\n",
              "      <th>purpose_others</th>\n",
              "      <th>purpose_repairs</th>\n",
              "      <th>purpose_retraining</th>\n",
              "      <th>purpose_television</th>\n",
              "    </tr>\n",
              "  </thead>\n",
              "  <tbody>\n",
              "    <tr>\n",
              "      <th>0</th>\n",
              "      <td>1</td>\n",
              "      <td>0.18</td>\n",
              "      <td>2</td>\n",
              "      <td>0.13110</td>\n",
              "      <td>2</td>\n",
              "      <td>2</td>\n",
              "      <td>1</td>\n",
              "      <td>4</td>\n",
              "      <td>0.34</td>\n",
              "      <td>1</td>\n",
              "      <td>...</td>\n",
              "      <td>1</td>\n",
              "      <td>0</td>\n",
              "      <td>0</td>\n",
              "      <td>0</td>\n",
              "      <td>0</td>\n",
              "      <td>0</td>\n",
              "      <td>0</td>\n",
              "      <td>0</td>\n",
              "      <td>0</td>\n",
              "      <td>0</td>\n",
              "    </tr>\n",
              "    <tr>\n",
              "      <th>1</th>\n",
              "      <td>-1</td>\n",
              "      <td>0.18</td>\n",
              "      <td>0</td>\n",
              "      <td>0.15520</td>\n",
              "      <td>1</td>\n",
              "      <td>3</td>\n",
              "      <td>1</td>\n",
              "      <td>1</td>\n",
              "      <td>0.31</td>\n",
              "      <td>1</td>\n",
              "      <td>...</td>\n",
              "      <td>1</td>\n",
              "      <td>0</td>\n",
              "      <td>0</td>\n",
              "      <td>0</td>\n",
              "      <td>0</td>\n",
              "      <td>0</td>\n",
              "      <td>0</td>\n",
              "      <td>0</td>\n",
              "      <td>0</td>\n",
              "      <td>0</td>\n",
              "    </tr>\n",
              "    <tr>\n",
              "      <th>2</th>\n",
              "      <td>-1</td>\n",
              "      <td>0.12</td>\n",
              "      <td>2</td>\n",
              "      <td>0.04510</td>\n",
              "      <td>1</td>\n",
              "      <td>3</td>\n",
              "      <td>1</td>\n",
              "      <td>4</td>\n",
              "      <td>0.21</td>\n",
              "      <td>1</td>\n",
              "      <td>...</td>\n",
              "      <td>0</td>\n",
              "      <td>0</td>\n",
              "      <td>0</td>\n",
              "      <td>0</td>\n",
              "      <td>0</td>\n",
              "      <td>0</td>\n",
              "      <td>0</td>\n",
              "      <td>0</td>\n",
              "      <td>1</td>\n",
              "      <td>0</td>\n",
              "    </tr>\n",
              "    <tr>\n",
              "      <th>3</th>\n",
              "      <td>-1</td>\n",
              "      <td>0.30</td>\n",
              "      <td>0</td>\n",
              "      <td>0.40360</td>\n",
              "      <td>0</td>\n",
              "      <td>1</td>\n",
              "      <td>1</td>\n",
              "      <td>3</td>\n",
              "      <td>0.25</td>\n",
              "      <td>3</td>\n",
              "      <td>...</td>\n",
              "      <td>1</td>\n",
              "      <td>0</td>\n",
              "      <td>0</td>\n",
              "      <td>0</td>\n",
              "      <td>0</td>\n",
              "      <td>0</td>\n",
              "      <td>0</td>\n",
              "      <td>0</td>\n",
              "      <td>0</td>\n",
              "      <td>0</td>\n",
              "    </tr>\n",
              "    <tr>\n",
              "      <th>4</th>\n",
              "      <td>0</td>\n",
              "      <td>0.36</td>\n",
              "      <td>2</td>\n",
              "      <td>0.09095</td>\n",
              "      <td>1</td>\n",
              "      <td>2</td>\n",
              "      <td>1</td>\n",
              "      <td>4</td>\n",
              "      <td>0.37</td>\n",
              "      <td>1</td>\n",
              "      <td>...</td>\n",
              "      <td>0</td>\n",
              "      <td>0</td>\n",
              "      <td>0</td>\n",
              "      <td>0</td>\n",
              "      <td>1</td>\n",
              "      <td>0</td>\n",
              "      <td>0</td>\n",
              "      <td>0</td>\n",
              "      <td>0</td>\n",
              "      <td>0</td>\n",
              "    </tr>\n",
              "  </tbody>\n",
              "</table>\n",
              "<p>5 rows × 30 columns</p>\n",
              "</div>"
            ]
          },
          "metadata": {},
          "execution_count": 26
        }
      ],
      "source": [
        "tab_ohe.head()"
      ]
    },
    {
      "cell_type": "code",
      "execution_count": 27,
      "metadata": {
        "id": "N7rT_SrRvBGF"
      },
      "outputs": [],
      "source": [
        "# удаляем целевую переменную с помощью метода drop\n",
        "X_ohe = tab_ohe.drop(\"target\", axis=1)\n",
        "# axis=1 показывает, что мы отим удалить столбец, а не строку (axis=0)"
      ]
    },
    {
      "cell_type": "code",
      "execution_count": 28,
      "metadata": {
        "id": "qxN2om20vBGG"
      },
      "outputs": [],
      "source": [
        "X_train_ohe, X_test_ohe, y_train, y_test  = train_test_split(X_ohe, y, \\\n",
        "                                                     test_size=0.3,\\\n",
        "                                                     shuffle=True,\n",
        "                                                     random_state=0)"
      ]
    },
    {
      "cell_type": "code",
      "execution_count": 29,
      "metadata": {
        "id": "votK4TaPvBGG"
      },
      "outputs": [],
      "source": [
        "scaler = StandardScaler()\n",
        "X_train_ohe = scaler.fit_transform(X_train_ohe)\n",
        "X_test_ohe = scaler.transform(X_test_ohe)"
      ]
    },
    {
      "cell_type": "markdown",
      "metadata": {
        "id": "hK3AL9MavBGG"
      },
      "source": [
        "Благодаря фиксации random_state=0 мы получаем одно и то же разделение."
      ]
    },
    {
      "cell_type": "markdown",
      "metadata": {
        "id": "Y5ZUZcOyvBGG"
      },
      "source": [
        "Оформим обучение классификатора и подсчет качества в виде функции:"
      ]
    },
    {
      "cell_type": "code",
      "execution_count": 30,
      "metadata": {
        "id": "rcu1XOFBvBGG"
      },
      "outputs": [],
      "source": [
        "def get_accuracy(clf):\n",
        "    clf.fit(X_train_ohe, y_train)\n",
        "    y_pred = clf.predict(X_test_ohe)\n",
        "    return accuracy_score(y_test, y_pred > 0.5)"
      ]
    },
    {
      "cell_type": "code",
      "execution_count": 31,
      "metadata": {
        "id": "9lzHF9FhvBGG",
        "outputId": "d6581257-a4ca-4d14-c57b-eca7d778bcac",
        "colab": {
          "base_uri": "https://localhost:8080/"
        }
      },
      "outputs": [
        {
          "output_type": "stream",
          "name": "stdout",
          "text": [
            "0.6666666666666666\n"
          ]
        }
      ],
      "source": [
        "print(get_accuracy(LinearRegression()))"
      ]
    },
    {
      "cell_type": "markdown",
      "metadata": {
        "id": "Vbu4U41jvBGG"
      },
      "source": [
        "Качество с новым признаком повысилось."
      ]
    },
    {
      "cell_type": "markdown",
      "metadata": {
        "id": "Y3nc40acvBGG"
      },
      "source": [
        "А что, если мы просто пронумеруем категории? Для этого воспользуемся классом LabelEncoder:"
      ]
    },
    {
      "cell_type": "code",
      "execution_count": 32,
      "metadata": {
        "id": "4bC-Qk5MvBGG"
      },
      "outputs": [],
      "source": [
        "from sklearn.preprocessing import LabelEncoder"
      ]
    },
    {
      "cell_type": "code",
      "execution_count": 33,
      "metadata": {
        "id": "xzsz1qb9vBGH"
      },
      "outputs": [],
      "source": [
        "le = LabelEncoder()\n",
        "tab[\"purpose\"] = le.fit_transform(tab[\"purpose\"])"
      ]
    },
    {
      "cell_type": "code",
      "execution_count": 34,
      "metadata": {
        "id": "BI7f73OrvBGH"
      },
      "outputs": [],
      "source": [
        "X_le = tab[tab.columns[:-1]]"
      ]
    },
    {
      "cell_type": "code",
      "execution_count": 35,
      "metadata": {
        "id": "-7AJfvPcvBGH"
      },
      "outputs": [],
      "source": [
        "X_train_le, X_test_le, y_train, y_test  = train_test_split(X_le, y, \\\n",
        "                                                     test_size=0.3,\\\n",
        "                                                     shuffle=True,\n",
        "                                                     random_state=0)"
      ]
    },
    {
      "cell_type": "code",
      "source": [
        "X_train_le"
      ],
      "metadata": {
        "id": "yd8sGZmMlOId",
        "outputId": "3fb29d47-935d-4466-99e6-85262840f809",
        "colab": {
          "base_uri": "https://localhost:8080/",
          "height": 443
        }
      },
      "execution_count": 36,
      "outputs": [
        {
          "output_type": "execute_result",
          "data": {
            "text/plain": [
              "     account  duration  credit_history   amount  savings  employment  \\\n",
              "378       -1      0.36               2  0.11510        1           2   \n",
              "581       -1      0.36               4  0.11740        1           2   \n",
              "447       -1      0.12               2  0.12895        1           1   \n",
              "252       -1      0.06               4  0.16920        1           2   \n",
              "561        1      0.06               1  0.04655        2           1   \n",
              "..       ...       ...             ...      ...      ...         ...   \n",
              "277        0      0.12               2  0.03880        1           2   \n",
              "9         -1      0.42               3  0.21850        1           3   \n",
              "359       -1      0.18               2  0.11245        2           3   \n",
              "192       -1      0.48               1  0.38425        1           3   \n",
              "559       -1      0.15               2  0.06375        0           2   \n",
              "\n",
              "     guarantors  residence   age  credits_number  job  maintenance_people  \\\n",
              "378           1          4  0.31               1    2                   1   \n",
              "581           1          2  0.46               2    2                   1   \n",
              "447           1          1  0.33               1    1                   2   \n",
              "252           1          4  0.44               1    3                   1   \n",
              "561           1          1  0.32               1    1                   1   \n",
              "..          ...        ...   ...             ...  ...                 ...   \n",
              "277           1          2  0.28               1    2                   1   \n",
              "9             1          2  0.26               2    2                   2   \n",
              "359           1          3  0.30               1    3                   2   \n",
              "192           0          4  0.37               1    2                   1   \n",
              "559           1          2  0.24               1    2                   1   \n",
              "\n",
              "     telephone  foreign  real_estate  life_insurance  car  housing_rent  sex  \\\n",
              "378          0        1            0               0    1             1    1   \n",
              "581          1        1            0               1    0             0    1   \n",
              "447          0        1            1               0    0             0    1   \n",
              "252          1        1            1               0    0             1    1   \n",
              "561          0        1            0               1    0             0    0   \n",
              "..         ...      ...          ...             ...  ...           ...  ...   \n",
              "277          0        1            1               0    0             0    1   \n",
              "9            1        1            0               1    0             0    1   \n",
              "359          1        1            0               0    1             0    1   \n",
              "192          0        1            0               0    1             1    0   \n",
              "559          0        1            0               0    1             1    0   \n",
              "\n",
              "     purpose  \n",
              "378        9  \n",
              "581        5  \n",
              "447        1  \n",
              "252        5  \n",
              "561        1  \n",
              "..       ...  \n",
              "277        9  \n",
              "9          9  \n",
              "359        1  \n",
              "192        0  \n",
              "559        3  \n",
              "\n",
              "[420 rows x 20 columns]"
            ],
            "text/html": [
              "<div>\n",
              "<style scoped>\n",
              "    .dataframe tbody tr th:only-of-type {\n",
              "        vertical-align: middle;\n",
              "    }\n",
              "\n",
              "    .dataframe tbody tr th {\n",
              "        vertical-align: top;\n",
              "    }\n",
              "\n",
              "    .dataframe thead th {\n",
              "        text-align: right;\n",
              "    }\n",
              "</style>\n",
              "<table border=\"1\" class=\"dataframe\">\n",
              "  <thead>\n",
              "    <tr style=\"text-align: right;\">\n",
              "      <th></th>\n",
              "      <th>account</th>\n",
              "      <th>duration</th>\n",
              "      <th>credit_history</th>\n",
              "      <th>amount</th>\n",
              "      <th>savings</th>\n",
              "      <th>employment</th>\n",
              "      <th>guarantors</th>\n",
              "      <th>residence</th>\n",
              "      <th>age</th>\n",
              "      <th>credits_number</th>\n",
              "      <th>job</th>\n",
              "      <th>maintenance_people</th>\n",
              "      <th>telephone</th>\n",
              "      <th>foreign</th>\n",
              "      <th>real_estate</th>\n",
              "      <th>life_insurance</th>\n",
              "      <th>car</th>\n",
              "      <th>housing_rent</th>\n",
              "      <th>sex</th>\n",
              "      <th>purpose</th>\n",
              "    </tr>\n",
              "  </thead>\n",
              "  <tbody>\n",
              "    <tr>\n",
              "      <th>378</th>\n",
              "      <td>-1</td>\n",
              "      <td>0.36</td>\n",
              "      <td>2</td>\n",
              "      <td>0.11510</td>\n",
              "      <td>1</td>\n",
              "      <td>2</td>\n",
              "      <td>1</td>\n",
              "      <td>4</td>\n",
              "      <td>0.31</td>\n",
              "      <td>1</td>\n",
              "      <td>2</td>\n",
              "      <td>1</td>\n",
              "      <td>0</td>\n",
              "      <td>1</td>\n",
              "      <td>0</td>\n",
              "      <td>0</td>\n",
              "      <td>1</td>\n",
              "      <td>1</td>\n",
              "      <td>1</td>\n",
              "      <td>9</td>\n",
              "    </tr>\n",
              "    <tr>\n",
              "      <th>581</th>\n",
              "      <td>-1</td>\n",
              "      <td>0.36</td>\n",
              "      <td>4</td>\n",
              "      <td>0.11740</td>\n",
              "      <td>1</td>\n",
              "      <td>2</td>\n",
              "      <td>1</td>\n",
              "      <td>2</td>\n",
              "      <td>0.46</td>\n",
              "      <td>2</td>\n",
              "      <td>2</td>\n",
              "      <td>1</td>\n",
              "      <td>1</td>\n",
              "      <td>1</td>\n",
              "      <td>0</td>\n",
              "      <td>1</td>\n",
              "      <td>0</td>\n",
              "      <td>0</td>\n",
              "      <td>1</td>\n",
              "      <td>5</td>\n",
              "    </tr>\n",
              "    <tr>\n",
              "      <th>447</th>\n",
              "      <td>-1</td>\n",
              "      <td>0.12</td>\n",
              "      <td>2</td>\n",
              "      <td>0.12895</td>\n",
              "      <td>1</td>\n",
              "      <td>1</td>\n",
              "      <td>1</td>\n",
              "      <td>1</td>\n",
              "      <td>0.33</td>\n",
              "      <td>1</td>\n",
              "      <td>1</td>\n",
              "      <td>2</td>\n",
              "      <td>0</td>\n",
              "      <td>1</td>\n",
              "      <td>1</td>\n",
              "      <td>0</td>\n",
              "      <td>0</td>\n",
              "      <td>0</td>\n",
              "      <td>1</td>\n",
              "      <td>1</td>\n",
              "    </tr>\n",
              "    <tr>\n",
              "      <th>252</th>\n",
              "      <td>-1</td>\n",
              "      <td>0.06</td>\n",
              "      <td>4</td>\n",
              "      <td>0.16920</td>\n",
              "      <td>1</td>\n",
              "      <td>2</td>\n",
              "      <td>1</td>\n",
              "      <td>4</td>\n",
              "      <td>0.44</td>\n",
              "      <td>1</td>\n",
              "      <td>3</td>\n",
              "      <td>1</td>\n",
              "      <td>1</td>\n",
              "      <td>1</td>\n",
              "      <td>1</td>\n",
              "      <td>0</td>\n",
              "      <td>0</td>\n",
              "      <td>1</td>\n",
              "      <td>1</td>\n",
              "      <td>5</td>\n",
              "    </tr>\n",
              "    <tr>\n",
              "      <th>561</th>\n",
              "      <td>1</td>\n",
              "      <td>0.06</td>\n",
              "      <td>1</td>\n",
              "      <td>0.04655</td>\n",
              "      <td>2</td>\n",
              "      <td>1</td>\n",
              "      <td>1</td>\n",
              "      <td>1</td>\n",
              "      <td>0.32</td>\n",
              "      <td>1</td>\n",
              "      <td>1</td>\n",
              "      <td>1</td>\n",
              "      <td>0</td>\n",
              "      <td>1</td>\n",
              "      <td>0</td>\n",
              "      <td>1</td>\n",
              "      <td>0</td>\n",
              "      <td>0</td>\n",
              "      <td>0</td>\n",
              "      <td>1</td>\n",
              "    </tr>\n",
              "    <tr>\n",
              "      <th>...</th>\n",
              "      <td>...</td>\n",
              "      <td>...</td>\n",
              "      <td>...</td>\n",
              "      <td>...</td>\n",
              "      <td>...</td>\n",
              "      <td>...</td>\n",
              "      <td>...</td>\n",
              "      <td>...</td>\n",
              "      <td>...</td>\n",
              "      <td>...</td>\n",
              "      <td>...</td>\n",
              "      <td>...</td>\n",
              "      <td>...</td>\n",
              "      <td>...</td>\n",
              "      <td>...</td>\n",
              "      <td>...</td>\n",
              "      <td>...</td>\n",
              "      <td>...</td>\n",
              "      <td>...</td>\n",
              "      <td>...</td>\n",
              "    </tr>\n",
              "    <tr>\n",
              "      <th>277</th>\n",
              "      <td>0</td>\n",
              "      <td>0.12</td>\n",
              "      <td>2</td>\n",
              "      <td>0.03880</td>\n",
              "      <td>1</td>\n",
              "      <td>2</td>\n",
              "      <td>1</td>\n",
              "      <td>2</td>\n",
              "      <td>0.28</td>\n",
              "      <td>1</td>\n",
              "      <td>2</td>\n",
              "      <td>1</td>\n",
              "      <td>0</td>\n",
              "      <td>1</td>\n",
              "      <td>1</td>\n",
              "      <td>0</td>\n",
              "      <td>0</td>\n",
              "      <td>0</td>\n",
              "      <td>1</td>\n",
              "      <td>9</td>\n",
              "    </tr>\n",
              "    <tr>\n",
              "      <th>9</th>\n",
              "      <td>-1</td>\n",
              "      <td>0.42</td>\n",
              "      <td>3</td>\n",
              "      <td>0.21850</td>\n",
              "      <td>1</td>\n",
              "      <td>3</td>\n",
              "      <td>1</td>\n",
              "      <td>2</td>\n",
              "      <td>0.26</td>\n",
              "      <td>2</td>\n",
              "      <td>2</td>\n",
              "      <td>2</td>\n",
              "      <td>1</td>\n",
              "      <td>1</td>\n",
              "      <td>0</td>\n",
              "      <td>1</td>\n",
              "      <td>0</td>\n",
              "      <td>0</td>\n",
              "      <td>1</td>\n",
              "      <td>9</td>\n",
              "    </tr>\n",
              "    <tr>\n",
              "      <th>359</th>\n",
              "      <td>-1</td>\n",
              "      <td>0.18</td>\n",
              "      <td>2</td>\n",
              "      <td>0.11245</td>\n",
              "      <td>2</td>\n",
              "      <td>3</td>\n",
              "      <td>1</td>\n",
              "      <td>3</td>\n",
              "      <td>0.30</td>\n",
              "      <td>1</td>\n",
              "      <td>3</td>\n",
              "      <td>2</td>\n",
              "      <td>1</td>\n",
              "      <td>1</td>\n",
              "      <td>0</td>\n",
              "      <td>0</td>\n",
              "      <td>1</td>\n",
              "      <td>0</td>\n",
              "      <td>1</td>\n",
              "      <td>1</td>\n",
              "    </tr>\n",
              "    <tr>\n",
              "      <th>192</th>\n",
              "      <td>-1</td>\n",
              "      <td>0.48</td>\n",
              "      <td>1</td>\n",
              "      <td>0.38425</td>\n",
              "      <td>1</td>\n",
              "      <td>3</td>\n",
              "      <td>0</td>\n",
              "      <td>4</td>\n",
              "      <td>0.37</td>\n",
              "      <td>1</td>\n",
              "      <td>2</td>\n",
              "      <td>1</td>\n",
              "      <td>0</td>\n",
              "      <td>1</td>\n",
              "      <td>0</td>\n",
              "      <td>0</td>\n",
              "      <td>1</td>\n",
              "      <td>1</td>\n",
              "      <td>0</td>\n",
              "      <td>0</td>\n",
              "    </tr>\n",
              "    <tr>\n",
              "      <th>559</th>\n",
              "      <td>-1</td>\n",
              "      <td>0.15</td>\n",
              "      <td>2</td>\n",
              "      <td>0.06375</td>\n",
              "      <td>0</td>\n",
              "      <td>2</td>\n",
              "      <td>1</td>\n",
              "      <td>2</td>\n",
              "      <td>0.24</td>\n",
              "      <td>1</td>\n",
              "      <td>2</td>\n",
              "      <td>1</td>\n",
              "      <td>0</td>\n",
              "      <td>1</td>\n",
              "      <td>0</td>\n",
              "      <td>0</td>\n",
              "      <td>1</td>\n",
              "      <td>1</td>\n",
              "      <td>0</td>\n",
              "      <td>3</td>\n",
              "    </tr>\n",
              "  </tbody>\n",
              "</table>\n",
              "<p>420 rows × 20 columns</p>\n",
              "</div>"
            ]
          },
          "metadata": {},
          "execution_count": 36
        }
      ]
    },
    {
      "cell_type": "code",
      "execution_count": 37,
      "metadata": {
        "id": "uUbO82mAvBGH"
      },
      "outputs": [],
      "source": [
        "scaler = StandardScaler()\n",
        "X_train_le = scaler.fit_transform(X_train_le)\n",
        "X_test_le = scaler.transform(X_test_le)"
      ]
    },
    {
      "cell_type": "code",
      "execution_count": 38,
      "metadata": {
        "id": "kUr45asbvBGI"
      },
      "outputs": [],
      "source": [
        "def get_accuracy(clf):\n",
        "    clf.fit(X_train_le, y_train)\n",
        "    y_pred = clf.predict(X_test_le)\n",
        "    return accuracy_score(y_test, y_pred > 0.5)"
      ]
    },
    {
      "cell_type": "code",
      "execution_count": 39,
      "metadata": {
        "id": "X_KMhK5ZvBGI",
        "outputId": "adcf8f1c-3831-442d-c917-89eeae71e2be",
        "colab": {
          "base_uri": "https://localhost:8080/"
        }
      },
      "outputs": [
        {
          "output_type": "stream",
          "name": "stdout",
          "text": [
            "0.65\n"
          ]
        }
      ],
      "source": [
        "print(get_accuracy(LinearRegression()))"
      ]
    },
    {
      "cell_type": "markdown",
      "metadata": {
        "id": "4cGfnTMivBGI"
      },
      "source": [
        "Посчитаем метрики нашей модели. Метрики разобранные на лекции уже реализованы в библиотеке scikit-learn."
      ]
    },
    {
      "cell_type": "code",
      "execution_count": 41,
      "metadata": {
        "id": "pTv9uRsNvBGI"
      },
      "outputs": [],
      "source": [
        "from sklearn.metrics import precision_score, recall_score, confusion_matrix, f1_score"
      ]
    },
    {
      "cell_type": "code",
      "execution_count": 42,
      "metadata": {
        "id": "OcXhen9MvBGI",
        "outputId": "9afee5b6-dbb7-46bd-fdee-a4a2f094fb17",
        "colab": {
          "base_uri": "https://localhost:8080/"
        }
      },
      "outputs": [
        {
          "output_type": "execute_result",
          "data": {
            "text/plain": [
              "array([[53, 49],\n",
              "       [16, 62]], dtype=int64)"
            ]
          },
          "metadata": {},
          "execution_count": 42
        }
      ],
      "source": [
        "confusion_matrix(y_test, y_pred > 0.5)"
      ]
    },
    {
      "cell_type": "code",
      "execution_count": 43,
      "metadata": {
        "id": "OA9G599jvBGJ",
        "outputId": "2951d2e7-a80f-4112-c2fa-e71acd8afeee",
        "colab": {
          "base_uri": "https://localhost:8080/"
        }
      },
      "outputs": [
        {
          "output_type": "execute_result",
          "data": {
            "text/plain": [
              "0.5585585585585585"
            ]
          },
          "metadata": {},
          "execution_count": 43
        }
      ],
      "source": [
        "precision_score(y_test, y_pred > 0.5)"
      ]
    },
    {
      "cell_type": "code",
      "execution_count": 44,
      "metadata": {
        "id": "70bPz6N8vBGJ",
        "outputId": "559d3f1c-6a61-4152-8b77-d88420612b85",
        "colab": {
          "base_uri": "https://localhost:8080/"
        }
      },
      "outputs": [
        {
          "output_type": "execute_result",
          "data": {
            "text/plain": [
              "0.7948717948717948"
            ]
          },
          "metadata": {},
          "execution_count": 44
        }
      ],
      "source": [
        "recall_score(y_test, y_pred > 0.5)"
      ]
    },
    {
      "cell_type": "code",
      "execution_count": null,
      "metadata": {
        "id": "HHhr7cr8vBGJ",
        "outputId": "99263513-098a-45d2-e400-515c12dae3ed",
        "colab": {
          "base_uri": "https://localhost:8080/"
        }
      },
      "outputs": [
        {
          "output_type": "execute_result",
          "data": {
            "text/plain": [
              "0.656084656084656"
            ]
          },
          "metadata": {},
          "execution_count": 42
        }
      ],
      "source": [
        "f1_score(y_test, y_pred > 0.5)"
      ]
    },
    {
      "cell_type": "markdown",
      "metadata": {
        "id": "63DLGMV2vBGJ"
      },
      "source": [
        "Порог 0.5 мы выбрали самостоятельно, и мы можем его менять. Как увелечиение порога отразится на precision/recall?\n",
        "\n",
        "На практике, перед нами всегда встает трейдофф - потерять часть сигнала взамен на большую точность или получить false positives взамен на больший recall."
      ]
    },
    {
      "cell_type": "markdown",
      "metadata": {
        "id": "66ol31hYvBGJ"
      },
      "source": [
        "Постройте на одном графике precision, recall и f1 score в зависимости от порога."
      ]
    },
    {
      "cell_type": "code",
      "execution_count": 45,
      "metadata": {
        "id": "5YfeAaJ4vBGK",
        "outputId": "6def83b8-f5a7-4de5-ed90-500401348b6d",
        "colab": {
          "base_uri": "https://localhost:8080/",
          "height": 265
        }
      },
      "outputs": [
        {
          "output_type": "display_data",
          "data": {
            "text/plain": [
              "<Figure size 432x288 with 1 Axes>"
            ],
            "image/png": "[encoded data removed]"
          },
          "metadata": {
            "needs_background": "light"
          }
        }
      ],
      "source": [
        "import matplotlib.pyplot as plt\n",
        "f1, precision, recall = [], [], []\n",
        "thresholds = [0, 0.1, 0.2, 0.3, 0.35, 0.4, 0.42, 0.44, 0.46, 0.48, 0.5, 0.52, 0.54, 0.56, 0.58, 0.6, 0.65, 0.7, 0.8, 0.9, 1]\n",
        "for i in thresholds:\n",
        "  f1.append(f1_score(y_test, y_pred > i))\n",
        "  precision.append(precision_score(y_test, y_pred > i))\n",
        "  recall.append(recall_score(y_test, y_pred > i))\n",
        "plt.plot(thresholds, recall, '-r')\n",
        "plt.plot(thresholds, precision, '-g')\n",
        "plt.plot(thresholds, f1, '-b')\n",
        "plt.grid('True')\n",
        "plt.legend(['recall', 'precision', 'f1_score'])\n",
        "plt.show()"
      ]
    },
    {
      "cell_type": "markdown",
      "metadata": {
        "id": "wl4gZSPlvBGK"
      },
      "source": [
        "Какой порог соответствует максимизации f1 score?"
      ]
    },
    {
      "cell_type": "code",
      "execution_count": 46,
      "metadata": {
        "id": "SsXB880bvBGK",
        "outputId": "502a2c69-0a56-4a1f-cd62-8f00754eee23",
        "colab": {
          "base_uri": "https://localhost:8080/",
          "height": 265
        }
      },
      "outputs": [
        {
          "output_type": "display_data",
          "data": {
            "text/plain": [
              "<Figure size 432x288 with 1 Axes>"
            ],
            "image/png": "[encoded data removed]"
          },
          "metadata": {
            "needs_background": "light"
          }
        }
      ],
      "source": [
        "from sklearn.metrics import precision_recall_curve\n",
        "from sklearn.metrics import auc\n",
        "precision, recall, threshold = precision_recall_curve(y_test, y_pred)\n",
        "plt.plot(recall, precision)\n",
        "plt.show()"
      ]
    },
    {
      "cell_type": "code",
      "source": [
        "auc(recall, precision)"
      ],
      "metadata": {
        "id": "FIiBJL9Ko4-F",
        "outputId": "30ee68f9-c059-4597-ee0f-c9a077d44f44",
        "colab": {
          "base_uri": "https://localhost:8080/"
        }
      },
      "execution_count": 47,
      "outputs": [
        {
          "output_type": "execute_result",
          "data": {
            "text/plain": [
              "0.6466113156817068"
            ]
          },
          "metadata": {},
          "execution_count": 47
        }
      ]
    },
    {
      "cell_type": "code",
      "source": [
        "threshold"
      ],
      "metadata": {
        "id": "RUMArgCLpMAB"
      },
      "execution_count": null,
      "outputs": []
    },
    {
      "cell_type": "markdown",
      "metadata": {
        "id": "LaN8V2V1vBGK"
      },
      "source": [
        "Обучите линейную регрессию с регуляризацией и подберите параметр регуляризации исходя из максимального f1-score."
      ]
    },
    {
      "cell_type": "code",
      "execution_count": 60,
      "metadata": {
        "id": "tWnstl1NvBGK",
        "outputId": "f26be2ab-179c-4bb1-ba0e-c786f4f25dcb",
        "colab": {
          "base_uri": "https://localhost:8080/"
        }
      },
      "outputs": [
        {
          "output_type": "execute_result",
          "data": {
            "text/plain": [
              "Lasso(alpha=0.001)"
            ]
          },
          "metadata": {},
          "execution_count": 60
        }
      ],
      "source": [
        "from sklearn.linear_model import Lasso\n",
        "model = Lasso(alpha=0.001)\n",
        "model.fit(X_train, y_train)"
      ]
    },
    {
      "cell_type": "code",
      "source": [
        "model.coef_"
      ],
      "metadata": {
        "id": "SyAHNXE5pk1k",
        "outputId": "c93e4561-68b4-4682-af07-9a9de501654c",
        "colab": {
          "base_uri": "https://localhost:8080/"
        }
      },
      "execution_count": 50,
      "outputs": [
        {
          "output_type": "execute_result",
          "data": {
            "text/plain": [
              "array([ 0.03252527, -0.07773322,  0.08635182, -0.01957258,  0.02981708,\n",
              "        0.06723708, -0.00851347,  0.        ,  0.01803153, -0.04474437,\n",
              "        0.        , -0.0046484 ,  0.01646721, -0.03387833,  0.06126101,\n",
              "       -0.0142238 ,  0.06079902, -0.04071159,  0.05005665])"
            ]
          },
          "metadata": {},
          "execution_count": 50
        }
      ]
    },
    {
      "cell_type": "code",
      "source": [
        "accuracy_score(y_test, model.predict(X_test) > 0.59)"
      ],
      "metadata": {
        "id": "orEGtkF-puyc",
        "outputId": "f5e6e2e0-7ab1-4e38-e2af-6257e56edbe5",
        "colab": {
          "base_uri": "https://localhost:8080/"
        }
      },
      "execution_count": 64,
      "outputs": [
        {
          "output_type": "execute_result",
          "data": {
            "text/plain": [
              "0.6944444444444444"
            ]
          },
          "metadata": {},
          "execution_count": 64
        }
      ]
    },
    {
      "cell_type": "code",
      "source": [
        "import numpy as np\n"
      ],
      "metadata": {
        "id": "-N8K3xxPrvWF"
      },
      "execution_count": 70,
      "outputs": []
    },
    {
      "cell_type": "code",
      "source": [
        "np.array([0, 1, 0]) == [0, 1, 5]"
      ],
      "metadata": {
        "id": "s1_nTzzyr1G2",
        "outputId": "736b9c39-6e27-4717-e976-e425a1190ffc",
        "colab": {
          "base_uri": "https://localhost:8080/"
        }
      },
      "execution_count": 73,
      "outputs": [
        {
          "output_type": "execute_result",
          "data": {
            "text/plain": [
              "array([ True,  True, False])"
            ]
          },
          "metadata": {},
          "execution_count": 73
        }
      ]
    },
    {
      "cell_type": "code",
      "source": [
        "assert all(np.array([0, 1]) == [0, 1])"
      ],
      "metadata": {
        "id": "6J_NlgsWrT_A"
      },
      "execution_count": 71,
      "outputs": []
    }
  ],
  "metadata": {
    "kernelspec": {
      "display_name": "Python 3",
      "language": "python",
      "name": "python3"
    },
    "language_info": {
      "codemirror_mode": {
        "name": "ipython",
        "version": 3
      },
      "file_extension": ".py",
      "mimetype": "text/x-python",
      "name": "python",
      "nbconvert_exporter": "python",
      "pygments_lexer": "ipython3",
      "version": "3.8.8"
    },
    "colab": {
      "provenance": []
    }
  },
  "nbformat": 4,
  "nbformat_minor": 0
}