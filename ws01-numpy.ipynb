{
  "nbformat": 4,
  "nbformat_minor": 0,
  "metadata": {
    "kernelspec": {
      "display_name": "Python 3",
      "language": "python",
      "name": "python3"
    },
    "language_info": {
      "codemirror_mode": {
        "name": "ipython",
        "version": 3
      },
      "file_extension": ".py",
      "mimetype": "text/x-python",
      "name": "python",
      "nbconvert_exporter": "python",
      "pygments_lexer": "ipython3",
      "version": "3.7.9"
    },
    "colab": {
      "name": "Copy of sem02_numpy.ipynb",
      "provenance": [],
      "collapsed_sections": [
        "gpGfkYB07-y5"
      ]
    }
  },
  "cells": [
    {
      "cell_type": "markdown",
      "metadata": {
        "id": "oq6UohAE7-ym"
      },
      "source": [
        "# Семинар 2"
      ]
    },
    {
      "cell_type": "markdown",
      "metadata": {
        "id": "iaSb9rg77-yp"
      },
      "source": [
        "## numpy"
      ]
    },
    {
      "cell_type": "markdown",
      "metadata": {
        "id": "shZ4PYAA7-yp"
      },
      "source": [
        "- документация: http://www.numpy.org/"
      ]
    },
    {
      "cell_type": "markdown",
      "metadata": {
        "id": "ZuSVe3hO7-yp"
      },
      "source": [
        "Библиотека numpy является удобным инструментом для работы с многомерными массивами с возможностью векторизации вычислений. Рассмотрим базовые вещи, которые можно делать с помощью нее."
      ]
    },
    {
      "cell_type": "code",
      "metadata": {
        "id": "niq458a77-yq"
      },
      "source": [
        "import numpy as np"
      ],
      "execution_count": 1,
      "outputs": []
    },
    {
      "cell_type": "code",
      "metadata": {
        "id": "rw731DVy7-yq"
      },
      "source": [
        "vec = np.array([[1, 2], [3, 4], [5, 6]])"
      ],
      "execution_count": 35,
      "outputs": []
    },
    {
      "cell_type": "code",
      "source": [
        "type(vec)"
      ],
      "metadata": {
        "id": "nJ7GKlszNcHk",
        "outputId": "d45bfb07-4798-4740-c010-0e01db60adb2",
        "colab": {
          "base_uri": "https://localhost:8080/"
        }
      },
      "execution_count": 3,
      "outputs": [
        {
          "output_type": "execute_result",
          "data": {
            "text/plain": [
              "numpy.ndarray"
            ]
          },
          "metadata": {},
          "execution_count": 3
        }
      ]
    },
    {
      "cell_type": "code",
      "source": [
        "dir(pyvec)\n",
        "pyvec * 2"
      ],
      "metadata": {
        "id": "n5uHb26VNyyf",
        "outputId": "7f8be74e-eeaf-42c1-cdab-7e6ef24fde73",
        "colab": {
          "base_uri": "https://localhost:8080/"
        }
      },
      "execution_count": 10,
      "outputs": [
        {
          "output_type": "execute_result",
          "data": {
            "text/plain": [
              "[[1, 2], [3, 4], [5, 6], [1, 2], [3, 4], [5, 6]]"
            ]
          },
          "metadata": {},
          "execution_count": 10
        }
      ]
    },
    {
      "cell_type": "code",
      "source": [
        "vec * 2"
      ],
      "metadata": {
        "id": "OUWVjbJdPNi2",
        "outputId": "5a38b799-bfe1-4246-828f-eb7a6b870cc5",
        "colab": {
          "base_uri": "https://localhost:8080/"
        }
      },
      "execution_count": 23,
      "outputs": [
        {
          "output_type": "execute_result",
          "data": {
            "text/plain": [
              "array([[ 2,  4],\n",
              "       [ 6,  8],\n",
              "       [10, 12]])"
            ]
          },
          "metadata": {},
          "execution_count": 23
        }
      ]
    },
    {
      "cell_type": "code",
      "metadata": {
        "id": "JakixV2i7-yq",
        "outputId": "a4d4da12-b410-4cfe-f5db-379c41a38ded",
        "colab": {
          "base_uri": "https://localhost:8080/"
        }
      },
      "source": [
        "vec @ vec.T"
      ],
      "execution_count": 20,
      "outputs": [
        {
          "output_type": "execute_result",
          "data": {
            "text/plain": [
              "array([[ 5, 11, 17],\n",
              "       [11, 25, 39],\n",
              "       [17, 39, 61]])"
            ]
          },
          "metadata": {},
          "execution_count": 20
        }
      ]
    },
    {
      "cell_type": "code",
      "source": [
        "pyvec = [[1, 2], [3, 4], [5, 6]]\n",
        "print(type(pyvec))\n",
        "pyvec"
      ],
      "metadata": {
        "id": "vHahZIxpoBqc",
        "outputId": "abca0a89-33c6-44bb-ec73-3521047cd3ce",
        "colab": {
          "base_uri": "https://localhost:8080/"
        }
      },
      "execution_count": 7,
      "outputs": [
        {
          "output_type": "stream",
          "name": "stdout",
          "text": [
            "<class 'list'>\n"
          ]
        },
        {
          "output_type": "execute_result",
          "data": {
            "text/plain": [
              "[[1, 2], [3, 4], [5, 6]]"
            ]
          },
          "metadata": {},
          "execution_count": 7
        }
      ]
    },
    {
      "cell_type": "code",
      "source": [
        "vec[::-2][1]"
      ],
      "metadata": {
        "id": "SAUJOUu0qQSv",
        "outputId": "5e646c7e-fdfc-40b6-f523-c77854d7805f",
        "colab": {
          "base_uri": "https://localhost:8080/"
        }
      },
      "execution_count": 22,
      "outputs": [
        {
          "output_type": "execute_result",
          "data": {
            "text/plain": [
              "array([1, 2])"
            ]
          },
          "metadata": {},
          "execution_count": 22
        }
      ]
    },
    {
      "cell_type": "code",
      "metadata": {
        "id": "XEElyVi37-yr",
        "outputId": "ddb33e75-17d1-4c43-84f1-2878a336b3f1",
        "colab": {
          "base_uri": "https://localhost:8080/"
        }
      },
      "source": [
        "print(vec)"
      ],
      "execution_count": 25,
      "outputs": [
        {
          "output_type": "stream",
          "name": "stdout",
          "text": [
            "[[1 2]\n",
            " [3 4]\n",
            " [5 6]]\n"
          ]
        }
      ]
    },
    {
      "cell_type": "markdown",
      "metadata": {
        "id": "nceABYqc7-yr"
      },
      "source": [
        "С чем мы работаем?"
      ]
    },
    {
      "cell_type": "code",
      "metadata": {
        "id": "hLVpCUWk7-yr",
        "outputId": "c6762c6b-d968-4631-b39f-1b4cc2eca23d",
        "colab": {
          "base_uri": "https://localhost:8080/"
        }
      },
      "source": [
        "vec.dtype"
      ],
      "execution_count": 36,
      "outputs": [
        {
          "output_type": "execute_result",
          "data": {
            "text/plain": [
              "dtype('int32')"
            ]
          },
          "metadata": {},
          "execution_count": 36
        }
      ]
    },
    {
      "cell_type": "code",
      "metadata": {
        "id": "vAnrAw_57-yr",
        "outputId": "6726445d-0bbe-42d7-e58e-dfa09648633c",
        "colab": {
          "base_uri": "https://localhost:8080/"
        }
      },
      "source": [
        "type(vec)"
      ],
      "execution_count": 28,
      "outputs": [
        {
          "output_type": "execute_result",
          "data": {
            "text/plain": [
              "numpy.ndarray"
            ]
          },
          "metadata": {},
          "execution_count": 28
        }
      ]
    },
    {
      "cell_type": "markdown",
      "metadata": {
        "id": "aykgi9wG7-ys"
      },
      "source": [
        "Размер массива:"
      ]
    },
    {
      "cell_type": "code",
      "metadata": {
        "id": "Y3vjK6IK7-ys",
        "outputId": "db611b66-167c-418e-e46c-053dcc9e60bc",
        "colab": {
          "base_uri": "https://localhost:8080/"
        }
      },
      "source": [
        "vec.shape"
      ],
      "execution_count": 29,
      "outputs": [
        {
          "output_type": "execute_result",
          "data": {
            "text/plain": [
              "(3, 2)"
            ]
          },
          "metadata": {},
          "execution_count": 29
        }
      ]
    },
    {
      "cell_type": "markdown",
      "metadata": {
        "id": "lTaU9_wW7-yt"
      },
      "source": [
        "Число осей:"
      ]
    },
    {
      "cell_type": "code",
      "metadata": {
        "id": "ygd7yD5L7-yt",
        "outputId": "e2e27e96-ef0f-4e53-84f3-6b615c795255",
        "colab": {
          "base_uri": "https://localhost:8080/"
        }
      },
      "source": [
        "vec.ndim"
      ],
      "execution_count": 30,
      "outputs": [
        {
          "output_type": "execute_result",
          "data": {
            "text/plain": [
              "2"
            ]
          },
          "metadata": {},
          "execution_count": 30
        }
      ]
    },
    {
      "cell_type": "markdown",
      "metadata": {
        "id": "YmzlC19b7-yt"
      },
      "source": [
        "У некоторых функций бывает параметр `axis`, который позволяет применить эту функцию по разным осям - в данном случае, по строкам или столбцам:"
      ]
    },
    {
      "cell_type": "code",
      "source": [
        "vec"
      ],
      "metadata": {
        "id": "n6lbWUsuP6Yc",
        "outputId": "94d1666e-c296-433a-8297-0c70bf796cb8",
        "colab": {
          "base_uri": "https://localhost:8080/"
        }
      },
      "execution_count": 37,
      "outputs": [
        {
          "output_type": "execute_result",
          "data": {
            "text/plain": [
              "array([[1, 2],\n",
              "       [3, 4],\n",
              "       [5, 6]])"
            ]
          },
          "metadata": {},
          "execution_count": 37
        }
      ]
    },
    {
      "cell_type": "code",
      "metadata": {
        "id": "m8c0jQr97-yt",
        "outputId": "1ce7539a-a6cb-4a86-cb2d-345d11ef67ca",
        "colab": {
          "base_uri": "https://localhost:8080/"
        }
      },
      "source": [
        "np.sum(vec)"
      ],
      "execution_count": 38,
      "outputs": [
        {
          "output_type": "execute_result",
          "data": {
            "text/plain": [
              "21"
            ]
          },
          "metadata": {},
          "execution_count": 38
        }
      ]
    },
    {
      "cell_type": "code",
      "metadata": {
        "id": "ldw4QRrG7-yt",
        "outputId": "0ead5ed7-20ce-4cdb-b843-eb6709c1f691",
        "colab": {
          "base_uri": "https://localhost:8080/"
        }
      },
      "source": [
        "np.sum(vec, axis=0)"
      ],
      "execution_count": 39,
      "outputs": [
        {
          "output_type": "execute_result",
          "data": {
            "text/plain": [
              "array([ 9, 12])"
            ]
          },
          "metadata": {},
          "execution_count": 39
        }
      ]
    },
    {
      "cell_type": "code",
      "metadata": {
        "id": "2ryuF-u97-yu",
        "outputId": "5fa0acbe-f3e0-4076-945f-eb7a1a93efcb",
        "colab": {
          "base_uri": "https://localhost:8080/"
        }
      },
      "source": [
        "np.sum(vec, axis=1)"
      ],
      "execution_count": 40,
      "outputs": [
        {
          "output_type": "execute_result",
          "data": {
            "text/plain": [
              "array([ 3,  7, 11])"
            ]
          },
          "metadata": {},
          "execution_count": 40
        }
      ]
    },
    {
      "cell_type": "code",
      "metadata": {
        "id": "3RibLKQu7-yu",
        "outputId": "8f3651c3-989e-4cf5-ac36-66e35a4efdb9",
        "colab": {
          "base_uri": "https://localhost:8080/"
        }
      },
      "source": [
        "vec.sum()"
      ],
      "execution_count": 41,
      "outputs": [
        {
          "output_type": "execute_result",
          "data": {
            "text/plain": [
              "21"
            ]
          },
          "metadata": {},
          "execution_count": 41
        }
      ]
    },
    {
      "cell_type": "markdown",
      "metadata": {
        "id": "bKUswd0c7-yu"
      },
      "source": [
        "Транспонируем массив:"
      ]
    },
    {
      "cell_type": "code",
      "metadata": {
        "id": "HZAhMqd17-yu",
        "outputId": "b82509c6-2864-4137-b95b-a79974a54077",
        "colab": {
          "base_uri": "https://localhost:8080/"
        }
      },
      "source": [
        "vec.T"
      ],
      "execution_count": 42,
      "outputs": [
        {
          "output_type": "execute_result",
          "data": {
            "text/plain": [
              "array([[1, 3, 5],\n",
              "       [2, 4, 6]])"
            ]
          },
          "metadata": {},
          "execution_count": 42
        }
      ]
    },
    {
      "cell_type": "code",
      "metadata": {
        "id": "LCShOYJh7-yu",
        "outputId": "435f634a-5b08-440e-d645-f3c4305757e0",
        "colab": {
          "base_uri": "https://localhost:8080/"
        }
      },
      "source": [
        "vec.transpose()"
      ],
      "execution_count": 47,
      "outputs": [
        {
          "output_type": "execute_result",
          "data": {
            "text/plain": [
              "array([[1, 3, 5],\n",
              "       [2, 4, 6]])"
            ]
          },
          "metadata": {},
          "execution_count": 47
        }
      ]
    },
    {
      "cell_type": "markdown",
      "metadata": {
        "id": "VgI5MnaD7-yv"
      },
      "source": [
        "Обратите внимание, что переменная `vec` не поменялась!"
      ]
    },
    {
      "cell_type": "code",
      "metadata": {
        "id": "18xC2EHI7-yv",
        "outputId": "b6aace84-b2c3-4ad0-c060-735dc237eafe",
        "colab": {
          "base_uri": "https://localhost:8080/"
        }
      },
      "source": [
        "vec"
      ],
      "execution_count": 44,
      "outputs": [
        {
          "output_type": "execute_result",
          "data": {
            "text/plain": [
              "array([[1, 2],\n",
              "       [3, 4],\n",
              "       [5, 6]])"
            ]
          },
          "metadata": {},
          "execution_count": 44
        }
      ]
    },
    {
      "cell_type": "markdown",
      "metadata": {
        "id": "Q-0fVDhF7-yv"
      },
      "source": [
        "Размеры массивов можно менять:"
      ]
    },
    {
      "cell_type": "code",
      "source": [
        "temp = np.array([1, 2, 3, 4, 5, 6, 7, 8, 9, 10, 11, 12])\n",
        "temp.reshape(3, -1)"
      ],
      "metadata": {
        "id": "bsVMCTBRQyT_",
        "outputId": "6cd582f8-aeb7-403a-c5eb-b878866f307e",
        "colab": {
          "base_uri": "https://localhost:8080/"
        }
      },
      "execution_count": 50,
      "outputs": [
        {
          "output_type": "execute_result",
          "data": {
            "text/plain": [
              "array([[ 1,  2,  3,  4],\n",
              "       [ 5,  6,  7,  8],\n",
              "       [ 9, 10, 11, 12]])"
            ]
          },
          "metadata": {},
          "execution_count": 50
        }
      ]
    },
    {
      "cell_type": "code",
      "metadata": {
        "id": "j1b8plR57-yv",
        "outputId": "751ce7ae-1b69-4ac3-fff7-fb7e90e68906",
        "colab": {
          "base_uri": "https://localhost:8080/"
        }
      },
      "source": [
        "vec.reshape(2, 3)"
      ],
      "execution_count": 48,
      "outputs": [
        {
          "output_type": "execute_result",
          "data": {
            "text/plain": [
              "array([[1, 2, 3],\n",
              "       [4, 5, 6]])"
            ]
          },
          "metadata": {},
          "execution_count": 48
        }
      ]
    },
    {
      "cell_type": "code",
      "metadata": {
        "id": "1scsJdTo7-yv",
        "outputId": "79396760-726e-417d-8cab-9f27b252f61c",
        "colab": {
          "base_uri": "https://localhost:8080/"
        }
      },
      "source": [
        "vec.reshape(-1, 3)"
      ],
      "execution_count": null,
      "outputs": [
        {
          "output_type": "execute_result",
          "data": {
            "text/plain": [
              "array([[1, 2, 3],\n",
              "       [4, 5, 6]])"
            ]
          },
          "metadata": {
            "tags": []
          },
          "execution_count": 18
        }
      ]
    },
    {
      "cell_type": "code",
      "metadata": {
        "id": "GkL6nNLr7-yw",
        "outputId": "e1a7b953-1cf6-4525-8f69-2e8e35286254",
        "colab": {
          "base_uri": "https://localhost:8080/"
        }
      },
      "source": [
        "vec.reshape(1, -1)"
      ],
      "execution_count": null,
      "outputs": [
        {
          "output_type": "execute_result",
          "data": {
            "text/plain": [
              "array([[1, 2, 3, 4, 5, 6]])"
            ]
          },
          "metadata": {},
          "execution_count": 36
        }
      ]
    },
    {
      "cell_type": "code",
      "source": [
        "vec"
      ],
      "metadata": {
        "id": "mKVyHR_ltLFD",
        "outputId": "144d93a5-77da-452b-a48f-64b2d11d8a1d",
        "colab": {
          "base_uri": "https://localhost:8080/"
        }
      },
      "execution_count": null,
      "outputs": [
        {
          "output_type": "execute_result",
          "data": {
            "text/plain": [
              "array([[1, 2],\n",
              "       [3, 4],\n",
              "       [5, 6]])"
            ]
          },
          "metadata": {},
          "execution_count": 37
        }
      ]
    },
    {
      "cell_type": "markdown",
      "metadata": {
        "id": "qsx4Oz4V7-yw"
      },
      "source": [
        "Индексирование:"
      ]
    },
    {
      "cell_type": "code",
      "metadata": {
        "id": "2hTcGYbK7-yw",
        "outputId": "c0024a44-2461-46ef-b271-5416ae9ec5c2",
        "colab": {
          "base_uri": "https://localhost:8080/"
        }
      },
      "source": [
        "vec[1:10:2, 1]"
      ],
      "execution_count": 51,
      "outputs": [
        {
          "output_type": "execute_result",
          "data": {
            "text/plain": [
              "array([4])"
            ]
          },
          "metadata": {},
          "execution_count": 51
        }
      ]
    },
    {
      "cell_type": "code",
      "metadata": {
        "id": "nE8Gi4Wr7-yw",
        "outputId": "3d9db25d-18bb-4bd5-a573-8116ad18ec77",
        "colab": {
          "base_uri": "https://localhost:8080/"
        }
      },
      "source": [
        "vec[:, :]"
      ],
      "execution_count": null,
      "outputs": [
        {
          "output_type": "execute_result",
          "data": {
            "text/plain": [
              "array([[1, 2],\n",
              "       [3, 4],\n",
              "       [5, 6]])"
            ]
          },
          "metadata": {},
          "execution_count": 49
        }
      ]
    },
    {
      "cell_type": "code",
      "metadata": {
        "id": "-NJ_zSoi7-yw",
        "outputId": "e16c06c9-8557-4158-8d89-e153f44f4fdd",
        "colab": {
          "base_uri": "https://localhost:8080/"
        }
      },
      "source": [
        "vec[1:2, 0]"
      ],
      "execution_count": null,
      "outputs": [
        {
          "output_type": "execute_result",
          "data": {
            "text/plain": [
              "array([3])"
            ]
          },
          "metadata": {},
          "execution_count": 50
        }
      ]
    },
    {
      "cell_type": "code",
      "metadata": {
        "id": "pl0RIFmU7-yx",
        "outputId": "579c2893-e32d-44e7-fb70-3f54e6d842d0",
        "colab": {
          "base_uri": "https://localhost:8080/"
        }
      },
      "source": [
        "vec[::2, :]"
      ],
      "execution_count": null,
      "outputs": [
        {
          "output_type": "execute_result",
          "data": {
            "text/plain": [
              "array([[1, 2],\n",
              "       [5, 6]])"
            ]
          },
          "metadata": {},
          "execution_count": 53
        }
      ]
    },
    {
      "cell_type": "code",
      "source": [
        "vec"
      ],
      "metadata": {
        "id": "MKTt9yOrumSQ",
        "outputId": "57a22909-0167-4b85-bb31-9b32f10ce888",
        "colab": {
          "base_uri": "https://localhost:8080/"
        }
      },
      "execution_count": null,
      "outputs": [
        {
          "output_type": "execute_result",
          "data": {
            "text/plain": [
              "array([[1, 2],\n",
              "       [3, 4],\n",
              "       [5, 6]])"
            ]
          },
          "metadata": {},
          "execution_count": 61
        }
      ]
    },
    {
      "cell_type": "code",
      "source": [
        "vec[::-2, 1]"
      ],
      "metadata": {
        "id": "u_7t1SoIuZR6",
        "outputId": "524bbc4c-d2f6-4865-922f-d384371e1ac5",
        "colab": {
          "base_uri": "https://localhost:8080/"
        }
      },
      "execution_count": 52,
      "outputs": [
        {
          "output_type": "execute_result",
          "data": {
            "text/plain": [
              "array([6, 2])"
            ]
          },
          "metadata": {},
          "execution_count": 52
        }
      ]
    },
    {
      "cell_type": "markdown",
      "metadata": {
        "id": "eNJlZbMv7-yx"
      },
      "source": [
        "Булевы массивы:"
      ]
    },
    {
      "cell_type": "code",
      "source": [
        "vec"
      ],
      "metadata": {
        "id": "SpFSY85rRN9O",
        "outputId": "04386a93-44cf-4852-dc59-fbca1cc44495",
        "colab": {
          "base_uri": "https://localhost:8080/"
        }
      },
      "execution_count": 54,
      "outputs": [
        {
          "output_type": "execute_result",
          "data": {
            "text/plain": [
              "array([[1, 2],\n",
              "       [3, 4],\n",
              "       [5, 6]])"
            ]
          },
          "metadata": {},
          "execution_count": 54
        }
      ]
    },
    {
      "cell_type": "code",
      "metadata": {
        "id": "jfxRsh6B7-yx",
        "outputId": "ed482f8b-843f-4cf7-cdcb-ec303320606d",
        "colab": {
          "base_uri": "https://localhost:8080/"
        }
      },
      "source": [
        "is_even = (vec % 2 == 0)\n",
        "print(is_even)\n",
        "type(is_even)"
      ],
      "execution_count": 53,
      "outputs": [
        {
          "output_type": "stream",
          "name": "stdout",
          "text": [
            "[[False  True]\n",
            " [False  True]\n",
            " [False  True]]\n"
          ]
        },
        {
          "output_type": "execute_result",
          "data": {
            "text/plain": [
              "numpy.ndarray"
            ]
          },
          "metadata": {},
          "execution_count": 53
        }
      ]
    },
    {
      "cell_type": "code",
      "metadata": {
        "id": "TP1mxAnH7-yx",
        "outputId": "0dfbf228-d686-439f-9d7b-d945d07d8c26",
        "colab": {
          "base_uri": "https://localhost:8080/"
        }
      },
      "source": [
        "np.sum(is_even)"
      ],
      "execution_count": null,
      "outputs": [
        {
          "output_type": "execute_result",
          "data": {
            "text/plain": [
              "3"
            ]
          },
          "metadata": {},
          "execution_count": 67
        }
      ]
    },
    {
      "cell_type": "markdown",
      "metadata": {
        "id": "ETYlyumH7-yx"
      },
      "source": [
        "Булевы массивы позволяют вытаскивать элементы с True из массива того-же размера"
      ]
    },
    {
      "cell_type": "code",
      "metadata": {
        "id": "httdRn4S7-yx",
        "outputId": "fd86574a-b9c2-4ae2-f37e-fc0443cd9e35",
        "colab": {
          "base_uri": "https://localhost:8080/"
        }
      },
      "source": [
        "vec[is_even == True]"
      ],
      "execution_count": 55,
      "outputs": [
        {
          "output_type": "execute_result",
          "data": {
            "text/plain": [
              "array([2, 4, 6])"
            ]
          },
          "metadata": {},
          "execution_count": 55
        }
      ]
    },
    {
      "cell_type": "markdown",
      "metadata": {
        "id": "-4uHpAr87-yy"
      },
      "source": [
        "Иногда бывает полезно создавать специфичные массивы. Массив из нулей:"
      ]
    },
    {
      "cell_type": "code",
      "metadata": {
        "id": "EPSHOv8T7-yy",
        "outputId": "9c616edb-9f52-4d36-9689-92b4d4808c4e",
        "colab": {
          "base_uri": "https://localhost:8080/"
        }
      },
      "source": [
        "np.zeros((2, 3))"
      ],
      "execution_count": 56,
      "outputs": [
        {
          "output_type": "execute_result",
          "data": {
            "text/plain": [
              "array([[0., 0., 0.],\n",
              "       [0., 0., 0.]])"
            ]
          },
          "metadata": {},
          "execution_count": 56
        }
      ]
    },
    {
      "cell_type": "markdown",
      "metadata": {
        "id": "rO8eRf6W7-yy"
      },
      "source": [
        "Массив из единиц:"
      ]
    },
    {
      "cell_type": "code",
      "metadata": {
        "id": "aQ30KFBl7-yy",
        "outputId": "3a3df61f-0e69-4ebf-b618-90c9291a3f4e",
        "colab": {
          "base_uri": "https://localhost:8080/"
        }
      },
      "source": [
        "np.ones((3, 2))"
      ],
      "execution_count": 57,
      "outputs": [
        {
          "output_type": "execute_result",
          "data": {
            "text/plain": [
              "array([[1., 1.],\n",
              "       [1., 1.],\n",
              "       [1., 1.]])"
            ]
          },
          "metadata": {},
          "execution_count": 57
        }
      ]
    },
    {
      "cell_type": "markdown",
      "metadata": {
        "id": "xfjNjH3z7-yy"
      },
      "source": [
        "Единичная матрица:"
      ]
    },
    {
      "cell_type": "code",
      "metadata": {
        "id": "Mj1j_J0i7-yy",
        "outputId": "32ade8f9-95ff-47d3-b566-0bea97bb5a92",
        "colab": {
          "base_uri": "https://localhost:8080/"
        }
      },
      "source": [
        "np.identity(5)"
      ],
      "execution_count": 58,
      "outputs": [
        {
          "output_type": "execute_result",
          "data": {
            "text/plain": [
              "array([[1., 0., 0., 0., 0.],\n",
              "       [0., 1., 0., 0., 0.],\n",
              "       [0., 0., 1., 0., 0.],\n",
              "       [0., 0., 0., 1., 0.],\n",
              "       [0., 0., 0., 0., 1.]])"
            ]
          },
          "metadata": {},
          "execution_count": 58
        }
      ]
    },
    {
      "cell_type": "markdown",
      "metadata": {
        "id": "RPPPPHtO7-yz"
      },
      "source": [
        "Массивы можно объединять:"
      ]
    },
    {
      "cell_type": "code",
      "metadata": {
        "id": "HgBcViGb7-yz",
        "outputId": "90111de5-c1ad-4926-f118-6c69f0557942",
        "colab": {
          "base_uri": "https://localhost:8080/"
        }
      },
      "source": [
        "vec"
      ],
      "execution_count": null,
      "outputs": [
        {
          "output_type": "execute_result",
          "data": {
            "text/plain": [
              "array([[1, 2],\n",
              "       [3, 4],\n",
              "       [5, 6]])"
            ]
          },
          "metadata": {
            "tags": []
          },
          "execution_count": 170
        }
      ]
    },
    {
      "cell_type": "code",
      "metadata": {
        "id": "lHe4euuK7-yz",
        "outputId": "8cf56013-d952-40c1-be61-b77177b22daa",
        "colab": {
          "base_uri": "https://localhost:8080/"
        }
      },
      "source": [
        "np.hstack((vec, np.zeros((3, 5))))"
      ],
      "execution_count": 60,
      "outputs": [
        {
          "output_type": "execute_result",
          "data": {
            "text/plain": [
              "array([[1., 2., 0., 0., 0., 0., 0.],\n",
              "       [3., 4., 0., 0., 0., 0., 0.],\n",
              "       [5., 6., 0., 0., 0., 0., 0.]])"
            ]
          },
          "metadata": {},
          "execution_count": 60
        }
      ]
    },
    {
      "cell_type": "code",
      "metadata": {
        "id": "emtOcy0f7-yz",
        "outputId": "75efec37-7b57-4e62-ef87-6a91b42320f7",
        "colab": {
          "base_uri": "https://localhost:8080/"
        }
      },
      "source": [
        "np.vstack((vec, np.zeros((7, 2))))"
      ],
      "execution_count": 62,
      "outputs": [
        {
          "output_type": "execute_result",
          "data": {
            "text/plain": [
              "array([[1., 2.],\n",
              "       [3., 4.],\n",
              "       [5., 6.],\n",
              "       [0., 0.],\n",
              "       [0., 0.],\n",
              "       [0., 0.],\n",
              "       [0., 0.],\n",
              "       [0., 0.],\n",
              "       [0., 0.],\n",
              "       [0., 0.]])"
            ]
          },
          "metadata": {},
          "execution_count": 62
        }
      ]
    },
    {
      "cell_type": "markdown",
      "metadata": {
        "id": "vahTh3Sn7-yz"
      },
      "source": [
        "И, наконец - арифметические операции!"
      ]
    },
    {
      "cell_type": "code",
      "metadata": {
        "id": "glfNhIaI7-y0",
        "outputId": "763510d3-443d-4855-e68a-957e722b17c5",
        "colab": {
          "base_uri": "https://localhost:8080/"
        }
      },
      "source": [
        "vec + 1"
      ],
      "execution_count": null,
      "outputs": [
        {
          "output_type": "execute_result",
          "data": {
            "text/plain": [
              "array([[2, 3],\n",
              "       [4, 5],\n",
              "       [6, 7]])"
            ]
          },
          "metadata": {},
          "execution_count": 78
        }
      ]
    },
    {
      "cell_type": "code",
      "metadata": {
        "id": "QqtSJ51s7-y0",
        "outputId": "cf47aad9-a8ae-4b58-9e16-a9049dc47049",
        "colab": {
          "base_uri": "https://localhost:8080/"
        }
      },
      "source": [
        "vec * 2"
      ],
      "execution_count": null,
      "outputs": [
        {
          "output_type": "execute_result",
          "data": {
            "text/plain": [
              "array([[ 2,  4],\n",
              "       [ 6,  8],\n",
              "       [10, 12]])"
            ]
          },
          "metadata": {},
          "execution_count": 79
        }
      ]
    },
    {
      "cell_type": "code",
      "metadata": {
        "id": "-oCUFPHF7-y0",
        "outputId": "b199655a-925b-43eb-e2b4-eb784fa0ccd5",
        "colab": {
          "base_uri": "https://localhost:8080/"
        }
      },
      "source": [
        "vec ** 2"
      ],
      "execution_count": null,
      "outputs": [
        {
          "output_type": "execute_result",
          "data": {
            "text/plain": [
              "array([[ 1,  4],\n",
              "       [ 9, 16],\n",
              "       [25, 36]])"
            ]
          },
          "metadata": {},
          "execution_count": 80
        }
      ]
    },
    {
      "cell_type": "code",
      "source": [
        "vec"
      ],
      "metadata": {
        "id": "9tMOtv3gwFEi",
        "outputId": "f639df39-7c39-436b-847c-ce558b388333",
        "colab": {
          "base_uri": "https://localhost:8080/"
        }
      },
      "execution_count": null,
      "outputs": [
        {
          "output_type": "execute_result",
          "data": {
            "text/plain": [
              "array([[1, 2],\n",
              "       [3, 4],\n",
              "       [5, 6]])"
            ]
          },
          "metadata": {},
          "execution_count": 82
        }
      ]
    },
    {
      "cell_type": "code",
      "metadata": {
        "id": "GayHKKEa7-y0",
        "outputId": "42c666d0-466c-4a1d-b0ed-5f69c4b0a6a4",
        "colab": {
          "base_uri": "https://localhost:8080/"
        }
      },
      "source": [
        "vec + vec ** 2"
      ],
      "execution_count": null,
      "outputs": [
        {
          "output_type": "execute_result",
          "data": {
            "text/plain": [
              "array([[ 2,  6],\n",
              "       [12, 20],\n",
              "       [30, 42]])"
            ]
          },
          "metadata": {},
          "execution_count": 81
        }
      ]
    },
    {
      "cell_type": "code",
      "source": [
        "vec ** 3"
      ],
      "metadata": {
        "id": "BQZRPyYnwO0n",
        "outputId": "fa753644-54e7-4b06-ea43-fda7b6d8316c",
        "colab": {
          "base_uri": "https://localhost:8080/"
        }
      },
      "execution_count": null,
      "outputs": [
        {
          "output_type": "execute_result",
          "data": {
            "text/plain": [
              "array([[  1,   8],\n",
              "       [ 27,  64],\n",
              "       [125, 216]])"
            ]
          },
          "metadata": {},
          "execution_count": 85
        }
      ]
    },
    {
      "cell_type": "code",
      "source": [
        "vec * np.zeros((3, 2))"
      ],
      "metadata": {
        "id": "rJVA6HF8SHC6",
        "outputId": "9e2f2c81-c7e5-4323-c493-9993bfc9a3a8",
        "colab": {
          "base_uri": "https://localhost:8080/"
        }
      },
      "execution_count": 65,
      "outputs": [
        {
          "output_type": "execute_result",
          "data": {
            "text/plain": [
              "array([[0., 0.],\n",
              "       [0., 0.],\n",
              "       [0., 0.]])"
            ]
          },
          "metadata": {},
          "execution_count": 65
        }
      ]
    },
    {
      "cell_type": "code",
      "metadata": {
        "id": "4SBQ4XWT7-y1",
        "outputId": "224d368e-18fd-4c05-bf73-ab1d7da035d5",
        "colab": {
          "base_uri": "https://localhost:8080/"
        }
      },
      "source": [
        "vec * vec ** 2"
      ],
      "execution_count": 67,
      "outputs": [
        {
          "output_type": "execute_result",
          "data": {
            "text/plain": [
              "array([[  1,   8],\n",
              "       [ 27,  64],\n",
              "       [125, 216]])"
            ]
          },
          "metadata": {},
          "execution_count": 67
        }
      ]
    },
    {
      "cell_type": "code",
      "metadata": {
        "id": "orbUJ7Na7-y1",
        "outputId": "b643e632-28f1-4ad5-ee21-d0349dd2fde0",
        "colab": {
          "base_uri": "https://localhost:8080/"
        }
      },
      "source": [
        "np.sin(vec)"
      ],
      "execution_count": 66,
      "outputs": [
        {
          "output_type": "execute_result",
          "data": {
            "text/plain": [
              "array([[ 0.84147098,  0.90929743],\n",
              "       [ 0.14112001, -0.7568025 ],\n",
              "       [-0.95892427, -0.2794155 ]])"
            ]
          },
          "metadata": {},
          "execution_count": 66
        }
      ]
    },
    {
      "cell_type": "markdown",
      "metadata": {
        "id": "tztnHU3q7-y2"
      },
      "source": [
        "Матричное умножение:"
      ]
    },
    {
      "cell_type": "code",
      "metadata": {
        "id": "cpTJWzeX7-y2",
        "outputId": "5ff571a9-30d5-497c-f2dc-32e234f400e9",
        "colab": {
          "base_uri": "https://localhost:8080/",
          "height": 165
        }
      },
      "source": [
        "vec.dot(vec)"
      ],
      "execution_count": 70,
      "outputs": [
        {
          "output_type": "error",
          "ename": "ValueError",
          "evalue": "ignored",
          "traceback": [
            "\u001b[1;31m---------------------------------------------------------------------------\u001b[0m",
            "\u001b[1;31mValueError\u001b[0m                                Traceback (most recent call last)",
            "\u001b[1;32mC:\\Temp/ipykernel_11280/4272404710.py\u001b[0m in \u001b[0;36m<module>\u001b[1;34m\u001b[0m\n\u001b[1;32m----> 1\u001b[1;33m \u001b[0mvec\u001b[0m\u001b[1;33m.\u001b[0m\u001b[0mdot\u001b[0m\u001b[1;33m(\u001b[0m\u001b[0mvec\u001b[0m\u001b[1;33m)\u001b[0m\u001b[1;33m\u001b[0m\u001b[1;33m\u001b[0m\u001b[0m\n\u001b[0m",
            "\u001b[1;31mValueError\u001b[0m: shapes (3,2) and (3,2) not aligned: 2 (dim 1) != 3 (dim 0)"
          ]
        }
      ]
    },
    {
      "cell_type": "code",
      "metadata": {
        "id": "OyCjI5jXZe79",
        "outputId": "4c9c92e9-b3ae-4c4c-d3e7-d7cb64d6602b",
        "colab": {
          "base_uri": "https://localhost:8080/"
        }
      },
      "source": [
        "vec.dot(vec.T)"
      ],
      "execution_count": 69,
      "outputs": [
        {
          "output_type": "execute_result",
          "data": {
            "text/plain": [
              "array([[ 5, 11, 17],\n",
              "       [11, 25, 39],\n",
              "       [17, 39, 61]])"
            ]
          },
          "metadata": {},
          "execution_count": 69
        }
      ]
    },
    {
      "cell_type": "code",
      "metadata": {
        "id": "R5BtogAe7-y2",
        "outputId": "e085f7d4-79ef-4a81-e5f2-a0481f5fe62c",
        "colab": {
          "base_uri": "https://localhost:8080/"
        }
      },
      "source": [
        "vec.dot((vec ** 2).T)"
      ],
      "execution_count": 71,
      "outputs": [
        {
          "output_type": "execute_result",
          "data": {
            "text/plain": [
              "array([[  9,  41,  97],\n",
              "       [ 19,  91, 219],\n",
              "       [ 29, 141, 341]])"
            ]
          },
          "metadata": {},
          "execution_count": 71
        }
      ]
    },
    {
      "cell_type": "code",
      "metadata": {
        "id": "7yDhLX4Z7-y2",
        "outputId": "d631749f-7180-4c45-8d27-d667f67799e5",
        "colab": {
          "base_uri": "https://localhost:8080/"
        }
      },
      "source": [
        "vec @ (vec ** 2).T"
      ],
      "execution_count": 72,
      "outputs": [
        {
          "output_type": "execute_result",
          "data": {
            "text/plain": [
              "array([[  9,  41,  97],\n",
              "       [ 19,  91, 219],\n",
              "       [ 29, 141, 341]])"
            ]
          },
          "metadata": {},
          "execution_count": 72
        }
      ]
    },
    {
      "cell_type": "markdown",
      "metadata": {
        "id": "aUCHQnPp7-y3"
      },
      "source": [
        "Broadcasting:\n",
        "https://docs.scipy.org/doc/numpy-1.15.0/user/basics.broadcasting.html"
      ]
    },
    {
      "cell_type": "code",
      "source": [
        "np.ones((2,))"
      ],
      "metadata": {
        "id": "_eljC_osxmvh",
        "outputId": "b9bf146d-1e3a-4d10-9910-ebfb36aa4925",
        "colab": {
          "base_uri": "https://localhost:8080/"
        }
      },
      "execution_count": 73,
      "outputs": [
        {
          "output_type": "execute_result",
          "data": {
            "text/plain": [
              "array([1., 1.])"
            ]
          },
          "metadata": {},
          "execution_count": 73
        }
      ]
    },
    {
      "cell_type": "code",
      "source": [
        "np.zeros((2, 2)) * np.ones((2,))"
      ],
      "metadata": {
        "id": "16OYTTTlw7Py",
        "outputId": "4744e9cc-2acf-4ecd-a359-33734cfe6715",
        "colab": {
          "base_uri": "https://localhost:8080/"
        }
      },
      "execution_count": 74,
      "outputs": [
        {
          "output_type": "execute_result",
          "data": {
            "text/plain": [
              "array([[0., 0.],\n",
              "       [0., 0.]])"
            ]
          },
          "metadata": {},
          "execution_count": 74
        }
      ]
    },
    {
      "cell_type": "code",
      "metadata": {
        "id": "KwRPdNLC7-y3",
        "outputId": "f520ef54-7c67-4eb6-da14-0097ff22c97b",
        "colab": {
          "base_uri": "https://localhost:8080/"
        }
      },
      "source": [
        "vec"
      ],
      "execution_count": 75,
      "outputs": [
        {
          "output_type": "execute_result",
          "data": {
            "text/plain": [
              "array([[1, 2],\n",
              "       [3, 4],\n",
              "       [5, 6]])"
            ]
          },
          "metadata": {},
          "execution_count": 75
        }
      ]
    },
    {
      "cell_type": "code",
      "metadata": {
        "id": "G6ciNKoM7-y3",
        "outputId": "9a64e447-5b12-42d1-bd1d-ecc270940d08",
        "colab": {
          "base_uri": "https://localhost:8080/"
        }
      },
      "source": [
        "np.arange(3).reshape(3, 1)"
      ],
      "execution_count": 77,
      "outputs": [
        {
          "output_type": "execute_result",
          "data": {
            "text/plain": [
              "array([0, 1, 2, 3, 4, 5, 6, 7, 8, 9])"
            ]
          },
          "metadata": {},
          "execution_count": 77
        }
      ]
    },
    {
      "cell_type": "code",
      "metadata": {
        "id": "cZVUe6sb7-y3",
        "outputId": "6dcf513c-42b8-4c3e-d51c-6bcd37c48e47",
        "colab": {
          "base_uri": "https://localhost:8080/"
        }
      },
      "source": [
        "vec + np.arange(3).reshape(3, 1)"
      ],
      "execution_count": null,
      "outputs": [
        {
          "output_type": "execute_result",
          "data": {
            "text/plain": [
              "array([[1, 2],\n",
              "       [4, 5],\n",
              "       [7, 8]])"
            ]
          },
          "metadata": {
            "tags": []
          },
          "execution_count": 58
        }
      ]
    },
    {
      "cell_type": "markdown",
      "metadata": {
        "id": "QA2yOm7o7-y3"
      },
      "source": [
        "Генерация случайных чисел:"
      ]
    },
    {
      "cell_type": "code",
      "metadata": {
        "id": "yeIavPV07-y3",
        "outputId": "150cd04f-1479-49d0-c70c-dda8b0809f7a",
        "colab": {
          "base_uri": "https://localhost:8080/"
        }
      },
      "source": [
        "np.random.rand(2, 3)"
      ],
      "execution_count": null,
      "outputs": [
        {
          "output_type": "execute_result",
          "data": {
            "text/plain": [
              "array([[0.00422451, 0.39796618, 0.17185922],\n",
              "       [0.96079367, 0.529853  , 0.30382593]])"
            ]
          },
          "metadata": {
            "tags": []
          },
          "execution_count": 128
        }
      ]
    },
    {
      "cell_type": "code",
      "metadata": {
        "id": "oOMzXrmQ7-y4",
        "outputId": "01205f3a-97ba-49ae-e125-d3b9d464e666",
        "colab": {
          "base_uri": "https://localhost:8080/"
        }
      },
      "source": [
        "np.random.seed(2018)\n",
        "np.random.rand(2, 3)"
      ],
      "execution_count": null,
      "outputs": [
        {
          "output_type": "execute_result",
          "data": {
            "text/plain": [
              "array([[0.88234931, 0.10432774, 0.90700933],\n",
              "       [0.3063989 , 0.44640887, 0.58998539]])"
            ]
          },
          "metadata": {
            "tags": []
          },
          "execution_count": 135
        }
      ]
    },
    {
      "cell_type": "code",
      "metadata": {
        "id": "nEGOn71GQRiU",
        "outputId": "cea83a1f-c35a-4de4-9868-7c10c0119598",
        "colab": {
          "base_uri": "https://localhost:8080/"
        }
      },
      "source": [
        "np.random.seed(2018)\n",
        "np.random.rand(2, 3)"
      ],
      "execution_count": null,
      "outputs": [
        {
          "output_type": "execute_result",
          "data": {
            "text/plain": [
              "array([[0.88234931, 0.10432774, 0.90700933],\n",
              "       [0.3063989 , 0.44640887, 0.58998539]])"
            ]
          },
          "metadata": {
            "tags": []
          },
          "execution_count": 140
        }
      ]
    },
    {
      "cell_type": "code",
      "metadata": {
        "id": "ytXH7AL47-y4",
        "outputId": "71183c19-11ae-4605-a248-d69297331da4",
        "colab": {
          "base_uri": "https://localhost:8080/"
        }
      },
      "source": [
        "np.random.randn(3, 2)"
      ],
      "execution_count": null,
      "outputs": [
        {
          "output_type": "execute_result",
          "data": {
            "text/plain": [
              "array([[ 0.57376143,  0.28772767],\n",
              "       [-0.23563426,  0.95349024],\n",
              "       [-1.6896253 , -0.34494271]])"
            ]
          },
          "metadata": {
            "tags": []
          },
          "execution_count": 130
        }
      ]
    },
    {
      "cell_type": "code",
      "metadata": {
        "id": "xoZXnxJ47-y4",
        "outputId": "0b0153e7-ffa8-4013-9225-eb2bce2e2fd7",
        "colab": {
          "base_uri": "https://localhost:8080/"
        }
      },
      "source": [
        "np.random.normal(2, 1, size=3)"
      ],
      "execution_count": null,
      "outputs": [
        {
          "output_type": "execute_result",
          "data": {
            "text/plain": [
              "array([2.50227689, 2.8560293 , 1.85720992])"
            ]
          },
          "metadata": {
            "tags": []
          },
          "execution_count": 141
        }
      ]
    },
    {
      "cell_type": "code",
      "metadata": {
        "id": "uupDR9Oi7-y4",
        "outputId": "da04d5ee-9eca-4e32-9d98-af07fdf694a2",
        "colab": {
          "base_uri": "https://localhost:8080/"
        }
      },
      "source": [
        "np.random.randint(5, 10, size=3)"
      ],
      "execution_count": null,
      "outputs": [
        {
          "output_type": "execute_result",
          "data": {
            "text/plain": [
              "array([6, 5, 7])"
            ]
          },
          "metadata": {
            "tags": []
          },
          "execution_count": 142
        }
      ]
    },
    {
      "cell_type": "markdown",
      "metadata": {
        "id": "Atgo7sau7-y4"
      },
      "source": [
        "Почему вообще используют `numpy`?"
      ]
    },
    {
      "cell_type": "code",
      "metadata": {
        "id": "E0XKIKpf7-y5"
      },
      "source": [
        "n = 300\n",
        "A = np.random.rand(n, n)\n",
        "B = np.random.rand(n, n)"
      ],
      "execution_count": 78,
      "outputs": []
    },
    {
      "cell_type": "code",
      "metadata": {
        "id": "ttGMasz97-y5",
        "outputId": "32845096-27a5-4810-c1bc-8c81e5df4525",
        "colab": {
          "base_uri": "https://localhost:8080/"
        }
      },
      "source": [
        "%%time\n",
        "C = np.zeros((n, n))\n",
        "for i in range(n):\n",
        "    for j in range(n):\n",
        "        for k in range(n):\n",
        "            C[i, j] += A[i, k] * B[k, j]"
      ],
      "execution_count": 79,
      "outputs": [
        {
          "output_type": "stream",
          "name": "stdout",
          "text": [
            "Wall time: 12.4 s\n"
          ]
        }
      ]
    },
    {
      "cell_type": "code",
      "metadata": {
        "id": "Ib35cICh7-y5",
        "outputId": "74360cbd-8f42-416c-f0b6-da6004cca11e",
        "colab": {
          "base_uri": "https://localhost:8080/"
        }
      },
      "source": [
        "%%time\n",
        "C = A @ B"
      ],
      "execution_count": 80,
      "outputs": [
        {
          "output_type": "stream",
          "name": "stdout",
          "text": [
            "Wall time: 3.98 ms\n"
          ]
        }
      ]
    },
    {
      "cell_type": "markdown",
      "metadata": {
        "id": "gpGfkYB07-y5"
      },
      "source": [
        "### Задания для самостоятельного решения"
      ]
    },
    {
      "cell_type": "markdown",
      "metadata": {
        "id": "3zWhr_RN7-y5"
      },
      "source": [
        "1. Развернуть одномерный массив (сделать так, чтобы его элементы шли в обратном порядке).\n",
        "2. Найти максимальный нечетный элемент в массиве.\n",
        "3. Замените все нечетные элементы массива на ваше любимое число.\n",
        "4. Создайте массив первых n нечетных чисел, записанных в порядке убывания. Например, если `n=5`, то ответом будет `array([9, 7, 5, 3, 1])`. *Функции, которые могут пригодиться при решении: `.arange()`*\n",
        "5. Вычислите самое близкое и самое дальнее числа к данному в рассматриваемом массиве чисел. Например, если на вход поступают массив `array([0, 1, 2, 3, 4])` и число 1.33, то ответом будет `(1, 4)`. _Функции, которые могут пригодиться при решении: `.abs()`, `.argmax()`, `.argmin()`_\n",
        "6. Вычисляющую первообразную заданного полинома (в качестве константы возьмите ваше любимое число). Например, если на вход поступает массив коэффициентов `array([4, 6, 0, 1])`, что соответствует полиному $4x^3 + 6x^2 + 1$, на выходе получается массив коэффициентов `array([1, 2, 0, 1, -2])`, соответствующий полиному $x^4 + 2x^3 + x - 2$. _Функции, которые могут пригодиться при решении: `.append()`_\n",
        "7. Пользуясь пунктом 6, посчитайте первую производную для заданного полинома в заданной точке."
      ]
    },
    {
      "cell_type": "code",
      "metadata": {
        "id": "eoU8CH9W7-y6"
      },
      "source": [
        "# ┌(▼▼メ)┘ └(メ▼▼)┐"
      ],
      "execution_count": null,
      "outputs": []
    }
  ]
}