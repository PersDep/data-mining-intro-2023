{
  "cells": [
    {
      "cell_type": "markdown",
      "id": "nearby-anderson",
      "metadata": {
        "id": "nearby-anderson"
      },
      "source": [
        "## Интеллектуальный анализ данных: cеминар 9\n",
        "\n",
        "## Логистическая регрессия и SVM\n",
        "\n",
        "#### План:\n",
        "1. Логистическая регрессия\n",
        "2. SVM\n",
        "3. Ирисы Фишера. Свойства логистической регрессии и SVM\n",
        "4. Логистическая регрессия и SVM на менее приятных данных\n",
        "5. Метрики классификации\n",
        "6. ROC-кривая\n",
        "7. Бонус: вывод логистической регрессии через правдоподобие\n",
        "---"
      ]
    },
    {
      "cell_type": "markdown",
      "id": "34c359b2",
      "metadata": {
        "id": "34c359b2"
      },
      "source": [
        "<b>Вступление:</b>\n",
        "cегодня мы познакомимся с логистической регрессией, узнаем её особенности во время обучения и сравним с SVM. Обобщим задачу оптимизации внутри SVM с целью замены ядровой функции. Так же поговорим про метрики классификации и обсудим как их выбирать "
      ]
    },
    {
      "cell_type": "markdown",
      "id": "intellectual-territory",
      "metadata": {
        "id": "intellectual-territory"
      },
      "source": [
        "### Логистическая регрессия"
      ]
    },
    {
      "cell_type": "markdown",
      "id": "russian-closing",
      "metadata": {
        "id": "russian-closing"
      },
      "source": [
        "Напомним, что мы по-прежнему решаем задачу бинарной классификации, в которой целевая переменная $y$ принимает два значения: -1 и 1. На прошлом семинаре мы обсудили, что эту задачу можно решить при помощи линейного классификатора \n",
        "\n",
        "$$\n",
        "f(x_i, w) = \\mathrm{sign}\\left(\\langle x_i, w \\rangle\\right).\n",
        "$$\n",
        "\n",
        "Функция потерь для такой задачи – это сумма индикаторов того, что предсказание сделано неверно: \n",
        "\n",
        "$$Q(X, w) = \\frac{1}{\\ell}\\sum_{i = 1}^{\\ell}[y_i \\ne \\mathrm{sign}\\left(\\langle x_i, w \\rangle\\right)].$$\n",
        "\n",
        "На лекциях мы обсуждали, что эту идею можно удобно записать через функцию отступа:\n",
        "\n",
        "$$\n",
        "Q(X, w) = \\frac{1}{\\ell}\\sum_{i = 1}^{\\ell}[y_i \\langle x_i, w \\rangle < 0].\n",
        "$$\n",
        "\n",
        "Такую функцию проблематично дифференцировать по $w$, потому что даже в местах, где градиент существует, он равен нулю. Вместо этого будем минимизировать некоторую функцию $\\tilde{Q}(X, w)$, являющуюся верхней оценкой для $Q(X, w)$, и надеяться, что минимизация $\\tilde{Q}(X, w)$ позволит достаточно хорошо минимизировать и $Q(X, w)$.\n",
        "\n",
        "Логистическая регрессия предлагает использовать логистическую функцию потерь:\n",
        "\n",
        "$$\n",
        "\\tilde{Q}(X, w) = \\frac{1}{\\ell}\\sum_{i = 1}^{\\ell}\\log(1 + e^{-y_i \\langle x_i, w \\rangle}) \\rightarrow \\min_w.\n",
        "$$"
      ]
    },
    {
      "cell_type": "code",
      "execution_count": 1,
      "id": "curious-exemption",
      "metadata": {
        "id": "curious-exemption"
      },
      "outputs": [],
      "source": [
        "import itertools\n",
        "\n",
        "import matplotlib.gridspec as gridspec\n",
        "import matplotlib.pyplot as plt\n",
        "import numpy as np\n",
        "import pandas as pd\n",
        "from mlxtend.plotting import plot_decision_regions\n",
        "from sklearn.datasets import load_iris\n",
        "from sklearn.linear_model import LogisticRegression\n",
        "from sklearn.metrics import (accuracy_score, auc, classification_report,\n",
        "                             confusion_matrix, f1_score, roc_curve)\n",
        "from sklearn.model_selection import cross_validate, train_test_split\n",
        "from sklearn.preprocessing import StandardScaler\n",
        "\n",
        "# !pip install mlxtend\n",
        "\n",
        "# В Колабе, возможно\n",
        "# !pip install mlxtend --upgrade"
      ]
    },
    {
      "cell_type": "code",
      "execution_count": 2,
      "id": "catholic-tunnel",
      "metadata": {
        "id": "catholic-tunnel",
        "outputId": "b4ae4264-421e-414a-b9fc-5727c752e015",
        "colab": {
          "base_uri": "https://localhost:8080/",
          "height": 374
        }
      },
      "outputs": [
        {
          "output_type": "display_data",
          "data": {
            "text/plain": [
              "<Figure size 576x432 with 1 Axes>"
            ],
            "image/png": "[encoded data removed]"
          },
          "metadata": {
            "needs_background": "light"
          }
        }
      ],
      "source": [
        "x = np.concatenate((np.linspace(-3, 0, 500), np.linspace(0, 3, 500)))\n",
        "np.random.seed(123)\n",
        "y = np.ones(1000)\n",
        "w = np.ones(1000)\n",
        "M = y * x * w\n",
        "\n",
        "plt.figure(figsize=(8, 6))\n",
        "plt.plot(x * w, x < 0, label=\"$\\tilde{Q}(X, w)$, zero-one loss\")\n",
        "plt.plot(M, np.log2(1 + np.exp(-M)), label=\"$Q'(X, w)$, logistic loss\")\n",
        "plt.grid()\n",
        "plt.legend();"
      ]
    },
    {
      "cell_type": "markdown",
      "id": "positive-memorabilia",
      "metadata": {
        "id": "positive-memorabilia"
      },
      "source": [
        "Для получения классической задачи логистической регрессии остаётся сделать один шаг и немного изменить постановку задачи. Предположим, что мы хотим решать задачу **мягкой** классификации, то есть предсказывать не метку класса, а вероятность того, что наблюдение принадлежит к классу. Понятно, что мы всегда можем перейти от мягкой классификации к жёсткой, выбрав порог принадлежности к положительному классу. "
      ]
    },
    {
      "cell_type": "markdown",
      "id": "useful-springer",
      "metadata": {
        "id": "useful-springer"
      },
      "source": [
        "**Задание 1.** Поясните, почему для решения задачи мягкой классификации классификатор $f(x_i, w) = \\left(\\langle x_i, w \\rangle\\right)$ – не лучший выбор. "
      ]
    },
    {
      "cell_type": "markdown",
      "id": "contained-preparation",
      "metadata": {
        "id": "contained-preparation"
      },
      "source": [
        "**Ответ:**\n",
        "\n",
        "Полученное скалярное произведение необязательно будет лежать в отрезке $[0, 1]$.\n",
        "\n",
        "Мы можем решить названную проблему, подставив $\\left(\\langle x_i, w \\rangle\\right)$ в некоторую функцию, областью значений которой является промежуток от 0 до 1. В логистической регрессии такой функцией выступает **сигмоида**:\n",
        "\n",
        "$$\n",
        "\\sigma(x) = \\dfrac{e^x}{1 + e^x} = \\dfrac{1}{1 + e^{-x}}.\n",
        "$$"
      ]
    },
    {
      "cell_type": "markdown",
      "id": "romantic-yield",
      "metadata": {
        "id": "romantic-yield"
      },
      "source": [
        "**Задание 2.** Сигмоида обаладет замечательнеым свойством, которое значительно упрощает вычисление градиентов при градиентном спуске:\n",
        "\n",
        "$$\n",
        "\\sigma(x)'_x = \\sigma(x)(1 - \\sigma(x)). \n",
        "$$\n",
        "\n",
        "Покажите, что это действительно так.\n",
        "\n",
        "**Решение:**\n",
        "\n",
        "$$\n",
        "\\sigma(x)' = \\frac{e^x(1 + e^x) - e^{2x}}{(1 + e^x)^2} = \\frac{e^x}{1 + e^x}\\frac{1}{1 + e^x} = \\sigma(x)(1-\\sigma(x)).\n",
        "$$"
      ]
    },
    {
      "cell_type": "markdown",
      "id": "reverse-transsexual",
      "metadata": {
        "id": "reverse-transsexual"
      },
      "source": [
        "Путём хитрых математических преобразований можно показать, что при использовании сигмоиды (= при решении задачи мягкой классификации) $\\tilde{Q}(X, w)$ можно записать в следующем виде:\n",
        "\n",
        "$$\n",
        "\\tilde{Q}(X, w) = -\\frac{1}{\\ell} \\sum_{i=1}^{\\ell} [y_i = 1]\\log\\sigma(\\langle x_i, w \\rangle) + [y_i = -1]\\log(1-\\sigma(\\langle x_i, w \\rangle)\n",
        "$$\n",
        "\n",
        "Эта функция называется log-loss или кросс-энтропией между истинной целевой переменной и предсказанными вероятностями.\n",
        "\n",
        "**А почему? А потому:**\n",
        "\n",
        "$$\n",
        "\\tilde{Q}(X, w) = -\\frac{1}{\\ell} \\sum_{i=1}^{\\ell} [y_i = 1]\\log\\sigma(\\langle x_i, w \\rangle) + [y_i = -1]\\log(1-\\sigma(\\langle x_i, w \\rangle) =\\\\\n",
        "$$\n",
        "$$\n",
        "=-\\frac{1}{\\ell} \\sum_{i=1}^{\\ell} [y_i = 1]\\log\\left(\\frac{1}{1 + e^{-\\langle x_i, w\\rangle}}\\right) + [y_i = -1](\\log\\left(1-\\frac{1}{1 + e^{-\\langle x_i, w\\rangle}}\\right)) =\\\\\n",
        "$$\n",
        "$$\n",
        "=-\\frac{1}{\\ell} \\sum_{i=1}^{\\ell} [y_i = 1]\\log\\left(\\frac{1}{1 + e^{-\\langle x_i, w\\rangle}}\\right) + [y_i = -1](\\log\\left(\\frac{1}{1 + e^{\\langle x_i, w\\rangle}}\\right)) =\\\\\n",
        "$$\n",
        "$$\n",
        "=\\frac{1}{\\ell} \\sum_{i=1}^{\\ell} [y_i = 1]\\log(1 + e^{-\\langle x_i, w \\rangle}) + [y_i = -1]\\log(1 + e^{\\langle x_i, w \\rangle}) =\\\\\n",
        "$$\n",
        "$$\n",
        "=\\frac{1}{\\ell} \\sum_{i=1}^{\\ell}\\log(1 + e^{-y_i\\langle x_i, w\\rangle}) = \\tilde{Q}(X, w)\n",
        "$$"
      ]
    },
    {
      "cell_type": "markdown",
      "id": "anticipated-amplifier",
      "metadata": {
        "id": "anticipated-amplifier"
      },
      "source": [
        "Регуляризация вводится таким же образом, как это было в случае линейной регрессии. Например, функция потерь для $\\ell$-$2$ регуляризации выглядит так:\n",
        "\n",
        "$$\n",
        "\\tilde{Q}_{reg}(X, w) = \\tilde{Q}(X, w) + \\frac{1}{2}\\lambda\\|w\\|^2_2.\n",
        "$$"
      ]
    },
    {
      "cell_type": "markdown",
      "id": "lovely-empire",
      "metadata": {
        "id": "lovely-empire"
      },
      "source": [
        "**Саммари по логистической регрессии:**\n",
        "\n",
        "- Данные: $y_i \\in \\{-1, 1\\}$, $X$\n",
        "\n",
        "- Предсказания:\n",
        "\n",
        "    - По умолчанию предсказывает вероятности:\n",
        "    $$\n",
        "    \\hat{p}_i = \\sigma(\\langle x_i, w\\rangle) = \\frac{1}{1 + e^{-\\langle x_i, w\\rangle}}\n",
        "    $$\n",
        "    \n",
        "    - Если хотим перейти к метке, то сравниваем вероятность с порогом $t$:\n",
        "    \n",
        "    $$\n",
        "    \\hat{y}_i = \\begin{cases}\n",
        "    1,&\\text{ если } \\hat{p}_i > t,\\\\\n",
        "    -1,&\\text{ иначе.}\n",
        "    \\end{cases}\n",
        "    $$\n",
        "    \n",
        "- Обучение: \n",
        "\n",
        "$$\n",
        "\\tilde{Q}(X, w) = -\\frac{1}{\\ell} \\sum_{i=1}^{\\ell} [y_i = 1]\\log\\sigma(\\langle x_i, w \\rangle) + [y_i = -1]\\log(1-\\sigma(\\langle x_i, w \\rangle) \\to \\min_w\n",
        "$$"
      ]
    },
    {
      "cell_type": "markdown",
      "id": "cubic-fifty",
      "metadata": {
        "id": "cubic-fifty"
      },
      "source": [
        "### Метод опорных векторов (SVM)"
      ]
    },
    {
      "cell_type": "markdown",
      "id": "separated-superintendent",
      "metadata": {
        "id": "separated-superintendent"
      },
      "source": [
        "Метод опорных векторов – математически строго обоснованный метод, идея которого состоит в максимизации ширины разделяющей полосы между классами. Так как для подробного вывода SVM требуется уверенное владение методами квадратичной оптимизации, мы разберём только идею и практическую реализацию метода. \n",
        "\n",
        "Мы по-прежнему решаем задачу бинарной классификации и используем классификатор $f(x_i, w) = \\mathrm{sign}(\\langle x_i, w\\rangle)$. Предположим, что мы работаем с линейно разделимой выборкой. Определим отступ как минимальное расстояние от точек выборки до разделяющей поверхности классификатора:\n",
        "$$\n",
        "\\rho(x_i, \\langle x, w\\rangle) =  \\min_i\\dfrac{|{\\langle x_i, w\\rangle|}}{\\|w\\|}\n",
        "$$\n",
        "\n",
        "Задача состоит в том, чтобы максимизировать этот отступ:\n",
        "\n",
        "$$\n",
        "\\rho(x_i, \\langle x, w\\rangle) =  \\min_i\\dfrac{|{\\langle x_i, w\\rangle|}}{\\|w\\|} \\to \\max_w.\n",
        "$$\n",
        "\n",
        "Воспользуемся картинкой из Википедии, чтобы лучше понять эту идею:\n",
        "\n",
        "[<img src=\"https://upload.wikimedia.org/wikipedia/commons/thumb/7/72/SVM_margin.png/1920px-SVM_margin.png\" alt=\"drawing\" width=\"400\"/>](https://en.wikipedia.org/wiki/Support-vector_machine#/media/File:SVM_margin.png)\n",
        "\n",
        "Заметим, что при делении весов на положительное число ответы классификатора не меняются (веса просто пропорционально прошкалируются). Поделим все веса на \n",
        "\n",
        "$$\\min_i |\\langle x_i, w\\rangle| > 0.$$ \n",
        "\n",
        "Тогда будет верно, что $\\min_i |\\langle x_i, w\\rangle| = 1$, а значит отступ можно переписать как\n",
        "\n",
        "$$\n",
        "\\rho(\\langle x_i, w\\rangle) = \\frac{1}{\\|w\\|}.\n",
        "$$\n",
        "\n",
        "Получаем задачу SVM в линейно-разделимом случае:\n",
        "\n",
        "$$\n",
        "\\begin{cases}\n",
        "\\|w\\|^2 \\to \\min_{w}, \\\\\n",
        "y_i(\\langle x_i, w\\rangle) \\ge 1, \\\\\n",
        "\\end{cases}\n",
        "$$\n",
        "\n",
        "Если выборка не является линейно-разделимой, то нам придётся позволить линейному классификатору допускать ошибки на некоторых наблюдениях. Тогда задача превращается в поиск оптимального выбора между максимизацией ширины разделяющей полосы и ошибок классификации:\n",
        "\n",
        "$$\n",
        "\\begin{cases}\n",
        "\\|w\\|^2 + C \\sum_{i = 1}^{\\ell} \\xi_i \\to \\min_{w, \\xi_i}, \\\\\n",
        "y_i(\\langle x_i, w\\rangle) \\ge 1 - \\xi_i, \\\\\n",
        "\\xi_i \\ge 0\n",
        "\\end{cases}\n",
        "$$\n",
        "\n",
        "$C$ – параметр, который позволяет регулировать пропорции этого выбора. Чем больше $C$, тем больше штраф за неверную классификацию.\n",
        "\n",
        "[<img src=\"https://miro.medium.com/max/1400/1*0vOVPBmYCkw-sUt77HtyGA.png\" alt=\"drawing\" width=\"800\"/>](https://towardsdatascience.com/support-vector-machine-simply-explained-fee28eba5496)\n",
        "\n",
        "Путём хитрых математических преобразований (объединив ограничения) можно показать, что итоговая функция потерь SVM выглядит следующим образом:\n",
        "\n",
        "$$\n",
        "Q(X, w) = C\\sum_{i=1}^{l} \\max\\{0, 1 - y_i(\\langle x_i, w\\rangle)\\} + \\|w\\|^2 \\to \\min_w\n",
        "$$"
      ]
    },
    {
      "cell_type": "markdown",
      "id": "technological-cooperation",
      "metadata": {
        "id": "technological-cooperation"
      },
      "source": [
        "### Ирисы Фишера. Свойства логистической регрессии и SVM"
      ]
    },
    {
      "cell_type": "markdown",
      "id": "anonymous-reporter",
      "metadata": {
        "id": "anonymous-reporter"
      },
      "source": [
        "Рассмотрим свойства логистической регрессии и метода опорных векторов на примере классического набора данных [\"Ирисы Фишера\"](https://ru.wikipedia.org/wiki/Ирисы_Фишера). Этот набор состоит из 150 наблюдений, каждое из которых представляет собой четыре измерения: длина наружной доли околоцветника (`sepal length`), ширина наружной доли околоцветника (`sepal width`), длина внутренней доли околоцветника (`petal length`), ширина внутренней доли околоцветника (`petal width`). Каждое наблюдение относится к одному из трёх классов ириса: `setosa`, `versicolor` или `virginica`. Задача состоит в том, чтобы по измерениям предсказать класс цветка. \n",
        "\n",
        "[<img src=\"https://miro.medium.com/v2/resize:fit:1000/1*Hh53mOF4Xy4eORjLilKOwA.png\" alt=\"drawing\" width=\"800\"/>](https://miro.medium.com/max/1000/1*Hh53mOF4Xy4eORjLilKOwA.png)"
      ]
    },
    {
      "cell_type": "code",
      "execution_count": 45,
      "id": "medieval-cowboy",
      "metadata": {
        "id": "medieval-cowboy",
        "outputId": "78975688-ed00-4a8e-e940-963992cbe845",
        "colab": {
          "base_uri": "https://localhost:8080/",
          "height": 206
        }
      },
      "outputs": [
        {
          "output_type": "execute_result",
          "data": {
            "text/plain": [
              "   sepal length (cm)  sepal width (cm)  petal length (cm)  petal width (cm)\n",
              "0                5.1               3.5                1.4               0.2\n",
              "1                4.9               3.0                1.4               0.2\n",
              "2                4.7               3.2                1.3               0.2\n",
              "3                4.6               3.1                1.5               0.2\n",
              "4                5.0               3.6                1.4               0.2"
            ],
            "text/html": [
              "<div>\n",
              "<style scoped>\n",
              "    .dataframe tbody tr th:only-of-type {\n",
              "        vertical-align: middle;\n",
              "    }\n",
              "\n",
              "    .dataframe tbody tr th {\n",
              "        vertical-align: top;\n",
              "    }\n",
              "\n",
              "    .dataframe thead th {\n",
              "        text-align: right;\n",
              "    }\n",
              "</style>\n",
              "<table border=\"1\" class=\"dataframe\">\n",
              "  <thead>\n",
              "    <tr style=\"text-align: right;\">\n",
              "      <th></th>\n",
              "      <th>sepal length (cm)</th>\n",
              "      <th>sepal width (cm)</th>\n",
              "      <th>petal length (cm)</th>\n",
              "      <th>petal width (cm)</th>\n",
              "    </tr>\n",
              "  </thead>\n",
              "  <tbody>\n",
              "    <tr>\n",
              "      <th>0</th>\n",
              "      <td>5.1</td>\n",
              "      <td>3.5</td>\n",
              "      <td>1.4</td>\n",
              "      <td>0.2</td>\n",
              "    </tr>\n",
              "    <tr>\n",
              "      <th>1</th>\n",
              "      <td>4.9</td>\n",
              "      <td>3.0</td>\n",
              "      <td>1.4</td>\n",
              "      <td>0.2</td>\n",
              "    </tr>\n",
              "    <tr>\n",
              "      <th>2</th>\n",
              "      <td>4.7</td>\n",
              "      <td>3.2</td>\n",
              "      <td>1.3</td>\n",
              "      <td>0.2</td>\n",
              "    </tr>\n",
              "    <tr>\n",
              "      <th>3</th>\n",
              "      <td>4.6</td>\n",
              "      <td>3.1</td>\n",
              "      <td>1.5</td>\n",
              "      <td>0.2</td>\n",
              "    </tr>\n",
              "    <tr>\n",
              "      <th>4</th>\n",
              "      <td>5.0</td>\n",
              "      <td>3.6</td>\n",
              "      <td>1.4</td>\n",
              "      <td>0.2</td>\n",
              "    </tr>\n",
              "  </tbody>\n",
              "</table>\n",
              "</div>"
            ]
          },
          "metadata": {},
          "execution_count": 45
        }
      ],
      "source": [
        "data = load_iris()\n",
        "X = pd.DataFrame(data[\"data\"], columns=data[\"feature_names\"])\n",
        "y = data[\"target\"]\n",
        "X.head()"
      ]
    },
    {
      "cell_type": "markdown",
      "id": "conservative-target",
      "metadata": {
        "id": "conservative-target"
      },
      "source": [
        "**Задание 1.** Перейдём к задаче бинарной классификации: будем предсказывать принадлежность цветка к виду `versicolor` против принадлежности ко всем прочим видам. Перекодируйте зависимую переменную так, чтобы цветки вида `versicolor` имели метку 1, а прочих видов – метку -1. "
      ]
    },
    {
      "cell_type": "code",
      "execution_count": 46,
      "id": "signal-stereo",
      "metadata": {
        "id": "signal-stereo",
        "outputId": "8da2defe-29f4-4477-c797-37132fe865a8",
        "colab": {
          "base_uri": "https://localhost:8080/"
        }
      },
      "outputs": [
        {
          "output_type": "execute_result",
          "data": {
            "text/plain": [
              "array([0, 0, 0, 0, 0, 0, 0, 0, 0, 0, 0, 0, 0, 0, 0, 0, 0, 0, 0, 0, 0, 0,\n",
              "       0, 0, 0, 0, 0, 0, 0, 0, 0, 0, 0, 0, 0, 0, 0, 0, 0, 0, 0, 0, 0, 0,\n",
              "       0, 0, 0, 0, 0, 0, 1, 1, 1, 1, 1, 1, 1, 1, 1, 1, 1, 1, 1, 1, 1, 1,\n",
              "       1, 1, 1, 1, 1, 1, 1, 1, 1, 1, 1, 1, 1, 1, 1, 1, 1, 1, 1, 1, 1, 1,\n",
              "       1, 1, 1, 1, 1, 1, 1, 1, 1, 1, 1, 1, 0, 0, 0, 0, 0, 0, 0, 0, 0, 0,\n",
              "       0, 0, 0, 0, 0, 0, 0, 0, 0, 0, 0, 0, 0, 0, 0, 0, 0, 0, 0, 0, 0, 0,\n",
              "       0, 0, 0, 0, 0, 0, 0, 0, 0, 0, 0, 0, 0, 0, 0, 0, 0, 0])"
            ]
          },
          "metadata": {},
          "execution_count": 46
        }
      ],
      "source": [
        "# Перекодировка\n",
        "y_bin = (data[\"target\"] == 1).astype(int)\n",
        "\n",
        "# y_bin[y_bin != 1] = -1\n",
        "\n",
        "y_bin"
      ]
    },
    {
      "cell_type": "markdown",
      "id": "governmental-repository",
      "metadata": {
        "id": "governmental-repository"
      },
      "source": [
        "**Задание 2**. Будем работать с двумя признаками: `sepal length (cm)` и `sepal width (cm)`. Отделите их в отдельную матрицу. Разделите выборку на обучающую и тестовую, долю тестовой выборки укажите равной 0.3. Отмасштабируйте выборки при помощи StandardScaler. Постройте диаграмму рассеяния по тренировочной выборке и убедитесь, что данные линейно не разделимы. "
      ]
    },
    {
      "cell_type": "code",
      "execution_count": 47,
      "id": "ordered-pavilion",
      "metadata": {
        "id": "ordered-pavilion",
        "outputId": "bed20c2b-3102-4c31-a057-e23ca0900ade",
        "colab": {
          "base_uri": "https://localhost:8080/",
          "height": 265
        }
      },
      "outputs": [
        {
          "output_type": "display_data",
          "data": {
            "text/plain": [
              "<Figure size 432x288 with 1 Axes>"
            ],
            "image/png": "[encoded data removed]"
          },
          "metadata": {
            "needs_background": "light"
          }
        }
      ],
      "source": [
        "np.random.seed(123)\n",
        "\n",
        "X = X[[\"sepal length (cm)\", \"sepal width (cm)\"]]\n",
        "\n",
        "X_train, X_test, y_train, y_test = train_test_split(X, y_bin)\n",
        "\n",
        "# Отмасштабируйте признаки\n",
        "ss = StandardScaler()\n",
        "X_train = ss.fit_transform(X_train)\n",
        "X_test = ss.transform(X_test)\n",
        "\n",
        "plt.scatter(X_train[:, 0], X_train[:, 1], c=y_train);"
      ]
    },
    {
      "cell_type": "markdown",
      "id": "divine-lease",
      "metadata": {
        "id": "divine-lease"
      },
      "source": [
        "**Задание 3.** Обучите логистическую регрессию и **SVM с линейным ядром** на тренировочной выборке и убедитесь, что полученные оценки весов действительно различаются. Убедитесь, что `accuracy`, возможно, не подходит в качестве метрики для данной задачи и рассчитайте `f1-меру` на тестовой выборке. Какой алгорим показал более высокое качество?"
      ]
    },
    {
      "cell_type": "code",
      "execution_count": 8,
      "id": "interim-rabbit",
      "metadata": {
        "id": "interim-rabbit"
      },
      "outputs": [],
      "source": [
        "from sklearn.svm import SVC"
      ]
    },
    {
      "cell_type": "code",
      "execution_count": 48,
      "id": "spiritual-definition",
      "metadata": {
        "id": "spiritual-definition",
        "outputId": "a2e4736e-e4ec-41d3-9f92-a462d516b6d0",
        "colab": {
          "base_uri": "https://localhost:8080/"
        }
      },
      "outputs": [
        {
          "output_type": "stream",
          "name": "stdout",
          "text": [
            "              precision    recall  f1-score   support\n",
            "\n",
            "           0       0.87      0.93      0.90        28\n",
            "           1       0.75      0.60      0.67        10\n",
            "\n",
            "    accuracy                           0.84        38\n",
            "   macro avg       0.81      0.76      0.78        38\n",
            "weighted avg       0.84      0.84      0.84        38\n",
            "\n",
            "              precision    recall  f1-score   support\n",
            "\n",
            "           0       0.97      0.94      0.95        31\n",
            "           1       0.75      0.86      0.80         7\n",
            "\n",
            "    accuracy                           0.92        38\n",
            "   macro avg       0.86      0.90      0.88        38\n",
            "weighted avg       0.93      0.92      0.92        38\n",
            "\n",
            "0.8421052631578947\n",
            "0.9210526315789473\n"
          ]
        }
      ],
      "source": [
        "lr = LogisticRegression()\n",
        "svm = SVC(kernel=\"linear\")\n",
        "\n",
        "# Обучите логистическую регрессию и SVM\n",
        "lr.fit(X_train, y_train)\n",
        "svm.fit(X_train, y_train)\n",
        "\n",
        "lr_pred = lr.predict(X_test)\n",
        "svm_pred = svm.predict(X_test)\n",
        "\n",
        "print(classification_report(lr_pred, y_test))\n",
        "print(classification_report(svm_pred, y_test))\n",
        "print(accuracy_score(lr_pred, y_test))\n",
        "print(accuracy_score(svm_pred, y_test))"
      ]
    },
    {
      "cell_type": "markdown",
      "id": "running-stock",
      "metadata": {
        "id": "running-stock"
      },
      "source": [
        "Теперь посмотрим, как различаются решающие поверхности алгоритмов. "
      ]
    },
    {
      "cell_type": "markdown",
      "id": "manufactured-breeding",
      "metadata": {
        "id": "manufactured-breeding"
      },
      "source": [
        "Код ниже построит решающие поверхности для классификаторов. Чтобы он заработал, нужно обязательно сделать `fit` для `lr` и `svm` выше."
      ]
    },
    {
      "cell_type": "code",
      "execution_count": 49,
      "id": "impressive-chamber",
      "metadata": {
        "id": "impressive-chamber",
        "outputId": "b4a8ad8a-306f-4d4a-ec50-2647f479b5cb",
        "colab": {
          "base_uri": "https://localhost:8080/",
          "height": 499
        }
      },
      "outputs": [
        {
          "output_type": "display_data",
          "data": {
            "text/plain": [
              "<Figure size 720x576 with 2 Axes>"
            ],
            "image/png": "[encoded data removed]"
          },
          "metadata": {
            "needs_background": "light"
          }
        }
      ],
      "source": [
        "gs = gridspec.GridSpec(1, 2)\n",
        "\n",
        "fig = plt.figure(figsize=(10, 8))\n",
        "\n",
        "labels = [\"Logistic Regression\", \"SVM\"]\n",
        "for clf, lab, grd in zip([lr, svm], labels, itertools.product([0, 1], repeat=2)):\n",
        "    ax = plt.subplot(gs[grd[0], grd[1]])\n",
        "    fig = plot_decision_regions(\n",
        "        X=np.array(X_train), y=np.array(y_train), clf=clf, legend=2\n",
        "    )\n",
        "    plt.title(lab)\n",
        "\n",
        "plt.show()"
      ]
    },
    {
      "cell_type": "markdown",
      "id": "satellite-vacation",
      "metadata": {
        "id": "satellite-vacation"
      },
      "source": [
        "Теперь изучим свойства каждого классификатора по-отдельности. Начнём с логистической регрессии.\n",
        "\n",
        "**Задание 3.** Обучите три различные логистические регрессии с разным параметром регуляризации $\\alpha$ (обратите внимание, что в реализации `sklearn` $C = 1/\\alpha$). Как изменяется разделяющая поверхность в зависимости от $\\alpha$?"
      ]
    },
    {
      "cell_type": "code",
      "execution_count": 58,
      "id": "proper-accused",
      "metadata": {
        "id": "proper-accused"
      },
      "outputs": [],
      "source": [
        "lr1 = LogisticRegression(C=0.01)\n",
        "lr2 = LogisticRegression(C=0.05)\n",
        "lr3 = LogisticRegression(C=10)"
      ]
    },
    {
      "cell_type": "code",
      "execution_count": 51,
      "id": "thorough-architect",
      "metadata": {
        "id": "thorough-architect",
        "outputId": "36d2d392-75b5-4768-81a2-8b97e73679d7",
        "colab": {
          "base_uri": "https://localhost:8080/",
          "height": 499
        }
      },
      "outputs": [
        {
          "output_type": "display_data",
          "data": {
            "text/plain": [
              "<Figure size 1080x576 with 3 Axes>"
            ],
            "image/png": "[encoded data removed]"
          },
          "metadata": {
            "needs_background": "light"
          }
        }
      ],
      "source": [
        "gs = gridspec.GridSpec(1, 3)\n",
        "\n",
        "fig = plt.figure(figsize=(15, 8))\n",
        "\n",
        "labels = [\"C = 0.01\", \"C = 0.05\", \"C = 10\"]\n",
        "for clf, lab, grd in zip(\n",
        "    [lr1, lr2, lr3], labels, itertools.product([0, 1, 2], repeat=2)\n",
        "):\n",
        "    clf.fit(X_train, y_train)\n",
        "    ax = plt.subplot(gs[grd[0], grd[1]])\n",
        "    fig = plot_decision_regions(X=X_train, y=np.array(y_train), clf=clf, legend=2)\n",
        "    plt.title(lab)\n",
        "\n",
        "plt.show()"
      ]
    },
    {
      "cell_type": "markdown",
      "id": "behind-northern",
      "metadata": {
        "id": "behind-northern"
      },
      "source": [
        "Перейдём к SVM.\n",
        "\n",
        "**Задание 4.** Обучите три SVM с линейным ядром с разным параметром регуляризации $C$. Как изменяется разделяющая поверхность в зависимости от $C$?"
      ]
    },
    {
      "cell_type": "code",
      "execution_count": 59,
      "id": "found-shadow",
      "metadata": {
        "id": "found-shadow"
      },
      "outputs": [],
      "source": [
        "svc1 = SVC(C=0.04, kernel=\"linear\")\n",
        "svc2 = SVC(C=1, kernel=\"linear\")\n",
        "svc3 = SVC(C=10, kernel=\"linear\")"
      ]
    },
    {
      "cell_type": "code",
      "execution_count": 53,
      "id": "imperial-primary",
      "metadata": {
        "id": "imperial-primary",
        "outputId": "0a5190f9-203e-4496-c588-f9d80875b541",
        "colab": {
          "base_uri": "https://localhost:8080/",
          "height": 534
        }
      },
      "outputs": [
        {
          "output_type": "stream",
          "name": "stderr",
          "text": [
            "C:\\Program Files\\Python310\\lib\\site-packages\\mlxtend\\plotting\\decision_regions.py:243: UserWarning: No contour levels were found within the data range.\n",
            "  ax.contour(xx, yy, Z, cset.levels,\n"
          ]
        },
        {
          "output_type": "display_data",
          "data": {
            "text/plain": [
              "<Figure size 1080x576 with 3 Axes>"
            ],
            "image/png": "[encoded data removed]"
          },
          "metadata": {
            "needs_background": "light"
          }
        }
      ],
      "source": [
        "gs = gridspec.GridSpec(1, 3)\n",
        "\n",
        "fig = plt.figure(figsize=(15, 8))\n",
        "\n",
        "labels = [\"C = 0.04\", \"C = 1\", \"C = 10\"]\n",
        "for clf, lab, grd in zip(\n",
        "    [svc1, svc2, svc3], labels, itertools.product([0, 1, 2], repeat=2)\n",
        "):\n",
        "    clf.fit(X_train, y_train)\n",
        "    ax = plt.subplot(gs[grd[0], grd[1]])\n",
        "    fig = plot_decision_regions(X=X_train, y=np.array(y_train), clf=clf, legend=2)\n",
        "    plt.title(lab)\n",
        "\n",
        "plt.show()"
      ]
    },
    {
      "cell_type": "code",
      "source": [
        "svc1.fit(X_train, y_train)\n",
        "svc2.fit(X_train, y_train)\n",
        "svc3.fit(X_train, y_train)"
      ],
      "metadata": {
        "id": "Wm_U5C77sLDe",
        "outputId": "14a873c0-0d0a-4428-8892-7826078d0350",
        "colab": {
          "base_uri": "https://localhost:8080/"
        }
      },
      "id": "Wm_U5C77sLDe",
      "execution_count": 60,
      "outputs": [
        {
          "output_type": "execute_result",
          "data": {
            "text/plain": [
              "SVC(C=10, kernel='linear')"
            ]
          },
          "metadata": {},
          "execution_count": 60
        }
      ]
    },
    {
      "cell_type": "code",
      "source": [
        "print(classification_report(svc1.predict(X_test), y_test))\n",
        "print(classification_report(svc2.predict(X_test), y_test))\n",
        "print(classification_report(svc3.predict(X_test), y_test))"
      ],
      "metadata": {
        "id": "-bbEj4Rkrgpf",
        "outputId": "8e1ba71d-1f4e-4a59-d314-af7f21ecc46b",
        "colab": {
          "base_uri": "https://localhost:8080/"
        }
      },
      "id": "-bbEj4Rkrgpf",
      "execution_count": 61,
      "outputs": [
        {
          "output_type": "stream",
          "name": "stdout",
          "text": [
            "              precision    recall  f1-score   support\n",
            "\n",
            "           0       0.97      0.85      0.91        34\n",
            "           1       0.38      0.75      0.50         4\n",
            "\n",
            "    accuracy                           0.84        38\n",
            "   macro avg       0.67      0.80      0.70        38\n",
            "weighted avg       0.90      0.84      0.86        38\n",
            "\n",
            "              precision    recall  f1-score   support\n",
            "\n",
            "           0       0.97      0.94      0.95        31\n",
            "           1       0.75      0.86      0.80         7\n",
            "\n",
            "    accuracy                           0.92        38\n",
            "   macro avg       0.86      0.90      0.88        38\n",
            "weighted avg       0.93      0.92      0.92        38\n",
            "\n",
            "              precision    recall  f1-score   support\n",
            "\n",
            "           0       0.93      0.93      0.93        30\n",
            "           1       0.75      0.75      0.75         8\n",
            "\n",
            "    accuracy                           0.89        38\n",
            "   macro avg       0.84      0.84      0.84        38\n",
            "weighted avg       0.89      0.89      0.89        38\n",
            "\n"
          ]
        }
      ]
    },
    {
      "cell_type": "markdown",
      "id": "touched-resource",
      "metadata": {
        "id": "touched-resource"
      },
      "source": [
        "### Логистическая регрессия и SVM на менее приятных данных (если есть время)"
      ]
    },
    {
      "cell_type": "markdown",
      "id": "accessible-cleanup",
      "metadata": {
        "id": "accessible-cleanup"
      },
      "source": [
        "Мы будем работать с [набором данных](https://www.kaggle.com/piyushgoyal443/red-wine-dataset?select=wineQualityReds.csv), содержащим информацию о характеристиках вина. Каждое наблюдение принадлежит к одному из 10 категорий качества вина, и наша задача заключается в том, что предсказать эту категорию. "
      ]
    },
    {
      "cell_type": "code",
      "execution_count": 33,
      "id": "multiple-humor",
      "metadata": {
        "id": "multiple-humor",
        "outputId": "86a9444f-7d95-44bd-e751-77934eaddaaf",
        "colab": {
          "base_uri": "https://localhost:8080/",
          "height": 206
        }
      },
      "outputs": [
        {
          "output_type": "execute_result",
          "data": {
            "text/plain": [
              "   fixed.acidity  volatile.acidity  citric.acid  residual.sugar  chlorides  \\\n",
              "1            7.4              0.70         0.00             1.9      0.076   \n",
              "2            7.8              0.88         0.00             2.6      0.098   \n",
              "3            7.8              0.76         0.04             2.3      0.092   \n",
              "4           11.2              0.28         0.56             1.9      0.075   \n",
              "5            7.4              0.70         0.00             1.9      0.076   \n",
              "\n",
              "   free.sulfur.dioxide  total.sulfur.dioxide  density    pH  sulphates  \\\n",
              "1                 11.0                  34.0   0.9978  3.51       0.56   \n",
              "2                 25.0                  67.0   0.9968  3.20       0.68   \n",
              "3                 15.0                  54.0   0.9970  3.26       0.65   \n",
              "4                 17.0                  60.0   0.9980  3.16       0.58   \n",
              "5                 11.0                  34.0   0.9978  3.51       0.56   \n",
              "\n",
              "   alcohol  quality  \n",
              "1      9.4        5  \n",
              "2      9.8        5  \n",
              "3      9.8        5  \n",
              "4      9.8        6  \n",
              "5      9.4        5  "
            ],
            "text/html": [
              "<div>\n",
              "<style scoped>\n",
              "    .dataframe tbody tr th:only-of-type {\n",
              "        vertical-align: middle;\n",
              "    }\n",
              "\n",
              "    .dataframe tbody tr th {\n",
              "        vertical-align: top;\n",
              "    }\n",
              "\n",
              "    .dataframe thead th {\n",
              "        text-align: right;\n",
              "    }\n",
              "</style>\n",
              "<table border=\"1\" class=\"dataframe\">\n",
              "  <thead>\n",
              "    <tr style=\"text-align: right;\">\n",
              "      <th></th>\n",
              "      <th>fixed.acidity</th>\n",
              "      <th>volatile.acidity</th>\n",
              "      <th>citric.acid</th>\n",
              "      <th>residual.sugar</th>\n",
              "      <th>chlorides</th>\n",
              "      <th>free.sulfur.dioxide</th>\n",
              "      <th>total.sulfur.dioxide</th>\n",
              "      <th>density</th>\n",
              "      <th>pH</th>\n",
              "      <th>sulphates</th>\n",
              "      <th>alcohol</th>\n",
              "      <th>quality</th>\n",
              "    </tr>\n",
              "  </thead>\n",
              "  <tbody>\n",
              "    <tr>\n",
              "      <th>1</th>\n",
              "      <td>7.4</td>\n",
              "      <td>0.70</td>\n",
              "      <td>0.00</td>\n",
              "      <td>1.9</td>\n",
              "      <td>0.076</td>\n",
              "      <td>11.0</td>\n",
              "      <td>34.0</td>\n",
              "      <td>0.9978</td>\n",
              "      <td>3.51</td>\n",
              "      <td>0.56</td>\n",
              "      <td>9.4</td>\n",
              "      <td>5</td>\n",
              "    </tr>\n",
              "    <tr>\n",
              "      <th>2</th>\n",
              "      <td>7.8</td>\n",
              "      <td>0.88</td>\n",
              "      <td>0.00</td>\n",
              "      <td>2.6</td>\n",
              "      <td>0.098</td>\n",
              "      <td>25.0</td>\n",
              "      <td>67.0</td>\n",
              "      <td>0.9968</td>\n",
              "      <td>3.20</td>\n",
              "      <td>0.68</td>\n",
              "      <td>9.8</td>\n",
              "      <td>5</td>\n",
              "    </tr>\n",
              "    <tr>\n",
              "      <th>3</th>\n",
              "      <td>7.8</td>\n",
              "      <td>0.76</td>\n",
              "      <td>0.04</td>\n",
              "      <td>2.3</td>\n",
              "      <td>0.092</td>\n",
              "      <td>15.0</td>\n",
              "      <td>54.0</td>\n",
              "      <td>0.9970</td>\n",
              "      <td>3.26</td>\n",
              "      <td>0.65</td>\n",
              "      <td>9.8</td>\n",
              "      <td>5</td>\n",
              "    </tr>\n",
              "    <tr>\n",
              "      <th>4</th>\n",
              "      <td>11.2</td>\n",
              "      <td>0.28</td>\n",
              "      <td>0.56</td>\n",
              "      <td>1.9</td>\n",
              "      <td>0.075</td>\n",
              "      <td>17.0</td>\n",
              "      <td>60.0</td>\n",
              "      <td>0.9980</td>\n",
              "      <td>3.16</td>\n",
              "      <td>0.58</td>\n",
              "      <td>9.8</td>\n",
              "      <td>6</td>\n",
              "    </tr>\n",
              "    <tr>\n",
              "      <th>5</th>\n",
              "      <td>7.4</td>\n",
              "      <td>0.70</td>\n",
              "      <td>0.00</td>\n",
              "      <td>1.9</td>\n",
              "      <td>0.076</td>\n",
              "      <td>11.0</td>\n",
              "      <td>34.0</td>\n",
              "      <td>0.9978</td>\n",
              "      <td>3.51</td>\n",
              "      <td>0.56</td>\n",
              "      <td>9.4</td>\n",
              "      <td>5</td>\n",
              "    </tr>\n",
              "  </tbody>\n",
              "</table>\n",
              "</div>"
            ]
          },
          "metadata": {},
          "execution_count": 33
        }
      ],
      "source": [
        "data = pd.read_csv(\"https://raw.githubusercontent.com/hse-ds/iad-intro-ds/master/2023/seminars/sem09_logit_svm/wineQualityReds.csv\", index_col=0)\n",
        "data.head()"
      ]
    },
    {
      "cell_type": "markdown",
      "id": "german-artwork",
      "metadata": {
        "id": "german-artwork"
      },
      "source": [
        "Как указано в описании набора, в нём нет пропущенных значений, и все переменные являются непрерывными. Целевая переменная – `quality`. "
      ]
    },
    {
      "cell_type": "markdown",
      "id": "crazy-moses",
      "metadata": {
        "id": "crazy-moses"
      },
      "source": [
        "**Задание 1.** Перейдём к задаче бинарной классификации и будем предсказывать только наиболее популярную категорию качества. Закодируйте столбец `quality` так, чтобы наиболее частая категория (это категория 5) получила метку 1, а все прочие категории – метку -1."
      ]
    },
    {
      "cell_type": "code",
      "execution_count": 34,
      "id": "prepared-laser",
      "metadata": {
        "id": "prepared-laser"
      },
      "outputs": [],
      "source": [
        "data[\"target\"] = (data[\"quality\"] == 5).astype(int).replace({0: -1})"
      ]
    },
    {
      "cell_type": "markdown",
      "id": "steady-ecology",
      "metadata": {
        "id": "steady-ecology"
      },
      "source": [
        "**Задание 2.** Разделите признаки и целевую переменную. Разделите выборку на тренировочную и тестовую, долю тестовой выборки укажите равной 0.3. При помощи `StandardScaler` отмасштабируйте тренировочную и тестовую выборки. "
      ]
    },
    {
      "cell_type": "code",
      "execution_count": 35,
      "id": "beneficial-perry",
      "metadata": {
        "id": "beneficial-perry"
      },
      "outputs": [],
      "source": [
        "X_train, X_test, y_train, y_test = train_test_split(\n",
        "    data.drop(columns=[\"target\", \"quality\"]), data[\"target\"], test_size=0.3\n",
        ")\n",
        "\n",
        "# Отмасштабируйте признаки\n",
        "ss = StandardScaler()\n",
        "X_train = ss.fit_transform(X_train)\n",
        "X_test = ss.transform(X_test)"
      ]
    },
    {
      "cell_type": "markdown",
      "id": "quick-replica",
      "metadata": {
        "id": "quick-replica"
      },
      "source": [
        "**Задание 3.** При помощи кросс-валидации (параметры выберите сами) подберите оптимальные значения коэффициентов регуляризации для логистической регрессии и SVM с линейным ядром. Обучите модели с этими параметрами. Убедитесь, что доля правильных ответов – не лучший вариант для нашей задачи и рассчитайте F-меру на тестовой выборке. Какой алгоритм показал себя лучше? \n",
        "\n",
        " **Бонус для самых отважных:** качество работы SVM можно улучшить за счёт применения ядер, после чего разделяющая поверхность становится нелинейной. Если вам интересно, попросите семинариста рассказать об этом подробнее.  "
      ]
    },
    {
      "cell_type": "code",
      "execution_count": 36,
      "id": "destroyed-cooling",
      "metadata": {
        "id": "destroyed-cooling"
      },
      "outputs": [],
      "source": [
        "scores_lr = []\n",
        "scores_svm = []\n",
        "\n",
        "for c in np.arange(0.1, 10, 1):\n",
        "    lr = LogisticRegression(C=c)\n",
        "    svm = SVC(C=c)\n",
        "\n",
        "    lr.fit(X_train, y_train)\n",
        "    svm.fit(X_train, y_train)\n",
        "\n",
        "    pred_lr = lr.predict(X_test)\n",
        "    pred_svm = svm.predict(X_test)\n",
        "\n",
        "    scores_lr.append(\n",
        "        {\"acc\": accuracy_score(y_test, pred_lr), \"f1\": f1_score(y_test, pred_lr)}\n",
        "    )\n",
        "    scores_svm.append(\n",
        "        {\"acc\": accuracy_score(y_test, pred_svm), \"f1\": f1_score(y_test, pred_svm)}\n",
        "    )"
      ]
    },
    {
      "cell_type": "code",
      "source": [
        "scores_lr"
      ],
      "metadata": {
        "id": "HUhaIf9gqicY",
        "outputId": "95db3e00-4f18-4842-a603-96a3eae2247f",
        "colab": {
          "base_uri": "https://localhost:8080/"
        }
      },
      "id": "HUhaIf9gqicY",
      "execution_count": 37,
      "outputs": [
        {
          "output_type": "execute_result",
          "data": {
            "text/plain": [
              "[{'acc': 0.7291666666666666, 'f1': 0.6813725490196078},\n",
              " {'acc': 0.7291666666666666, 'f1': 0.6829268292682926},\n",
              " {'acc': 0.7291666666666666, 'f1': 0.6829268292682926},\n",
              " {'acc': 0.7291666666666666, 'f1': 0.6829268292682926},\n",
              " {'acc': 0.7291666666666666, 'f1': 0.6829268292682926},\n",
              " {'acc': 0.7291666666666666, 'f1': 0.6829268292682926},\n",
              " {'acc': 0.7291666666666666, 'f1': 0.6829268292682926},\n",
              " {'acc': 0.7291666666666666, 'f1': 0.6829268292682926},\n",
              " {'acc': 0.7291666666666666, 'f1': 0.6829268292682926},\n",
              " {'acc': 0.7291666666666666, 'f1': 0.6829268292682926}]"
            ]
          },
          "metadata": {},
          "execution_count": 37
        }
      ]
    },
    {
      "cell_type": "code",
      "source": [
        "scores_svm"
      ],
      "metadata": {
        "id": "DtlczoiPqmYd",
        "outputId": "28e6f444-1422-4107-a136-1a25b7c9a9dd",
        "colab": {
          "base_uri": "https://localhost:8080/"
        }
      },
      "id": "DtlczoiPqmYd",
      "execution_count": 38,
      "outputs": [
        {
          "output_type": "execute_result",
          "data": {
            "text/plain": [
              "[{'acc': 0.7291666666666666, 'f1': 0.6733668341708543},\n",
              " {'acc': 0.7375, 'f1': 0.6985645933014354},\n",
              " {'acc': 0.7541666666666667, 'f1': 0.7190476190476192},\n",
              " {'acc': 0.75625, 'f1': 0.7220902612826603},\n",
              " {'acc': 0.7541666666666667, 'f1': 0.7242990654205607},\n",
              " {'acc': 0.75625, 'f1': 0.7285382830626449},\n",
              " {'acc': 0.75625, 'f1': 0.7285382830626449},\n",
              " {'acc': 0.75625, 'f1': 0.7272727272727273},\n",
              " {'acc': 0.75, 'f1': 0.7209302325581396},\n",
              " {'acc': 0.75, 'f1': 0.7235023041474653}]"
            ]
          },
          "metadata": {},
          "execution_count": 38
        }
      ]
    },
    {
      "cell_type": "markdown",
      "id": "c0d90ec9",
      "metadata": {
        "id": "c0d90ec9"
      },
      "source": [
        "## Метрики классификации "
      ]
    },
    {
      "cell_type": "markdown",
      "id": "e1af0fa6",
      "metadata": {
        "id": "e1af0fa6"
      },
      "source": [
        "1.accuracy\n",
        "\n",
        "2.precision \n",
        "\n",
        "3.recall\n",
        "\n",
        "4.f1 \n",
        "\n",
        "5.pr-recall curve\n",
        "\n",
        "6.roc - auc"
      ]
    },
    {
      "cell_type": "code",
      "execution_count": 62,
      "id": "e4f13f7e",
      "metadata": {
        "id": "e4f13f7e"
      },
      "outputs": [],
      "source": [
        "n = 500\n",
        "# True labels\n",
        "y = np.random.randint(0, 2, 500)\n",
        "# Predicted labels\n",
        "p = (np.random.random(500) > 0.5).astype(int)"
      ]
    },
    {
      "cell_type": "code",
      "execution_count": 63,
      "id": "58363cb2",
      "metadata": {
        "id": "58363cb2"
      },
      "outputs": [],
      "source": [
        "def accuracy(y, p):\n",
        "    return sum(y == p) / len(y)\n",
        "\n",
        "\n",
        "def precision(y, p):\n",
        "    (TN, FP), (FN, TP) = confusion_matrix(y, p)\n",
        "\n",
        "    return TP / (TP + FN)\n",
        "\n",
        "\n",
        "def recall(y, p):\n",
        "    (TN, FP), (FN, TP) = confusion_matrix(y, p)\n",
        "\n",
        "    return TP / (TP + FP)\n",
        "\n",
        "\n",
        "def f1(y, p, beta=1):\n",
        "    re = recall(y, p)\n",
        "    pr = precision(y, p)\n",
        "\n",
        "    return (1 + beta**2) * pr * re / (beta**2 * pr + re)"
      ]
    },
    {
      "cell_type": "code",
      "execution_count": 64,
      "id": "c8f45ec2",
      "metadata": {
        "id": "c8f45ec2",
        "outputId": "6299a80b-558c-4641-941c-4c5cc29ecadd",
        "colab": {
          "base_uri": "https://localhost:8080/"
        }
      },
      "outputs": [
        {
          "output_type": "stream",
          "name": "stdout",
          "text": [
            "acc 0.508\n",
            "pr 0.5350553505535055\n",
            "re 0.5471698113207547\n",
            "f1 0.5410447761194029\n"
          ]
        }
      ],
      "source": [
        "metric_dict = {\"acc\": accuracy, \"pr\": precision, \"re\": recall, \"f1\": f1}\n",
        "for title, func in metric_dict.items():\n",
        "    print(title, func(y, p))"
      ]
    },
    {
      "cell_type": "code",
      "execution_count": 65,
      "id": "c257b86e",
      "metadata": {
        "id": "c257b86e",
        "outputId": "4e738c11-675e-45d7-c700-4b61848bcc6c",
        "colab": {
          "base_uri": "https://localhost:8080/"
        }
      },
      "outputs": [
        {
          "output_type": "stream",
          "name": "stdout",
          "text": [
            "              precision    recall  f1-score   support\n",
            "\n",
            "           0       0.46      0.48      0.47       229\n",
            "           1       0.55      0.54      0.54       271\n",
            "\n",
            "    accuracy                           0.51       500\n",
            "   macro avg       0.51      0.51      0.51       500\n",
            "weighted avg       0.51      0.51      0.51       500\n",
            "\n"
          ]
        }
      ],
      "source": [
        "print(classification_report(y, p))"
      ]
    },
    {
      "cell_type": "markdown",
      "id": "neutral-notebook",
      "metadata": {
        "id": "neutral-notebook"
      },
      "source": [
        "### ROC-кривая"
      ]
    },
    {
      "cell_type": "markdown",
      "id": "marine-parish",
      "metadata": {
        "id": "marine-parish"
      },
      "source": [
        "Ранее мы узнали, что помимо accuracy в задачах классификации так же используются precision, recall и f-мера. Теперь пришло время познакомиться с ещё одной метрикой – ROC AUC.\n",
        "\n",
        "Для начала вспомним, что мы работаем с матрицей ошибок:\n",
        "\n",
        "|       | alg = 1          | alg = -1    |\n",
        "|-------| -----------------|-------------|\n",
        "|y = 1  |TP                |FN           |\n",
        "|y = -1 |FP                | TN          |\n",
        "\n",
        "Определим следующие величины:\n",
        "\n",
        "$$\n",
        "TPR \\text{ (true positive rate, recall, sensitivity)} = \\dfrac{TP}{TP + FN}\n",
        "$$\n",
        "– доля правильно предсказанных объектов положительного класса.\n",
        "\n",
        "$$\n",
        "FPR \\text{ (false positive rate, 1 - specificity)} = \\dfrac{FP}{FP + TN}\n",
        "$$\n",
        "– доля неправильно предсказанных объектов отрицательного класса.\n",
        "\n",
        "Рассмотрим задачу мягкой классификации: мы предказываем вероятности принадлежности наблюдения к положительному и отрицательному классам. Тогда TPR и FPR будут зависеть от порога для вероятности, выше которого наблюдение будет отнесено к положительному классу. ROC-кривая строится в координатах $(FPR, TPR)$ и показывает комбинации TPR и FPR при всевозможных значениях порога. \n",
        "\n",
        "Для хорошего классификатора эта кривая является вогнутой, а для идеального классификатора она будет проходить через точку $(0, 1)$ (почему?).\n",
        "\n",
        "[<img src=\"https://upload.wikimedia.org/wikipedia/commons/6/6b/Roccurves.png\" alt=\"drawing\" width=\"350\"/>](https://ru.wikipedia.org/wiki/ROC-кривая)\n",
        "\n",
        "\n",
        "\n",
        "**Задание 1.** Постройте ROC-кривую для следующей выборки."
      ]
    },
    {
      "cell_type": "code",
      "execution_count": 66,
      "id": "convertible-leader",
      "metadata": {
        "id": "convertible-leader"
      },
      "outputs": [],
      "source": [
        "# True labels\n",
        "y = [-1, 1, 1, -1, 1, 1]\n",
        "# Predicted labels\n",
        "p = [0.5, 0.1, 0.2, 0.9, 0.7, 0.1]"
      ]
    },
    {
      "cell_type": "markdown",
      "id": "worst-machinery",
      "metadata": {
        "id": "worst-machinery"
      },
      "source": [
        "**Решение:**\n",
        "1. Упорядочим наблюдения по **убыванию** ответов алгоритма."
      ]
    },
    {
      "cell_type": "code",
      "execution_count": 67,
      "id": "desirable-bleeding",
      "metadata": {
        "id": "desirable-bleeding"
      },
      "outputs": [],
      "source": [
        "y = [-1, 1, -1, 1, 1, 1]\n",
        "p = [0.9, 0.7, 0.5, 0.2, 0.1, 0.1]"
      ]
    },
    {
      "cell_type": "markdown",
      "id": "virtual-crack",
      "metadata": {
        "id": "virtual-crack"
      },
      "source": [
        "2. Разобьём единичный квадрат на $(m, n)$ частей, где $m$ – число 1 в $y$, $n$ – число нулей. Стартуем из точки $(0, 0)$. Если значение $y$ равно 1, делаем шаг вверх, а если -1 – вправо. Понятно, что конечная точка нашего маршрута – точка $(1, 1)$.\n",
        "\n",
        "**Важный момент:** если у нескольких объектов значения предсказаний равны, а $y$ – различны, то мы должны сделать ход \"по диагонали\". \n",
        "\n",
        "Если построить кривую по этому алгоритму, то получим:"
      ]
    },
    {
      "cell_type": "code",
      "execution_count": 68,
      "id": "substantial-louis",
      "metadata": {
        "id": "substantial-louis",
        "outputId": "24f75ee3-1fe0-43da-c120-13278e780ab9",
        "colab": {
          "base_uri": "https://localhost:8080/",
          "height": 499
        }
      },
      "outputs": [
        {
          "output_type": "display_data",
          "data": {
            "text/plain": [
              "<Figure size 576x576 with 1 Axes>"
            ],
            "image/png": "[encoded data removed]"
          },
          "metadata": {
            "needs_background": "light"
          }
        }
      ],
      "source": [
        "fpr, tpr, _ = roc_curve(y, p)\n",
        "\n",
        "plt.figure(figsize=(8, 8))\n",
        "plt.plot(fpr, tpr, label=\"ROC\")\n",
        "plt.axvline(0.5, linestyle=\"dotted\", c=\"red\")\n",
        "plt.axhline(0.25, linestyle=\"dotted\", c=\"red\")\n",
        "plt.axhline(0.5, linestyle=\"dotted\", c=\"red\")\n",
        "plt.axhline(0.75, linestyle=\"dotted\", c=\"red\")\n",
        "plt.axhline(1.0, linestyle=\"dotted\", c=\"red\")\n",
        "plt.title(\"Красные линии показывают разбиение единичного квадрата на m и n частей\")\n",
        "plt.legend();"
      ]
    },
    {
      "cell_type": "markdown",
      "id": "manufactured-lyric",
      "metadata": {
        "id": "manufactured-lyric"
      },
      "source": [
        "3. Полученная кривая и является ROC-кривой. \n",
        "\n",
        "**(Почему этот алгоритм имеет смысл?)**"
      ]
    },
    {
      "cell_type": "markdown",
      "id": "arctic-scott",
      "metadata": {
        "id": "arctic-scott"
      },
      "source": [
        "**Пример с диагональным шагом.**"
      ]
    },
    {
      "cell_type": "code",
      "execution_count": 69,
      "id": "wireless-worship",
      "metadata": {
        "id": "wireless-worship"
      },
      "outputs": [],
      "source": [
        "p = [0.5, 0.1, 0.2, 0.6, 0.2, 0.3, 0.0]\n",
        "y = [-1, -1, -1, 1, 1, 1, -1]"
      ]
    },
    {
      "cell_type": "code",
      "execution_count": 70,
      "id": "bizarre-farming",
      "metadata": {
        "id": "bizarre-farming"
      },
      "outputs": [],
      "source": [
        "fpr, tpr, _ = roc_curve(y, p)"
      ]
    },
    {
      "cell_type": "code",
      "execution_count": 71,
      "id": "likely-facial",
      "metadata": {
        "id": "likely-facial",
        "outputId": "d295e6ad-b51d-4956-9298-8176501d719f",
        "colab": {
          "base_uri": "https://localhost:8080/",
          "height": 499
        }
      },
      "outputs": [
        {
          "output_type": "display_data",
          "data": {
            "text/plain": [
              "<Figure size 576x576 with 1 Axes>"
            ],
            "image/png": "[encoded data removed]"
          },
          "metadata": {
            "needs_background": "light"
          }
        }
      ],
      "source": [
        "plt.figure(figsize=(8, 8))\n",
        "plt.plot(fpr, tpr, label=\"ROC\")\n",
        "plt.axvline(0.25, linestyle=\"dotted\", c=\"red\")\n",
        "plt.axvline(0.5, linestyle=\"dotted\", c=\"red\")\n",
        "plt.axvline(0.75, linestyle=\"dotted\", c=\"red\")\n",
        "plt.axvline(1.0, linestyle=\"dotted\", c=\"red\")\n",
        "plt.axhline(0.33, linestyle=\"dotted\", c=\"red\")\n",
        "plt.axhline(0.66, linestyle=\"dotted\", c=\"red\")\n",
        "plt.axhline(1.0, linestyle=\"dotted\", c=\"red\")\n",
        "plt.title(\"Красные линии показывают разбиение единичного квадрата на m и n частей\")\n",
        "plt.legend();"
      ]
    },
    {
      "cell_type": "markdown",
      "id": "present-hurricane",
      "metadata": {
        "id": "present-hurricane"
      },
      "source": [
        "**Задание 2.** ROC AUC – площадь под ROC-кривой – равна доле пар наблюдений $(y = 1, y = -1)$, которые алгоритм верно упорядочил. Таким образом, чем больше ROC AUC, тем качественнее отработал классификатор. Вычислите ROC AUC для построенной ROC-кривой из первого примера. "
      ]
    },
    {
      "cell_type": "markdown",
      "id": "prescription-indiana",
      "metadata": {
        "id": "prescription-indiana"
      },
      "source": [
        "**Решение:**"
      ]
    },
    {
      "cell_type": "code",
      "execution_count": null,
      "id": "complicated-istanbul",
      "metadata": {
        "id": "complicated-istanbul",
        "outputId": "d1933433-5e22-41d2-ee28-af0c5f51dc84"
      },
      "outputs": [
        {
          "data": {
            "text/plain": [
              "0.125"
            ]
          },
          "execution_count": 52,
          "metadata": {},
          "output_type": "execute_result"
        }
      ],
      "source": [
        "0.25 * 0.5"
      ]
    },
    {
      "cell_type": "markdown",
      "id": "colored-hebrew",
      "metadata": {
        "id": "colored-hebrew"
      },
      "source": [
        "**Задание 3.** Как выглядит ROC-кривая для случайного классификатора? \n",
        "\n",
        "\n",
        "**Задание 4.** Как по ROC-кривой выбрать порог для бинаризации?"
      ]
    },
    {
      "cell_type": "markdown",
      "id": "expensive-spyware",
      "metadata": {
        "id": "expensive-spyware"
      },
      "source": [
        "В `sklearn` реализовано вычисление значений ROC-кривой и площади под ней. "
      ]
    },
    {
      "cell_type": "code",
      "execution_count": 72,
      "id": "corresponding-target",
      "metadata": {
        "id": "corresponding-target"
      },
      "outputs": [],
      "source": [
        "from sklearn.metrics import auc, roc_curve"
      ]
    },
    {
      "cell_type": "markdown",
      "id": "premier-merchandise",
      "metadata": {
        "id": "premier-merchandise"
      },
      "source": [
        "**Важно:** в `roc_curve` передаются предсказанные вероятности!"
      ]
    },
    {
      "cell_type": "markdown",
      "id": "searching-crystal",
      "metadata": {
        "id": "searching-crystal"
      },
      "source": [
        "**Задание 5.** Постройте ROC-кривую и рассчитайте площадь под ней для логистической регрессии на данных о вине. О чём говорит такая форма кривой?"
      ]
    },
    {
      "cell_type": "code",
      "execution_count": 75,
      "id": "driving-doubt",
      "metadata": {
        "id": "driving-doubt"
      },
      "outputs": [],
      "source": [
        "lr = LogisticRegression()\n",
        "lr.fit(X_train, y_train)\n",
        "\n",
        "tpr, fpr, t = roc_curve(y_train, lr.predict_proba(X_train)[:, 1])"
      ]
    },
    {
      "cell_type": "code",
      "source": [
        "plt.plot(fpr, tpr)"
      ],
      "metadata": {
        "id": "_x24l8I7wpRu",
        "outputId": "8449d087-7bb6-48cd-a80e-51939ab442e3",
        "colab": {
          "base_uri": "https://localhost:8080/",
          "height": 282
        }
      },
      "id": "_x24l8I7wpRu",
      "execution_count": 74,
      "outputs": [
        {
          "output_type": "execute_result",
          "data": {
            "text/plain": [
              "[<matplotlib.lines.Line2D at 0x277b84abca0>]"
            ]
          },
          "metadata": {},
          "execution_count": 74
        },
        {
          "output_type": "display_data",
          "data": {
            "text/plain": [
              "<Figure size 432x288 with 1 Axes>"
            ],
            "image/png": "[encoded data removed]"
          },
          "metadata": {
            "needs_background": "light"
          }
        }
      ]
    },
    {
      "cell_type": "code",
      "source": [
        "t"
      ],
      "metadata": {
        "id": "41yaWnfmxFxe",
        "outputId": "067e1d73-eb1e-4fef-b0b2-175e668c9eed",
        "colab": {
          "base_uri": "https://localhost:8080/"
        }
      },
      "id": "41yaWnfmxFxe",
      "execution_count": 76,
      "outputs": [
        {
          "output_type": "execute_result",
          "data": {
            "text/plain": [
              "array([1.87543997, 0.87543997, 0.77672169, 0.74034035, 0.72692636,\n",
              "       0.70487972, 0.70260399, 0.67945956, 0.65292794, 0.63721108,\n",
              "       0.61862352, 0.58309345, 0.56851818, 0.55873334, 0.52689675,\n",
              "       0.51200107, 0.50702979, 0.49211155, 0.48714061, 0.45517544,\n",
              "       0.44802579, 0.43552329, 0.42357542, 0.41607166, 0.40427523,\n",
              "       0.39949365, 0.39473115, 0.3758882 , 0.36660187, 0.35285797,\n",
              "       0.35081077, 0.34382716, 0.34180468, 0.30043864, 0.29667868,\n",
              "       0.27635261, 0.27239223, 0.26632927, 0.25483215, 0.25313122,\n",
              "       0.23318364, 0.22079941, 0.2192588 , 0.17401101, 0.16836662,\n",
              "       0.14476307, 0.14231761, 0.11467431, 0.11267017, 0.06138483,\n",
              "       0.05485745, 0.01296158])"
            ]
          },
          "metadata": {},
          "execution_count": 76
        }
      ]
    },
    {
      "cell_type": "markdown",
      "source": [
        "![image.png](data:image/png;base64,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)"
      ],
      "metadata": {
        "id": "9RDavT4ywGPJ"
      },
      "id": "9RDavT4ywGPJ"
    },
    {
      "cell_type": "markdown",
      "id": "narrow-martial",
      "metadata": {
        "id": "narrow-martial"
      },
      "source": [
        "### Бонус для самых смелых: вывод логистической регрессии через правдоподобие\n",
        "\n",
        "Перекодируем $y$ так, что её возможные значения – это 0 и 1. Теперь $y$ является случайной величиной из распределения Бернулли. Тогда сигмоида задаёт условную вероятность принадлежности $y$ к положительному классу:\n",
        "\n",
        "$$\n",
        "P(y_i = 1 | x_i, w) = \\sigma(x_i, w).\n",
        "$$\n",
        "\n",
        "Будем искать оценку коэффициентов $w$ при помощи метода максимального правдоподобия.\n",
        "\n",
        "$$\n",
        "\\mathcal{L} = \\sigma(x_i, w)^{\\sum_i y_i}(1 - \\sigma(x_i, w))^{\\sum_i 1 - y_i}\n",
        "$$\n",
        "\n",
        "Логарифмируем:\n",
        "\n",
        "$$\n",
        "\\mathcal{l} = \\sum_i y_i \\log\\sigma(x_i, w) + (1 - y_i)(1 - \\log\\sigma(x_i, w))\n",
        "$$\n",
        "\n",
        "Если теперь взять среднее, то мы получим log-loss, взятый со знаком минус. Таким образом, минимизация функции потерь в логистической регрессии эквивалентна  максимизации правдоподобия в задаче нахождения оценок $w$!"
      ]
    }
  ],
  "metadata": {
    "kernelspec": {
      "display_name": "Python 3 (ipykernel)",
      "language": "python",
      "name": "python3"
    },
    "language_info": {
      "codemirror_mode": {
        "name": "ipython",
        "version": 3
      },
      "file_extension": ".py",
      "mimetype": "text/x-python",
      "name": "python",
      "nbconvert_exporter": "python",
      "pygments_lexer": "ipython3",
      "version": "3.10.10"
    },
    "colab": {
      "provenance": []
    }
  },
  "nbformat": 4,
  "nbformat_minor": 5
}